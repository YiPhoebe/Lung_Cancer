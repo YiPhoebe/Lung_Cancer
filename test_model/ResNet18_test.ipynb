{
 "cells": [
  {
   "cell_type": "code",
   "execution_count": 1,
   "metadata": {},
   "outputs": [
    {
     "name": "stdout",
     "output_type": "stream",
     "text": [
      "현재 PID: 4120241\n"
     ]
    }
   ],
   "source": [
    "import os\n",
    "print(f\"현재 PID: {os.getpid()}\")"
   ]
  },
  {
   "cell_type": "code",
   "execution_count": null,
   "metadata": {},
   "outputs": [],
   "source": [
    "import torch\n",
    "from my_model import ResNet18_CBAM_MGA\n",
    "\n",
    "model = ResNet18_CBAM_MGA()\n",
    "print(f\"Total params: {sum(p.numel() for p in model.parameters()):,}\")"
   ]
  },
  {
   "cell_type": "code",
   "execution_count": null,
   "metadata": {},
   "outputs": [
    {
     "name": "stdout",
     "output_type": "stream",
     "text": [
      "Using device: cuda:1\n"
     ]
    },
    {
     "name": "stderr",
     "output_type": "stream",
     "text": [
      "[Epoch 1]: 100%|██████████| 234/234 [00:06<00:00, 33.46it/s]\n"
     ]
    },
    {
     "name": "stdout",
     "output_type": "stream",
     "text": [
      "Train Acc: 64.9518, Loss: 0.6524\n",
      "Val Acc: 0.6887\n",
      "✅ Saved best model!\n"
     ]
    },
    {
     "name": "stderr",
     "output_type": "stream",
     "text": [
      "[Epoch 2]: 100%|██████████| 234/234 [00:08<00:00, 28.22it/s]\n"
     ]
    },
    {
     "name": "stdout",
     "output_type": "stream",
     "text": [
      "Train Acc: 65.6752, Loss: 0.6412\n",
      "Val Acc: 0.6887\n"
     ]
    },
    {
     "name": "stderr",
     "output_type": "stream",
     "text": [
      "[Epoch 3]: 100%|██████████| 234/234 [00:10<00:00, 22.75it/s]\n"
     ]
    },
    {
     "name": "stdout",
     "output_type": "stream",
     "text": [
      "Train Acc: 65.9164, Loss: 0.6285\n",
      "Val Acc: 0.6887\n"
     ]
    },
    {
     "name": "stderr",
     "output_type": "stream",
     "text": [
      "[Epoch 4]: 100%|██████████| 234/234 [00:11<00:00, 21.06it/s]\n"
     ]
    },
    {
     "name": "stdout",
     "output_type": "stream",
     "text": [
      "Train Acc: 67.3633, Loss: 0.6125\n",
      "Val Acc: 0.6900\n",
      "✅ Saved best model!\n"
     ]
    },
    {
     "name": "stderr",
     "output_type": "stream",
     "text": [
      "[Epoch 5]: 100%|██████████| 234/234 [00:09<00:00, 23.43it/s]\n"
     ]
    },
    {
     "name": "stdout",
     "output_type": "stream",
     "text": [
      "Train Acc: 68.4887, Loss: 0.5965\n",
      "Val Acc: 0.6900\n"
     ]
    },
    {
     "name": "stderr",
     "output_type": "stream",
     "text": [
      "[Epoch 6]: 100%|██████████| 234/234 [00:09<00:00, 24.44it/s]\n"
     ]
    },
    {
     "name": "stdout",
     "output_type": "stream",
     "text": [
      "Train Acc: 69.9893, Loss: 0.5762\n",
      "Val Acc: 0.6887\n"
     ]
    },
    {
     "name": "stderr",
     "output_type": "stream",
     "text": [
      "[Epoch 7]: 100%|██████████| 234/234 [00:09<00:00, 23.99it/s]\n"
     ]
    },
    {
     "name": "stdout",
     "output_type": "stream",
     "text": [
      "Train Acc: 72.1329, Loss: 0.5488\n",
      "Val Acc: 0.6825\n"
     ]
    },
    {
     "name": "stderr",
     "output_type": "stream",
     "text": [
      "[Epoch 8]: 100%|██████████| 234/234 [00:08<00:00, 26.71it/s]\n"
     ]
    },
    {
     "name": "stdout",
     "output_type": "stream",
     "text": [
      "Train Acc: 73.7138, Loss: 0.5298\n",
      "Val Acc: 0.6900\n"
     ]
    },
    {
     "name": "stderr",
     "output_type": "stream",
     "text": [
      "[Epoch 9]: 100%|██████████| 234/234 [00:08<00:00, 27.50it/s]\n"
     ]
    },
    {
     "name": "stdout",
     "output_type": "stream",
     "text": [
      "Train Acc: 76.0182, Loss: 0.4939\n",
      "Val Acc: 0.6837\n"
     ]
    },
    {
     "name": "stderr",
     "output_type": "stream",
     "text": [
      "[Epoch 10]: 100%|██████████| 234/234 [00:07<00:00, 29.58it/s]\n"
     ]
    },
    {
     "name": "stdout",
     "output_type": "stream",
     "text": [
      "Train Acc: 78.0279, Loss: 0.4748\n",
      "Val Acc: 0.6800\n"
     ]
    },
    {
     "name": "stderr",
     "output_type": "stream",
     "text": [
      "[Epoch 11]: 100%|██████████| 234/234 [00:07<00:00, 31.04it/s]\n"
     ]
    },
    {
     "name": "stdout",
     "output_type": "stream",
     "text": [
      "Train Acc: 80.0375, Loss: 0.4298\n",
      "Val Acc: 0.6900\n"
     ]
    },
    {
     "name": "stderr",
     "output_type": "stream",
     "text": [
      "[Epoch 12]: 100%|██████████| 234/234 [00:07<00:00, 29.41it/s]\n"
     ]
    },
    {
     "name": "stdout",
     "output_type": "stream",
     "text": [
      "Train Acc: 81.0289, Loss: 0.4176\n",
      "Val Acc: 0.6863\n"
     ]
    },
    {
     "name": "stderr",
     "output_type": "stream",
     "text": [
      "[Epoch 13]: 100%|██████████| 234/234 [00:05<00:00, 40.00it/s]\n"
     ]
    },
    {
     "name": "stdout",
     "output_type": "stream",
     "text": [
      "Train Acc: 83.6549, Loss: 0.3757\n",
      "Val Acc: 0.6913\n",
      "✅ Saved best model!\n"
     ]
    },
    {
     "name": "stderr",
     "output_type": "stream",
     "text": [
      "[Epoch 14]: 100%|██████████| 234/234 [00:06<00:00, 34.33it/s]\n"
     ]
    },
    {
     "name": "stdout",
     "output_type": "stream",
     "text": [
      "Train Acc: 84.8875, Loss: 0.3487\n",
      "Val Acc: 0.6850\n"
     ]
    },
    {
     "name": "stderr",
     "output_type": "stream",
     "text": [
      "[Epoch 15]: 100%|██████████| 234/234 [00:06<00:00, 35.42it/s]\n"
     ]
    },
    {
     "name": "stdout",
     "output_type": "stream",
     "text": [
      "Train Acc: 86.2540, Loss: 0.3233\n",
      "Val Acc: 0.6763\n"
     ]
    },
    {
     "name": "stderr",
     "output_type": "stream",
     "text": [
      "[Epoch 16]: 100%|██████████| 234/234 [00:07<00:00, 30.83it/s]\n"
     ]
    },
    {
     "name": "stdout",
     "output_type": "stream",
     "text": [
      "Train Acc: 86.8971, Loss: 0.3084\n",
      "Val Acc: 0.6925\n",
      "✅ Saved best model!\n"
     ]
    },
    {
     "name": "stderr",
     "output_type": "stream",
     "text": [
      "[Epoch 17]: 100%|██████████| 234/234 [00:08<00:00, 27.82it/s]\n"
     ]
    },
    {
     "name": "stdout",
     "output_type": "stream",
     "text": [
      "Train Acc: 88.9871, Loss: 0.2845\n",
      "Val Acc: 0.6737\n"
     ]
    },
    {
     "name": "stderr",
     "output_type": "stream",
     "text": [
      "[Epoch 18]: 100%|██████████| 234/234 [00:09<00:00, 25.15it/s]\n"
     ]
    },
    {
     "name": "stdout",
     "output_type": "stream",
     "text": [
      "Train Acc: 89.0943, Loss: 0.2626\n",
      "Val Acc: 0.6650\n"
     ]
    },
    {
     "name": "stderr",
     "output_type": "stream",
     "text": [
      "[Epoch 19]: 100%|██████████| 234/234 [00:09<00:00, 25.48it/s]\n"
     ]
    },
    {
     "name": "stdout",
     "output_type": "stream",
     "text": [
      "Train Acc: 90.3805, Loss: 0.2468\n",
      "Val Acc: 0.6775\n"
     ]
    },
    {
     "name": "stderr",
     "output_type": "stream",
     "text": [
      "[Epoch 20]: 100%|██████████| 234/234 [00:08<00:00, 27.02it/s]\n"
     ]
    },
    {
     "name": "stdout",
     "output_type": "stream",
     "text": [
      "Train Acc: 91.1040, Loss: 0.2284\n",
      "Val Acc: 0.6625\n"
     ]
    },
    {
     "name": "stderr",
     "output_type": "stream",
     "text": [
      "[Epoch 21]: 100%|██████████| 234/234 [00:08<00:00, 26.25it/s]\n"
     ]
    },
    {
     "name": "stdout",
     "output_type": "stream",
     "text": [
      "Train Acc: 91.9346, Loss: 0.2179\n",
      "Val Acc: 0.6737\n"
     ]
    },
    {
     "name": "stderr",
     "output_type": "stream",
     "text": [
      "[Epoch 22]: 100%|██████████| 234/234 [00:08<00:00, 27.88it/s]\n"
     ]
    },
    {
     "name": "stdout",
     "output_type": "stream",
     "text": [
      "Train Acc: 91.3987, Loss: 0.2167\n",
      "Val Acc: 0.6562\n"
     ]
    },
    {
     "name": "stderr",
     "output_type": "stream",
     "text": [
      "[Epoch 23]: 100%|██████████| 234/234 [00:09<00:00, 24.81it/s]\n"
     ]
    },
    {
     "name": "stdout",
     "output_type": "stream",
     "text": [
      "Train Acc: 92.9260, Loss: 0.1872\n",
      "Val Acc: 0.6750\n"
     ]
    },
    {
     "name": "stderr",
     "output_type": "stream",
     "text": [
      "[Epoch 24]: 100%|██████████| 234/234 [00:09<00:00, 25.93it/s]\n"
     ]
    },
    {
     "name": "stdout",
     "output_type": "stream",
     "text": [
      "Train Acc: 92.7653, Loss: 0.1825\n",
      "Val Acc: 0.6650\n"
     ]
    },
    {
     "name": "stderr",
     "output_type": "stream",
     "text": [
      "[Epoch 25]: 100%|██████████| 234/234 [00:08<00:00, 27.70it/s]\n"
     ]
    },
    {
     "name": "stdout",
     "output_type": "stream",
     "text": [
      "Train Acc: 93.6495, Loss: 0.1719\n",
      "Val Acc: 0.6750\n"
     ]
    },
    {
     "name": "stderr",
     "output_type": "stream",
     "text": [
      "[Epoch 26]: 100%|██████████| 234/234 [00:08<00:00, 28.84it/s]\n"
     ]
    },
    {
     "name": "stdout",
     "output_type": "stream",
     "text": [
      "Train Acc: 93.7031, Loss: 0.1623\n",
      "Val Acc: 0.6650\n"
     ]
    },
    {
     "name": "stderr",
     "output_type": "stream",
     "text": [
      "[Epoch 27]: 100%|██████████| 234/234 [00:08<00:00, 28.05it/s]\n"
     ]
    },
    {
     "name": "stdout",
     "output_type": "stream",
     "text": [
      "Train Acc: 94.4802, Loss: 0.1476\n",
      "Val Acc: 0.6787\n"
     ]
    },
    {
     "name": "stderr",
     "output_type": "stream",
     "text": [
      "[Epoch 28]: 100%|██████████| 234/234 [00:06<00:00, 34.13it/s]\n"
     ]
    },
    {
     "name": "stdout",
     "output_type": "stream",
     "text": [
      "Train Acc: 95.2840, Loss: 0.1365\n",
      "Val Acc: 0.6600\n"
     ]
    },
    {
     "name": "stderr",
     "output_type": "stream",
     "text": [
      "[Epoch 29]: 100%|██████████| 234/234 [00:07<00:00, 31.43it/s]\n"
     ]
    },
    {
     "name": "stdout",
     "output_type": "stream",
     "text": [
      "Train Acc: 93.9711, Loss: 0.1660\n",
      "Val Acc: 0.6775\n"
     ]
    },
    {
     "name": "stderr",
     "output_type": "stream",
     "text": [
      "[Epoch 30]: 100%|██████████| 234/234 [00:06<00:00, 34.52it/s]\n"
     ]
    },
    {
     "name": "stdout",
     "output_type": "stream",
     "text": [
      "Train Acc: 94.5874, Loss: 0.1432\n",
      "Val Acc: 0.6112\n"
     ]
    },
    {
     "name": "stderr",
     "output_type": "stream",
     "text": [
      "[Epoch 31]: 100%|██████████| 234/234 [00:06<00:00, 34.23it/s]\n"
     ]
    },
    {
     "name": "stdout",
     "output_type": "stream",
     "text": [
      "Train Acc: 95.1233, Loss: 0.1359\n",
      "Val Acc: 0.6512\n"
     ]
    },
    {
     "name": "stderr",
     "output_type": "stream",
     "text": [
      "[Epoch 32]: 100%|██████████| 234/234 [00:08<00:00, 26.95it/s]\n"
     ]
    },
    {
     "name": "stdout",
     "output_type": "stream",
     "text": [
      "Train Acc: 95.4716, Loss: 0.1234\n",
      "Val Acc: 0.6550\n"
     ]
    },
    {
     "name": "stderr",
     "output_type": "stream",
     "text": [
      "[Epoch 33]: 100%|██████████| 234/234 [00:08<00:00, 26.43it/s]\n"
     ]
    },
    {
     "name": "stdout",
     "output_type": "stream",
     "text": [
      "Train Acc: 95.5788, Loss: 0.1196\n",
      "Val Acc: 0.6675\n"
     ]
    },
    {
     "name": "stderr",
     "output_type": "stream",
     "text": [
      "[Epoch 34]: 100%|██████████| 234/234 [00:08<00:00, 26.62it/s]\n"
     ]
    },
    {
     "name": "stdout",
     "output_type": "stream",
     "text": [
      "Train Acc: 95.6056, Loss: 0.1147\n",
      "Val Acc: 0.6725\n"
     ]
    },
    {
     "name": "stderr",
     "output_type": "stream",
     "text": [
      "[Epoch 35]: 100%|██████████| 234/234 [00:09<00:00, 25.71it/s]\n"
     ]
    },
    {
     "name": "stdout",
     "output_type": "stream",
     "text": [
      "Train Acc: 96.0879, Loss: 0.1124\n",
      "Val Acc: 0.6637\n"
     ]
    },
    {
     "name": "stderr",
     "output_type": "stream",
     "text": [
      "[Epoch 36]: 100%|██████████| 234/234 [00:08<00:00, 27.44it/s]\n"
     ]
    },
    {
     "name": "stdout",
     "output_type": "stream",
     "text": [
      "Train Acc: 96.0879, Loss: 0.1001\n",
      "Val Acc: 0.6725\n"
     ]
    },
    {
     "name": "stderr",
     "output_type": "stream",
     "text": [
      "[Epoch 37]: 100%|██████████| 234/234 [00:08<00:00, 26.44it/s]\n"
     ]
    },
    {
     "name": "stdout",
     "output_type": "stream",
     "text": [
      "Train Acc: 95.9539, Loss: 0.1123\n",
      "Val Acc: 0.6800\n"
     ]
    },
    {
     "name": "stderr",
     "output_type": "stream",
     "text": [
      "[Epoch 38]: 100%|██████████| 234/234 [00:09<00:00, 25.12it/s]\n"
     ]
    },
    {
     "name": "stdout",
     "output_type": "stream",
     "text": [
      "Train Acc: 96.2487, Loss: 0.0966\n",
      "Val Acc: 0.6613\n"
     ]
    },
    {
     "name": "stderr",
     "output_type": "stream",
     "text": [
      "[Epoch 39]: 100%|██████████| 234/234 [00:09<00:00, 25.83it/s]\n"
     ]
    },
    {
     "name": "stdout",
     "output_type": "stream",
     "text": [
      "Train Acc: 96.8114, Loss: 0.0931\n",
      "Val Acc: 0.6362\n"
     ]
    },
    {
     "name": "stderr",
     "output_type": "stream",
     "text": [
      "[Epoch 40]: 100%|██████████| 234/234 [00:07<00:00, 29.92it/s]\n"
     ]
    },
    {
     "name": "stdout",
     "output_type": "stream",
     "text": [
      "Train Acc: 96.2219, Loss: 0.1013\n",
      "Val Acc: 0.6475\n"
     ]
    },
    {
     "name": "stderr",
     "output_type": "stream",
     "text": [
      "[Epoch 41]: 100%|██████████| 234/234 [00:08<00:00, 29.16it/s]\n"
     ]
    },
    {
     "name": "stdout",
     "output_type": "stream",
     "text": [
      "Train Acc: 96.3826, Loss: 0.1012\n",
      "Val Acc: 0.6663\n"
     ]
    },
    {
     "name": "stderr",
     "output_type": "stream",
     "text": [
      "[Epoch 42]: 100%|██████████| 234/234 [00:06<00:00, 33.92it/s]\n"
     ]
    },
    {
     "name": "stdout",
     "output_type": "stream",
     "text": [
      "Train Acc: 96.2487, Loss: 0.0976\n",
      "Val Acc: 0.6475\n"
     ]
    },
    {
     "name": "stderr",
     "output_type": "stream",
     "text": [
      "[Epoch 43]: 100%|██████████| 234/234 [00:06<00:00, 35.22it/s]\n"
     ]
    },
    {
     "name": "stdout",
     "output_type": "stream",
     "text": [
      "Train Acc: 96.9721, Loss: 0.0835\n",
      "Val Acc: 0.6663\n"
     ]
    },
    {
     "name": "stderr",
     "output_type": "stream",
     "text": [
      "[Epoch 44]: 100%|██████████| 234/234 [00:07<00:00, 32.46it/s]\n"
     ]
    },
    {
     "name": "stdout",
     "output_type": "stream",
     "text": [
      "Train Acc: 97.0257, Loss: 0.0803\n",
      "Val Acc: 0.6600\n"
     ]
    },
    {
     "name": "stderr",
     "output_type": "stream",
     "text": [
      "[Epoch 45]: 100%|██████████| 234/234 [00:06<00:00, 34.18it/s]\n"
     ]
    },
    {
     "name": "stdout",
     "output_type": "stream",
     "text": [
      "Train Acc: 96.6238, Loss: 0.0913\n",
      "Val Acc: 0.6412\n"
     ]
    },
    {
     "name": "stderr",
     "output_type": "stream",
     "text": [
      "[Epoch 46]: 100%|██████████| 234/234 [00:07<00:00, 33.38it/s]\n"
     ]
    },
    {
     "name": "stdout",
     "output_type": "stream",
     "text": [
      "Train Acc: 96.9185, Loss: 0.0892\n",
      "Val Acc: 0.6713\n"
     ]
    },
    {
     "name": "stderr",
     "output_type": "stream",
     "text": [
      "[Epoch 47]: 100%|██████████| 234/234 [00:09<00:00, 25.17it/s]\n"
     ]
    },
    {
     "name": "stdout",
     "output_type": "stream",
     "text": [
      "Train Acc: 97.0257, Loss: 0.0806\n",
      "Val Acc: 0.6562\n"
     ]
    },
    {
     "name": "stderr",
     "output_type": "stream",
     "text": [
      "[Epoch 48]: 100%|██████████| 234/234 [00:09<00:00, 25.96it/s]\n"
     ]
    },
    {
     "name": "stdout",
     "output_type": "stream",
     "text": [
      "Train Acc: 97.0257, Loss: 0.0812\n",
      "Val Acc: 0.6475\n"
     ]
    },
    {
     "name": "stderr",
     "output_type": "stream",
     "text": [
      "[Epoch 49]: 100%|██████████| 234/234 [00:09<00:00, 25.65it/s]\n"
     ]
    },
    {
     "name": "stdout",
     "output_type": "stream",
     "text": [
      "Train Acc: 97.4277, Loss: 0.0752\n",
      "Val Acc: 0.6813\n"
     ]
    },
    {
     "name": "stderr",
     "output_type": "stream",
     "text": [
      "[Epoch 50]: 100%|██████████| 234/234 [00:08<00:00, 27.66it/s]\n"
     ]
    },
    {
     "name": "stdout",
     "output_type": "stream",
     "text": [
      "Train Acc: 97.5616, Loss: 0.0646\n",
      "Val Acc: 0.6650\n"
     ]
    },
    {
     "name": "stderr",
     "output_type": "stream",
     "text": [
      "[Epoch 51]: 100%|██████████| 234/234 [00:09<00:00, 25.82it/s]\n"
     ]
    },
    {
     "name": "stdout",
     "output_type": "stream",
     "text": [
      "Train Acc: 97.6688, Loss: 0.0640\n",
      "Val Acc: 0.6475\n"
     ]
    },
    {
     "name": "stderr",
     "output_type": "stream",
     "text": [
      "[Epoch 52]: 100%|██████████| 234/234 [00:09<00:00, 25.86it/s]\n"
     ]
    },
    {
     "name": "stdout",
     "output_type": "stream",
     "text": [
      "Train Acc: 97.7224, Loss: 0.0617\n",
      "Val Acc: 0.6550\n"
     ]
    },
    {
     "name": "stderr",
     "output_type": "stream",
     "text": [
      "[Epoch 53]: 100%|██████████| 234/234 [00:09<00:00, 24.90it/s]\n"
     ]
    },
    {
     "name": "stdout",
     "output_type": "stream",
     "text": [
      "Train Acc: 97.1061, Loss: 0.0750\n",
      "Val Acc: 0.6863\n"
     ]
    },
    {
     "name": "stderr",
     "output_type": "stream",
     "text": [
      "[Epoch 54]: 100%|██████████| 234/234 [00:08<00:00, 26.06it/s]\n"
     ]
    },
    {
     "name": "stdout",
     "output_type": "stream",
     "text": [
      "Train Acc: 97.6152, Loss: 0.0711\n",
      "Val Acc: 0.6687\n"
     ]
    },
    {
     "name": "stderr",
     "output_type": "stream",
     "text": [
      "[Epoch 55]: 100%|██████████| 234/234 [00:07<00:00, 30.61it/s]\n"
     ]
    },
    {
     "name": "stdout",
     "output_type": "stream",
     "text": [
      "Train Acc: 97.3473, Loss: 0.0708\n",
      "Val Acc: 0.6725\n"
     ]
    },
    {
     "name": "stderr",
     "output_type": "stream",
     "text": [
      "[Epoch 56]: 100%|██████████| 234/234 [00:07<00:00, 29.49it/s]\n"
     ]
    },
    {
     "name": "stdout",
     "output_type": "stream",
     "text": [
      "Train Acc: 97.4009, Loss: 0.0738\n",
      "Val Acc: 0.6787\n"
     ]
    },
    {
     "name": "stderr",
     "output_type": "stream",
     "text": [
      "[Epoch 57]: 100%|██████████| 234/234 [00:07<00:00, 31.34it/s]\n"
     ]
    },
    {
     "name": "stdout",
     "output_type": "stream",
     "text": [
      "Train Acc: 97.4812, Loss: 0.0719\n",
      "Val Acc: 0.6700\n"
     ]
    },
    {
     "name": "stderr",
     "output_type": "stream",
     "text": [
      "[Epoch 58]: 100%|██████████| 234/234 [00:06<00:00, 37.26it/s]\n"
     ]
    },
    {
     "name": "stdout",
     "output_type": "stream",
     "text": [
      "Train Acc: 97.2937, Loss: 0.0741\n",
      "Val Acc: 0.6350\n"
     ]
    },
    {
     "name": "stderr",
     "output_type": "stream",
     "text": [
      "[Epoch 59]: 100%|██████████| 234/234 [00:06<00:00, 34.66it/s]\n"
     ]
    },
    {
     "name": "stdout",
     "output_type": "stream",
     "text": [
      "Train Acc: 97.8296, Loss: 0.0643\n",
      "Val Acc: 0.6525\n"
     ]
    },
    {
     "name": "stderr",
     "output_type": "stream",
     "text": [
      "[Epoch 60]: 100%|██████████| 234/234 [00:06<00:00, 35.34it/s]\n"
     ]
    },
    {
     "name": "stdout",
     "output_type": "stream",
     "text": [
      "Train Acc: 98.4995, Loss: 0.0436\n",
      "Val Acc: 0.6438\n"
     ]
    },
    {
     "name": "stderr",
     "output_type": "stream",
     "text": [
      "[Epoch 61]: 100%|██████████| 234/234 [00:07<00:00, 31.29it/s]\n"
     ]
    },
    {
     "name": "stdout",
     "output_type": "stream",
     "text": [
      "Train Acc: 97.8564, Loss: 0.0592\n",
      "Val Acc: 0.6250\n"
     ]
    },
    {
     "name": "stderr",
     "output_type": "stream",
     "text": [
      "[Epoch 62]: 100%|██████████| 234/234 [00:08<00:00, 27.37it/s]\n"
     ]
    },
    {
     "name": "stdout",
     "output_type": "stream",
     "text": [
      "Train Acc: 97.8296, Loss: 0.0599\n",
      "Val Acc: 0.6338\n"
     ]
    },
    {
     "name": "stderr",
     "output_type": "stream",
     "text": [
      "[Epoch 63]: 100%|██████████| 234/234 [00:08<00:00, 27.18it/s]\n"
     ]
    },
    {
     "name": "stdout",
     "output_type": "stream",
     "text": [
      "Train Acc: 97.6152, Loss: 0.0721\n",
      "Val Acc: 0.6825\n"
     ]
    },
    {
     "name": "stderr",
     "output_type": "stream",
     "text": [
      "[Epoch 64]: 100%|██████████| 234/234 [00:08<00:00, 29.10it/s]\n"
     ]
    },
    {
     "name": "stdout",
     "output_type": "stream",
     "text": [
      "Train Acc: 98.0439, Loss: 0.0550\n",
      "Val Acc: 0.6713\n"
     ]
    },
    {
     "name": "stderr",
     "output_type": "stream",
     "text": [
      "[Epoch 65]: 100%|██████████| 234/234 [00:09<00:00, 25.27it/s]\n"
     ]
    },
    {
     "name": "stdout",
     "output_type": "stream",
     "text": [
      "Train Acc: 98.3119, Loss: 0.0500\n",
      "Val Acc: 0.6538\n"
     ]
    },
    {
     "name": "stderr",
     "output_type": "stream",
     "text": [
      "[Epoch 66]: 100%|██████████| 234/234 [00:09<00:00, 25.74it/s]\n"
     ]
    },
    {
     "name": "stdout",
     "output_type": "stream",
     "text": [
      "Train Acc: 98.2315, Loss: 0.0481\n",
      "Val Acc: 0.6675\n"
     ]
    },
    {
     "name": "stderr",
     "output_type": "stream",
     "text": [
      "[Epoch 67]: 100%|██████████| 234/234 [00:08<00:00, 26.67it/s]\n"
     ]
    },
    {
     "name": "stdout",
     "output_type": "stream",
     "text": [
      "Train Acc: 97.8028, Loss: 0.0575\n",
      "Val Acc: 0.6475\n"
     ]
    },
    {
     "name": "stderr",
     "output_type": "stream",
     "text": [
      "[Epoch 68]: 100%|██████████| 234/234 [00:08<00:00, 26.10it/s]\n"
     ]
    },
    {
     "name": "stdout",
     "output_type": "stream",
     "text": [
      "Train Acc: 98.3923, Loss: 0.0428\n",
      "Val Acc: 0.6675\n"
     ]
    },
    {
     "name": "stderr",
     "output_type": "stream",
     "text": [
      "[Epoch 69]: 100%|██████████| 234/234 [00:09<00:00, 25.43it/s]\n"
     ]
    },
    {
     "name": "stdout",
     "output_type": "stream",
     "text": [
      "Train Acc: 98.0975, Loss: 0.0554\n",
      "Val Acc: 0.6338\n"
     ]
    },
    {
     "name": "stderr",
     "output_type": "stream",
     "text": [
      "[Epoch 70]: 100%|██████████| 234/234 [00:07<00:00, 31.44it/s]\n"
     ]
    },
    {
     "name": "stdout",
     "output_type": "stream",
     "text": [
      "Train Acc: 97.3473, Loss: 0.0726\n",
      "Val Acc: 0.6600\n"
     ]
    },
    {
     "name": "stderr",
     "output_type": "stream",
     "text": [
      "[Epoch 71]: 100%|██████████| 234/234 [00:07<00:00, 31.13it/s]\n"
     ]
    },
    {
     "name": "stdout",
     "output_type": "stream",
     "text": [
      "Train Acc: 98.0171, Loss: 0.0506\n",
      "Val Acc: 0.6412\n"
     ]
    },
    {
     "name": "stderr",
     "output_type": "stream",
     "text": [
      "[Epoch 72]: 100%|██████████| 234/234 [00:07<00:00, 30.17it/s]\n"
     ]
    },
    {
     "name": "stdout",
     "output_type": "stream",
     "text": [
      "Train Acc: 98.4459, Loss: 0.0461\n",
      "Val Acc: 0.6375\n"
     ]
    },
    {
     "name": "stderr",
     "output_type": "stream",
     "text": [
      "[Epoch 73]: 100%|██████████| 234/234 [00:05<00:00, 39.66it/s]\n"
     ]
    },
    {
     "name": "stdout",
     "output_type": "stream",
     "text": [
      "Train Acc: 98.3655, Loss: 0.0483\n",
      "Val Acc: 0.6462\n"
     ]
    },
    {
     "name": "stderr",
     "output_type": "stream",
     "text": [
      "[Epoch 74]: 100%|██████████| 234/234 [00:06<00:00, 34.59it/s]\n"
     ]
    },
    {
     "name": "stdout",
     "output_type": "stream",
     "text": [
      "Train Acc: 98.5263, Loss: 0.0457\n",
      "Val Acc: 0.6488\n"
     ]
    },
    {
     "name": "stderr",
     "output_type": "stream",
     "text": [
      "[Epoch 75]: 100%|██████████| 234/234 [00:06<00:00, 34.18it/s]\n"
     ]
    },
    {
     "name": "stdout",
     "output_type": "stream",
     "text": [
      "Train Acc: 97.8832, Loss: 0.0620\n",
      "Val Acc: 0.6687\n"
     ]
    },
    {
     "name": "stderr",
     "output_type": "stream",
     "text": [
      "[Epoch 76]: 100%|██████████| 234/234 [00:06<00:00, 35.65it/s]\n"
     ]
    },
    {
     "name": "stdout",
     "output_type": "stream",
     "text": [
      "Train Acc: 98.3119, Loss: 0.0541\n",
      "Val Acc: 0.6663\n"
     ]
    },
    {
     "name": "stderr",
     "output_type": "stream",
     "text": [
      "[Epoch 77]: 100%|██████████| 234/234 [00:09<00:00, 25.86it/s]\n"
     ]
    },
    {
     "name": "stdout",
     "output_type": "stream",
     "text": [
      "Train Acc: 98.4459, Loss: 0.0457\n",
      "Val Acc: 0.6887\n"
     ]
    },
    {
     "name": "stderr",
     "output_type": "stream",
     "text": [
      "[Epoch 78]: 100%|██████████| 234/234 [00:09<00:00, 24.74it/s]\n"
     ]
    },
    {
     "name": "stdout",
     "output_type": "stream",
     "text": [
      "Train Acc: 98.6870, Loss: 0.0419\n",
      "Val Acc: 0.6687\n"
     ]
    },
    {
     "name": "stderr",
     "output_type": "stream",
     "text": [
      "[Epoch 79]: 100%|██████████| 234/234 [00:08<00:00, 26.28it/s]\n"
     ]
    },
    {
     "name": "stdout",
     "output_type": "stream",
     "text": [
      "Train Acc: 98.3923, Loss: 0.0449\n",
      "Val Acc: 0.6375\n"
     ]
    },
    {
     "name": "stderr",
     "output_type": "stream",
     "text": [
      "[Epoch 80]: 100%|██████████| 234/234 [00:09<00:00, 25.86it/s]\n"
     ]
    },
    {
     "name": "stdout",
     "output_type": "stream",
     "text": [
      "Train Acc: 98.3655, Loss: 0.0475\n",
      "Val Acc: 0.6500\n"
     ]
    },
    {
     "name": "stderr",
     "output_type": "stream",
     "text": [
      "[Epoch 81]: 100%|██████████| 234/234 [00:08<00:00, 29.21it/s]\n"
     ]
    },
    {
     "name": "stdout",
     "output_type": "stream",
     "text": [
      "Train Acc: 98.3655, Loss: 0.0520\n",
      "Val Acc: 0.6162\n"
     ]
    },
    {
     "name": "stderr",
     "output_type": "stream",
     "text": [
      "[Epoch 82]: 100%|██████████| 234/234 [00:07<00:00, 29.47it/s]\n"
     ]
    },
    {
     "name": "stdout",
     "output_type": "stream",
     "text": [
      "Train Acc: 98.9014, Loss: 0.0322\n",
      "Val Acc: 0.6700\n"
     ]
    },
    {
     "name": "stderr",
     "output_type": "stream",
     "text": [
      "[Epoch 83]: 100%|██████████| 234/234 [00:09<00:00, 25.88it/s]\n"
     ]
    },
    {
     "name": "stdout",
     "output_type": "stream",
     "text": [
      "Train Acc: 98.6334, Loss: 0.0396\n",
      "Val Acc: 0.6325\n"
     ]
    },
    {
     "name": "stderr",
     "output_type": "stream",
     "text": [
      "[Epoch 84]: 100%|██████████| 234/234 [00:09<00:00, 25.23it/s]\n"
     ]
    },
    {
     "name": "stdout",
     "output_type": "stream",
     "text": [
      "Train Acc: 98.4191, Loss: 0.0442\n",
      "Val Acc: 0.6175\n"
     ]
    },
    {
     "name": "stderr",
     "output_type": "stream",
     "text": [
      "[Epoch 85]: 100%|██████████| 234/234 [00:08<00:00, 28.78it/s]\n"
     ]
    },
    {
     "name": "stdout",
     "output_type": "stream",
     "text": [
      "Train Acc: 98.0707, Loss: 0.0531\n",
      "Val Acc: 0.6800\n"
     ]
    },
    {
     "name": "stderr",
     "output_type": "stream",
     "text": [
      "[Epoch 86]: 100%|██████████| 234/234 [00:08<00:00, 29.13it/s]\n"
     ]
    },
    {
     "name": "stdout",
     "output_type": "stream",
     "text": [
      "Train Acc: 98.5263, Loss: 0.0467\n",
      "Val Acc: 0.6500\n"
     ]
    },
    {
     "name": "stderr",
     "output_type": "stream",
     "text": [
      "[Epoch 87]: 100%|██████████| 234/234 [00:07<00:00, 30.69it/s]\n"
     ]
    },
    {
     "name": "stdout",
     "output_type": "stream",
     "text": [
      "Train Acc: 98.3655, Loss: 0.0450\n",
      "Val Acc: 0.6325\n"
     ]
    },
    {
     "name": "stderr",
     "output_type": "stream",
     "text": [
      "[Epoch 88]: 100%|██████████| 234/234 [00:06<00:00, 38.33it/s]\n"
     ]
    },
    {
     "name": "stdout",
     "output_type": "stream",
     "text": [
      "Train Acc: 98.6334, Loss: 0.0386\n",
      "Val Acc: 0.6675\n"
     ]
    },
    {
     "name": "stderr",
     "output_type": "stream",
     "text": [
      "[Epoch 89]: 100%|██████████| 234/234 [00:06<00:00, 33.69it/s]\n"
     ]
    },
    {
     "name": "stdout",
     "output_type": "stream",
     "text": [
      "Train Acc: 98.4995, Loss: 0.0431\n",
      "Val Acc: 0.6725\n"
     ]
    },
    {
     "name": "stderr",
     "output_type": "stream",
     "text": [
      "[Epoch 90]: 100%|██████████| 234/234 [00:06<00:00, 33.88it/s]\n"
     ]
    },
    {
     "name": "stdout",
     "output_type": "stream",
     "text": [
      "Train Acc: 98.9014, Loss: 0.0339\n",
      "Val Acc: 0.6488\n"
     ]
    },
    {
     "name": "stderr",
     "output_type": "stream",
     "text": [
      "[Epoch 91]: 100%|██████████| 234/234 [00:07<00:00, 31.87it/s]\n"
     ]
    },
    {
     "name": "stdout",
     "output_type": "stream",
     "text": [
      "Train Acc: 98.7674, Loss: 0.0366\n",
      "Val Acc: 0.6637\n"
     ]
    },
    {
     "name": "stderr",
     "output_type": "stream",
     "text": [
      "[Epoch 92]: 100%|██████████| 234/234 [00:09<00:00, 25.75it/s]\n"
     ]
    },
    {
     "name": "stdout",
     "output_type": "stream",
     "text": [
      "Train Acc: 98.3119, Loss: 0.0433\n",
      "Val Acc: 0.6512\n"
     ]
    },
    {
     "name": "stderr",
     "output_type": "stream",
     "text": [
      "[Epoch 93]: 100%|██████████| 234/234 [00:09<00:00, 25.93it/s]\n"
     ]
    },
    {
     "name": "stdout",
     "output_type": "stream",
     "text": [
      "Train Acc: 98.6870, Loss: 0.0371\n",
      "Val Acc: 0.6737\n"
     ]
    },
    {
     "name": "stderr",
     "output_type": "stream",
     "text": [
      "[Epoch 94]: 100%|██████████| 234/234 [00:08<00:00, 26.84it/s]\n"
     ]
    },
    {
     "name": "stdout",
     "output_type": "stream",
     "text": [
      "Train Acc: 98.9014, Loss: 0.0373\n",
      "Val Acc: 0.6713\n"
     ]
    },
    {
     "name": "stderr",
     "output_type": "stream",
     "text": [
      "[Epoch 95]: 100%|██████████| 234/234 [00:08<00:00, 27.31it/s]\n"
     ]
    },
    {
     "name": "stdout",
     "output_type": "stream",
     "text": [
      "Train Acc: 98.6870, Loss: 0.0349\n",
      "Val Acc: 0.6488\n"
     ]
    },
    {
     "name": "stderr",
     "output_type": "stream",
     "text": [
      "[Epoch 96]: 100%|██████████| 234/234 [00:09<00:00, 25.60it/s]\n"
     ]
    },
    {
     "name": "stdout",
     "output_type": "stream",
     "text": [
      "Train Acc: 98.4995, Loss: 0.0445\n",
      "Val Acc: 0.6250\n"
     ]
    },
    {
     "name": "stderr",
     "output_type": "stream",
     "text": [
      "[Epoch 97]: 100%|██████████| 234/234 [00:09<00:00, 24.85it/s]\n"
     ]
    },
    {
     "name": "stdout",
     "output_type": "stream",
     "text": [
      "Train Acc: 98.6870, Loss: 0.0380\n",
      "Val Acc: 0.6675\n"
     ]
    },
    {
     "name": "stderr",
     "output_type": "stream",
     "text": [
      "[Epoch 98]: 100%|██████████| 234/234 [00:08<00:00, 26.57it/s]\n"
     ]
    },
    {
     "name": "stdout",
     "output_type": "stream",
     "text": [
      "Train Acc: 99.0354, Loss: 0.0311\n",
      "Val Acc: 0.6625\n"
     ]
    },
    {
     "name": "stderr",
     "output_type": "stream",
     "text": [
      "[Epoch 99]: 100%|██████████| 234/234 [00:08<00:00, 28.15it/s]\n"
     ]
    },
    {
     "name": "stdout",
     "output_type": "stream",
     "text": [
      "Train Acc: 98.8210, Loss: 0.0395\n",
      "Val Acc: 0.6687\n"
     ]
    },
    {
     "name": "stderr",
     "output_type": "stream",
     "text": [
      "[Epoch 100]: 100%|██████████| 234/234 [00:07<00:00, 32.24it/s]\n"
     ]
    },
    {
     "name": "stdout",
     "output_type": "stream",
     "text": [
      "Train Acc: 98.5263, Loss: 0.0395\n",
      "Val Acc: 0.6713\n",
      "\n",
      "📊 Test Evaluation:\n",
      "✅ Test Accuracy: 65.62%\n",
      "AUC: 0.4791\n",
      "Precision: 0.6578, Recall: 0.9924, Specificity: 0.0145, F1: 0.7912\n",
      "Confusion Matrix:\n",
      "[[  4 271]\n",
      " [  4 521]]\n"
     ]
    }
   ],
   "source": [
    "# ResNet18 + 데이터 증강 (CenterCrop 224 / RandomHorizontalFlip / RandomRotation / GaussianBlur)\n",
    "\n",
    "import os, numpy as np, torch, gc, csv\n",
    "import torch.nn as nn\n",
    "import torch.nn.functional as F\n",
    "from torch.utils.data import Dataset, DataLoader\n",
    "from sklearn.model_selection import train_test_split\n",
    "from sklearn.metrics import classification_report, roc_auc_score, confusion_matrix\n",
    "from glob import glob\n",
    "from tqdm import tqdm\n",
    "import torchvision.transforms as transforms\n",
    "from torchvision.models import resnet18\n",
    "from datetime import datetime\n",
    "from PIL import Image\n",
    "\n",
    "# 디바이스 설정\n",
    "device = torch.device(\"cuda:1\" if torch.cuda.is_available() else \"cpu\")\n",
    "print(f\"Using device: {device}\")\n",
    "\n",
    "# 경로 및 하이퍼파라미터 설정\n",
    "slice_root = \"/data1/lidc-idri/slices\"\n",
    "batch_size = 16\n",
    "num_epochs = 100\n",
    "learning_rate = 1e-4\n",
    "save_path = os.path.join(\"pth\", \"resnet18_best_aug2.pth\")\n",
    "os.makedirs(\"logs\", exist_ok=True)\n",
    "log_path = os.path.join(\"logs\", \"best_model_log2.csv\")\n",
    "\n",
    "# -------------------- Transform --------------------\n",
    "train_transform = transforms.Compose([\n",
    "    transforms.ToPILImage(),\n",
    "    transforms.CenterCrop(224),\n",
    "    transforms.RandomHorizontalFlip(),\n",
    "    transforms.RandomRotation(10),\n",
    "    transforms.GaussianBlur(kernel_size=(5, 5), sigma=(0.1, 2.0)),\n",
    "    transforms.ToTensor(),\n",
    "    transforms.Normalize([0.5], [0.5])\n",
    "])\n",
    "\n",
    "val_transform = transforms.Compose([\n",
    "    transforms.ToPILImage(),\n",
    "    transforms.Resize((224, 224)),\n",
    "    transforms.ToTensor(),\n",
    "    transforms.Normalize([0.5], [0.5])\n",
    "])\n",
    "\n",
    "# 라벨 추출 함수\n",
    "def extract_label_from_filename(fname):\n",
    "    try:\n",
    "        score = int(fname.split(\"_\")[-1].replace(\".npy\", \"\"))\n",
    "        return None if score == 3 else int(score >= 4)\n",
    "    except:\n",
    "        return None\n",
    "\n",
    "# 데이터셋 정의\n",
    "class CTDataset(Dataset):\n",
    "    def __init__(self, paths, labels, transform=None):\n",
    "        self.paths = paths\n",
    "        self.labels = labels\n",
    "        self.transform = transform\n",
    "\n",
    "    def __getitem__(self, idx):\n",
    "        file_path = self.paths[idx]\n",
    "        label = self.labels[idx]\n",
    "        img = np.load(file_path)\n",
    "        img = np.clip(img, -1000, 400)\n",
    "        img = (img + 1000) / 1400.\n",
    "        img = np.expand_dims(img, axis=-1)\n",
    "        if self.transform:\n",
    "            img = self.transform(img)\n",
    "        else:\n",
    "            img = torch.tensor(img.transpose(2, 0, 1), dtype=torch.float32)\n",
    "        return img, torch.tensor(label).long()\n",
    "\n",
    "    def __len__(self):\n",
    "        return len(self.paths)\n",
    "\n",
    "# CSV 기록 함수\n",
    "def log_best_experiment_result(log_path, model_name, exp_tag, epoch, val_acc, test_acc, auc, precision, recall, specificity, f1, notes=\"\"):\n",
    "    log_exists = os.path.exists(log_path)\n",
    "    with open(log_path, 'a', newline='') as csvfile:\n",
    "        writer = csv.writer(csvfile)\n",
    "        if not log_exists:\n",
    "            writer.writerow([\"timestamp\", \"model\", \"exp_tag\", \"epoch\", \"val_acc\", \"test_acc\", \"auc\", \"precision\", \"recall\", \"specificity\", \"f1\", \"notes\"])\n",
    "        writer.writerow([\n",
    "            datetime.now().strftime(\"%Y-%m-%d %H:%M:%S\"),\n",
    "            model_name,\n",
    "            exp_tag,\n",
    "            epoch,\n",
    "            f\"{val_acc:.4f}\",\n",
    "            f\"{test_acc:.4f}\",\n",
    "            f\"{auc:.4f}\",\n",
    "            f\"{precision:.4f}\",\n",
    "            f\"{recall:.4f}\",\n",
    "            f\"{specificity:.4f}\",\n",
    "            f\"{f1:.4f}\",\n",
    "            notes\n",
    "        ])\n",
    "\n",
    "# 학습 루프\n",
    "def run():\n",
    "    all_files = glob(os.path.join(slice_root, \"LIDC-IDRI-*\", \"*.npy\"))\n",
    "    file_label_pairs = [(f, extract_label_from_filename(f)) for f in all_files]\n",
    "    file_label_pairs = [(f, l) for f, l in file_label_pairs if l is not None]\n",
    "    files, labels = zip(*file_label_pairs)\n",
    "    train_files, temp_files, train_labels, temp_labels = train_test_split(files, labels, test_size=0.3, random_state=42)\n",
    "    val_files, test_files, val_labels, test_labels = train_test_split(temp_files, temp_labels, test_size=0.5, random_state=42)\n",
    "\n",
    "    train_loader = DataLoader(CTDataset(train_files, train_labels, transform=train_transform), batch_size=batch_size, num_workers=4, pin_memory=True)\n",
    "    val_loader = DataLoader(CTDataset(val_files, val_labels, transform=val_transform), batch_size=batch_size)\n",
    "    test_loader = DataLoader(CTDataset(test_files, test_labels, transform=val_transform), batch_size=batch_size)\n",
    "\n",
    "    model = resnet18(weights=None)\n",
    "    model.conv1 = nn.Conv2d(1, 64, kernel_size=7, stride=2, padding=3, bias=False)\n",
    "    model.fc = nn.Linear(model.fc.in_features, 2)\n",
    "    model = model.to(device)\n",
    "\n",
    "    criterion = nn.CrossEntropyLoss()\n",
    "    optimizer = torch.optim.Adam(model.parameters(), lr=learning_rate)\n",
    "    best_acc = 0.0\n",
    "    best_epoch = 0\n",
    "\n",
    "    for epoch in range(num_epochs):\n",
    "        model.train()\n",
    "        epoch_loss, correct, total = 0, 0, 0\n",
    "        for images, labels in tqdm(train_loader, desc=f\"[Epoch {epoch+1}]\"):\n",
    "            images, labels = images.to(device), labels.to(device)\n",
    "            outputs = model(images)\n",
    "            loss = criterion(outputs, labels)\n",
    "            optimizer.zero_grad()\n",
    "            loss.backward()\n",
    "            optimizer.step()\n",
    "            _, preds = outputs.max(1)\n",
    "            correct += (preds == labels).sum().item()\n",
    "            total += labels.size(0)\n",
    "            epoch_loss += loss.item()\n",
    "        print(f\"Train Acc: {(correct/total)*100:.4f}, Loss: {epoch_loss/len(train_loader):.4f}\")\n",
    "\n",
    "        model.eval()\n",
    "        correct, total = 0, 0\n",
    "        with torch.no_grad():\n",
    "            for imgs, labels in val_loader:\n",
    "                imgs, labels = imgs.to(device), labels.to(device)\n",
    "                outputs = model(imgs)\n",
    "                _, preds = outputs.max(1)\n",
    "                correct += (preds == labels).sum().item()\n",
    "                total += labels.size(0)\n",
    "        val_acc = correct / total\n",
    "        print(f\"Val Acc: {val_acc:.4f}\")\n",
    "\n",
    "        if val_acc > best_acc:\n",
    "            best_acc = val_acc\n",
    "            best_epoch = epoch + 1\n",
    "            torch.save(model.state_dict(), save_path)\n",
    "            print(\"✅ Saved best model!\")\n",
    "\n",
    "    # 테스트\n",
    "    print(\"\\n📊 Test Evaluation:\")\n",
    "    model.load_state_dict(torch.load(save_path))\n",
    "    model.eval()\n",
    "    y_true, y_pred, y_probs = [], [], []\n",
    "    with torch.no_grad():\n",
    "        for imgs, labels in test_loader:\n",
    "            imgs, labels = imgs.to(device), labels.to(device)\n",
    "            outputs = model(imgs)\n",
    "            probs = F.softmax(outputs, dim=1)[:, 1]\n",
    "            preds = outputs.argmax(1)\n",
    "            y_probs.extend(probs.cpu().numpy())\n",
    "            y_pred.extend(preds.cpu().numpy())\n",
    "            y_true.extend(labels.cpu().numpy())\n",
    "\n",
    "    y_true, y_pred = np.array(y_true), np.array(y_pred)\n",
    "    test_acc = (y_true == y_pred).mean()\n",
    "    auc = roc_auc_score(y_true, y_probs)\n",
    "    cm = confusion_matrix(y_true, y_pred)\n",
    "    tn, fp, fn, tp = cm.ravel()\n",
    "    precision = tp / (tp + fp + 1e-8)\n",
    "    recall = tp / (tp + fn + 1e-8)\n",
    "    specificity = tn / (tn + fp + 1e-8)\n",
    "    f1 = 2 * precision * recall / (precision + recall + 1e-8)\n",
    "\n",
    "    print(f\"✅ Test Accuracy: {test_acc * 100:.2f}%\")\n",
    "    print(f\"AUC: {auc:.4f}\")\n",
    "    print(f\"Precision: {precision:.4f}, Recall: {recall:.4f}, Specificity: {specificity:.4f}, F1: {f1:.4f}\")\n",
    "    print(\"Confusion Matrix:\")\n",
    "    print(cm)\n",
    "\n",
    "    log_best_experiment_result(\n",
    "        log_path=log_path,\n",
    "        model_name=\"ResNet18\",\n",
    "        exp_tag=\"aug2_flip_rot_erase\",\n",
    "        epoch=best_epoch,\n",
    "        val_acc=best_acc,\n",
    "        test_acc=test_acc,\n",
    "        auc=auc,\n",
    "        precision=precision,\n",
    "        recall=recall,\n",
    "        specificity=specificity,\n",
    "        f1=f1,\n",
    "        notes=\"CenResizeterCrop / RandomHorizontalFlip / RandomRotation / RandomErasing\"\n",
    "    )\n",
    "\n",
    "if __name__ == \"__main__\":\n",
    "    run()"
   ]
  },
  {
   "cell_type": "code",
   "execution_count": null,
   "metadata": {},
   "outputs": [
    {
     "name": "stdout",
     "output_type": "stream",
     "text": [
      "Using device: cuda:1\n"
     ]
    },
    {
     "name": "stderr",
     "output_type": "stream",
     "text": [
      "[Epoch 1]: 100%|██████████| 234/234 [00:08<00:00, 28.98it/s]\n"
     ]
    },
    {
     "name": "stdout",
     "output_type": "stream",
     "text": [
      "Train Acc: 64.9518, Loss: 0.6354\n",
      "Val Acc: 0.6900\n",
      "✅ Saved best model!\n"
     ]
    },
    {
     "name": "stderr",
     "output_type": "stream",
     "text": [
      "[Epoch 2]: 100%|██████████| 234/234 [00:07<00:00, 30.43it/s]\n"
     ]
    },
    {
     "name": "stdout",
     "output_type": "stream",
     "text": [
      "Train Acc: 67.2562, Loss: 0.6118\n",
      "Val Acc: 0.6925\n",
      "✅ Saved best model!\n"
     ]
    },
    {
     "name": "stderr",
     "output_type": "stream",
     "text": [
      "[Epoch 3]: 100%|██████████| 234/234 [00:06<00:00, 35.82it/s]\n"
     ]
    },
    {
     "name": "stdout",
     "output_type": "stream",
     "text": [
      "Train Acc: 69.8821, Loss: 0.5847\n",
      "Val Acc: 0.6900\n"
     ]
    },
    {
     "name": "stderr",
     "output_type": "stream",
     "text": [
      "[Epoch 4]: 100%|██████████| 234/234 [00:06<00:00, 35.84it/s]\n"
     ]
    },
    {
     "name": "stdout",
     "output_type": "stream",
     "text": [
      "Train Acc: 71.4630, Loss: 0.5617\n",
      "Val Acc: 0.7087\n",
      "✅ Saved best model!\n"
     ]
    },
    {
     "name": "stderr",
     "output_type": "stream",
     "text": [
      "[Epoch 5]: 100%|██████████| 234/234 [00:06<00:00, 35.46it/s]\n"
     ]
    },
    {
     "name": "stdout",
     "output_type": "stream",
     "text": [
      "Train Acc: 73.7138, Loss: 0.5356\n",
      "Val Acc: 0.7238\n",
      "✅ Saved best model!\n"
     ]
    },
    {
     "name": "stderr",
     "output_type": "stream",
     "text": [
      "[Epoch 6]: 100%|██████████| 234/234 [00:05<00:00, 41.04it/s]\n"
     ]
    },
    {
     "name": "stdout",
     "output_type": "stream",
     "text": [
      "Train Acc: 74.7320, Loss: 0.5099\n",
      "Val Acc: 0.7388\n",
      "✅ Saved best model!\n"
     ]
    },
    {
     "name": "stderr",
     "output_type": "stream",
     "text": [
      "[Epoch 7]: 100%|██████████| 234/234 [00:11<00:00, 20.65it/s]\n"
     ]
    },
    {
     "name": "stdout",
     "output_type": "stream",
     "text": [
      "Train Acc: 76.6613, Loss: 0.4901\n",
      "Val Acc: 0.7638\n",
      "✅ Saved best model!\n"
     ]
    },
    {
     "name": "stderr",
     "output_type": "stream",
     "text": [
      "[Epoch 8]: 100%|██████████| 234/234 [00:10<00:00, 22.27it/s]\n"
     ]
    },
    {
     "name": "stdout",
     "output_type": "stream",
     "text": [
      "Train Acc: 78.7245, Loss: 0.4585\n",
      "Val Acc: 0.7500\n"
     ]
    },
    {
     "name": "stderr",
     "output_type": "stream",
     "text": [
      "[Epoch 9]: 100%|██████████| 234/234 [00:09<00:00, 24.79it/s]\n"
     ]
    },
    {
     "name": "stdout",
     "output_type": "stream",
     "text": [
      "Train Acc: 79.9839, Loss: 0.4321\n",
      "Val Acc: 0.7662\n",
      "✅ Saved best model!\n"
     ]
    },
    {
     "name": "stderr",
     "output_type": "stream",
     "text": [
      "[Epoch 10]: 100%|██████████| 234/234 [00:09<00:00, 25.05it/s]\n"
     ]
    },
    {
     "name": "stdout",
     "output_type": "stream",
     "text": [
      "Train Acc: 81.3237, Loss: 0.4212\n",
      "Val Acc: 0.7638\n"
     ]
    },
    {
     "name": "stderr",
     "output_type": "stream",
     "text": [
      "[Epoch 11]: 100%|██████████| 234/234 [00:10<00:00, 22.32it/s]\n"
     ]
    },
    {
     "name": "stdout",
     "output_type": "stream",
     "text": [
      "Train Acc: 83.1994, Loss: 0.3780\n",
      "Val Acc: 0.7825\n",
      "✅ Saved best model!\n"
     ]
    },
    {
     "name": "stderr",
     "output_type": "stream",
     "text": [
      "[Epoch 12]: 100%|██████████| 234/234 [00:10<00:00, 23.08it/s]\n"
     ]
    },
    {
     "name": "stdout",
     "output_type": "stream",
     "text": [
      "Train Acc: 84.1908, Loss: 0.3672\n",
      "Val Acc: 0.8075\n",
      "✅ Saved best model!\n"
     ]
    },
    {
     "name": "stderr",
     "output_type": "stream",
     "text": [
      "[Epoch 13]: 100%|██████████| 234/234 [00:09<00:00, 24.85it/s]\n"
     ]
    },
    {
     "name": "stdout",
     "output_type": "stream",
     "text": [
      "Train Acc: 85.9593, Loss: 0.3394\n",
      "Val Acc: 0.7987\n"
     ]
    },
    {
     "name": "stderr",
     "output_type": "stream",
     "text": [
      "[Epoch 14]: 100%|██████████| 234/234 [00:08<00:00, 27.60it/s]\n"
     ]
    },
    {
     "name": "stdout",
     "output_type": "stream",
     "text": [
      "Train Acc: 87.1919, Loss: 0.3135\n",
      "Val Acc: 0.7937\n"
     ]
    },
    {
     "name": "stderr",
     "output_type": "stream",
     "text": [
      "[Epoch 15]: 100%|██████████| 234/234 [00:09<00:00, 25.75it/s]\n"
     ]
    },
    {
     "name": "stdout",
     "output_type": "stream",
     "text": [
      "Train Acc: 87.0579, Loss: 0.3145\n",
      "Val Acc: 0.7950\n"
     ]
    },
    {
     "name": "stderr",
     "output_type": "stream",
     "text": [
      "[Epoch 16]: 100%|██████████| 234/234 [00:07<00:00, 32.72it/s]\n"
     ]
    },
    {
     "name": "stdout",
     "output_type": "stream",
     "text": [
      "Train Acc: 87.9689, Loss: 0.2853\n",
      "Val Acc: 0.8075\n"
     ]
    },
    {
     "name": "stderr",
     "output_type": "stream",
     "text": [
      "[Epoch 17]: 100%|██████████| 234/234 [00:07<00:00, 30.66it/s]\n"
     ]
    },
    {
     "name": "stdout",
     "output_type": "stream",
     "text": [
      "Train Acc: 89.0139, Loss: 0.2745\n",
      "Val Acc: 0.8187\n",
      "✅ Saved best model!\n"
     ]
    },
    {
     "name": "stderr",
     "output_type": "stream",
     "text": [
      "[Epoch 18]: 100%|██████████| 234/234 [00:06<00:00, 34.43it/s]\n"
     ]
    },
    {
     "name": "stdout",
     "output_type": "stream",
     "text": [
      "Train Acc: 89.7374, Loss: 0.2530\n",
      "Val Acc: 0.8337\n",
      "✅ Saved best model!\n"
     ]
    },
    {
     "name": "stderr",
     "output_type": "stream",
     "text": [
      "[Epoch 19]: 100%|██████████| 234/234 [00:07<00:00, 33.03it/s]\n"
     ]
    },
    {
     "name": "stdout",
     "output_type": "stream",
     "text": [
      "Train Acc: 89.3891, Loss: 0.2488\n",
      "Val Acc: 0.8375\n",
      "✅ Saved best model!\n"
     ]
    },
    {
     "name": "stderr",
     "output_type": "stream",
     "text": [
      "[Epoch 20]: 100%|██████████| 234/234 [00:10<00:00, 21.78it/s]\n"
     ]
    },
    {
     "name": "stdout",
     "output_type": "stream",
     "text": [
      "Train Acc: 91.3451, Loss: 0.2241\n",
      "Val Acc: 0.8187\n"
     ]
    },
    {
     "name": "stderr",
     "output_type": "stream",
     "text": [
      "[Epoch 21]: 100%|██████████| 234/234 [00:10<00:00, 23.01it/s]\n"
     ]
    },
    {
     "name": "stdout",
     "output_type": "stream",
     "text": [
      "Train Acc: 91.3183, Loss: 0.2258\n",
      "Val Acc: 0.8287\n"
     ]
    },
    {
     "name": "stderr",
     "output_type": "stream",
     "text": [
      "[Epoch 22]: 100%|██████████| 234/234 [00:09<00:00, 25.15it/s]\n"
     ]
    },
    {
     "name": "stdout",
     "output_type": "stream",
     "text": [
      "Train Acc: 91.1040, Loss: 0.2224\n",
      "Val Acc: 0.8413\n",
      "✅ Saved best model!\n"
     ]
    },
    {
     "name": "stderr",
     "output_type": "stream",
     "text": [
      "[Epoch 23]: 100%|██████████| 234/234 [00:10<00:00, 22.17it/s]\n"
     ]
    },
    {
     "name": "stdout",
     "output_type": "stream",
     "text": [
      "Train Acc: 92.5777, Loss: 0.1987\n",
      "Val Acc: 0.8450\n",
      "✅ Saved best model!\n"
     ]
    },
    {
     "name": "stderr",
     "output_type": "stream",
     "text": [
      "[Epoch 24]: 100%|██████████| 234/234 [00:08<00:00, 26.55it/s]\n"
     ]
    },
    {
     "name": "stdout",
     "output_type": "stream",
     "text": [
      "Train Acc: 92.4705, Loss: 0.1988\n",
      "Val Acc: 0.8462\n",
      "✅ Saved best model!\n"
     ]
    },
    {
     "name": "stderr",
     "output_type": "stream",
     "text": [
      "[Epoch 25]: 100%|██████████| 234/234 [00:09<00:00, 25.43it/s]\n"
     ]
    },
    {
     "name": "stdout",
     "output_type": "stream",
     "text": [
      "Train Acc: 93.5959, Loss: 0.1742\n",
      "Val Acc: 0.8375\n"
     ]
    },
    {
     "name": "stderr",
     "output_type": "stream",
     "text": [
      "[Epoch 26]: 100%|██████████| 234/234 [00:09<00:00, 25.52it/s]\n"
     ]
    },
    {
     "name": "stdout",
     "output_type": "stream",
     "text": [
      "Train Acc: 92.7385, Loss: 0.1884\n",
      "Val Acc: 0.8588\n",
      "✅ Saved best model!\n"
     ]
    },
    {
     "name": "stderr",
     "output_type": "stream",
     "text": [
      "[Epoch 27]: 100%|██████████| 234/234 [00:09<00:00, 25.33it/s]\n"
     ]
    },
    {
     "name": "stdout",
     "output_type": "stream",
     "text": [
      "Train Acc: 92.3365, Loss: 0.1849\n",
      "Val Acc: 0.8538\n"
     ]
    },
    {
     "name": "stderr",
     "output_type": "stream",
     "text": [
      "[Epoch 28]: 100%|██████████| 234/234 [00:08<00:00, 27.11it/s]\n"
     ]
    },
    {
     "name": "stdout",
     "output_type": "stream",
     "text": [
      "Train Acc: 93.7567, Loss: 0.1548\n",
      "Val Acc: 0.8488\n"
     ]
    },
    {
     "name": "stderr",
     "output_type": "stream",
     "text": [
      "[Epoch 29]: 100%|██████████| 234/234 [00:08<00:00, 28.85it/s]\n"
     ]
    },
    {
     "name": "stdout",
     "output_type": "stream",
     "text": [
      "Train Acc: 93.6227, Loss: 0.1671\n",
      "Val Acc: 0.8387\n"
     ]
    },
    {
     "name": "stderr",
     "output_type": "stream",
     "text": [
      "[Epoch 30]: 100%|██████████| 234/234 [00:06<00:00, 37.19it/s]\n"
     ]
    },
    {
     "name": "stdout",
     "output_type": "stream",
     "text": [
      "Train Acc: 93.6495, Loss: 0.1695\n",
      "Val Acc: 0.8612\n",
      "✅ Saved best model!\n"
     ]
    },
    {
     "name": "stderr",
     "output_type": "stream",
     "text": [
      "[Epoch 31]: 100%|██████████| 234/234 [00:06<00:00, 35.62it/s]\n"
     ]
    },
    {
     "name": "stdout",
     "output_type": "stream",
     "text": [
      "Train Acc: 94.5606, Loss: 0.1470\n",
      "Val Acc: 0.8475\n"
     ]
    },
    {
     "name": "stderr",
     "output_type": "stream",
     "text": [
      "[Epoch 32]: 100%|██████████| 234/234 [00:07<00:00, 33.40it/s]\n"
     ]
    },
    {
     "name": "stdout",
     "output_type": "stream",
     "text": [
      "Train Acc: 94.3194, Loss: 0.1475\n",
      "Val Acc: 0.8600\n"
     ]
    },
    {
     "name": "stderr",
     "output_type": "stream",
     "text": [
      "[Epoch 33]: 100%|██████████| 234/234 [00:07<00:00, 33.43it/s]\n"
     ]
    },
    {
     "name": "stdout",
     "output_type": "stream",
     "text": [
      "Train Acc: 94.7749, Loss: 0.1384\n",
      "Val Acc: 0.8538\n"
     ]
    },
    {
     "name": "stderr",
     "output_type": "stream",
     "text": [
      "[Epoch 34]: 100%|██████████| 234/234 [00:09<00:00, 25.38it/s]\n"
     ]
    },
    {
     "name": "stdout",
     "output_type": "stream",
     "text": [
      "Train Acc: 93.9979, Loss: 0.1532\n",
      "Val Acc: 0.8213\n"
     ]
    },
    {
     "name": "stderr",
     "output_type": "stream",
     "text": [
      "[Epoch 35]: 100%|██████████| 234/234 [00:09<00:00, 24.45it/s]\n"
     ]
    },
    {
     "name": "stdout",
     "output_type": "stream",
     "text": [
      "Train Acc: 94.5874, Loss: 0.1462\n",
      "Val Acc: 0.8638\n",
      "✅ Saved best model!\n"
     ]
    },
    {
     "name": "stderr",
     "output_type": "stream",
     "text": [
      "[Epoch 36]: 100%|██████████| 234/234 [00:09<00:00, 25.32it/s]\n"
     ]
    },
    {
     "name": "stdout",
     "output_type": "stream",
     "text": [
      "Train Acc: 95.2036, Loss: 0.1287\n",
      "Val Acc: 0.8712\n",
      "✅ Saved best model!\n"
     ]
    },
    {
     "name": "stderr",
     "output_type": "stream",
     "text": [
      "[Epoch 37]: 100%|██████████| 234/234 [00:10<00:00, 23.29it/s]\n"
     ]
    },
    {
     "name": "stdout",
     "output_type": "stream",
     "text": [
      "Train Acc: 94.7481, Loss: 0.1329\n",
      "Val Acc: 0.8725\n",
      "✅ Saved best model!\n"
     ]
    },
    {
     "name": "stderr",
     "output_type": "stream",
     "text": [
      "[Epoch 38]: 100%|██████████| 234/234 [00:09<00:00, 24.40it/s]\n"
     ]
    },
    {
     "name": "stdout",
     "output_type": "stream",
     "text": [
      "Train Acc: 94.9357, Loss: 0.1299\n",
      "Val Acc: 0.8612\n"
     ]
    },
    {
     "name": "stderr",
     "output_type": "stream",
     "text": [
      "[Epoch 39]: 100%|██████████| 234/234 [00:09<00:00, 23.98it/s]\n"
     ]
    },
    {
     "name": "stdout",
     "output_type": "stream",
     "text": [
      "Train Acc: 95.5788, Loss: 0.1181\n",
      "Val Acc: 0.8475\n"
     ]
    },
    {
     "name": "stderr",
     "output_type": "stream",
     "text": [
      "[Epoch 40]: 100%|██████████| 234/234 [00:09<00:00, 23.72it/s]\n"
     ]
    },
    {
     "name": "stdout",
     "output_type": "stream",
     "text": [
      "Train Acc: 95.0965, Loss: 0.1288\n",
      "Val Acc: 0.8588\n"
     ]
    },
    {
     "name": "stderr",
     "output_type": "stream",
     "text": [
      "[Epoch 41]: 100%|██████████| 234/234 [00:08<00:00, 26.24it/s]\n"
     ]
    },
    {
     "name": "stdout",
     "output_type": "stream",
     "text": [
      "Train Acc: 94.8821, Loss: 0.1199\n",
      "Val Acc: 0.8612\n"
     ]
    },
    {
     "name": "stderr",
     "output_type": "stream",
     "text": [
      "[Epoch 42]: 100%|██████████| 234/234 [00:08<00:00, 29.18it/s]\n"
     ]
    },
    {
     "name": "stdout",
     "output_type": "stream",
     "text": [
      "Train Acc: 95.7663, Loss: 0.1095\n",
      "Val Acc: 0.8562\n"
     ]
    },
    {
     "name": "stderr",
     "output_type": "stream",
     "text": [
      "[Epoch 43]: 100%|██████████| 234/234 [00:07<00:00, 29.58it/s]\n"
     ]
    },
    {
     "name": "stdout",
     "output_type": "stream",
     "text": [
      "Train Acc: 95.5788, Loss: 0.1107\n",
      "Val Acc: 0.8700\n"
     ]
    },
    {
     "name": "stderr",
     "output_type": "stream",
     "text": [
      "[Epoch 44]: 100%|██████████| 234/234 [00:07<00:00, 33.03it/s]\n"
     ]
    },
    {
     "name": "stdout",
     "output_type": "stream",
     "text": [
      "Train Acc: 95.3108, Loss: 0.1167\n",
      "Val Acc: 0.8812\n",
      "✅ Saved best model!\n"
     ]
    },
    {
     "name": "stderr",
     "output_type": "stream",
     "text": [
      "[Epoch 45]: 100%|██████████| 234/234 [00:06<00:00, 34.85it/s]\n"
     ]
    },
    {
     "name": "stdout",
     "output_type": "stream",
     "text": [
      "Train Acc: 96.0879, Loss: 0.1133\n",
      "Val Acc: 0.8562\n"
     ]
    },
    {
     "name": "stderr",
     "output_type": "stream",
     "text": [
      "[Epoch 46]: 100%|██████████| 234/234 [00:07<00:00, 33.13it/s]\n"
     ]
    },
    {
     "name": "stdout",
     "output_type": "stream",
     "text": [
      "Train Acc: 96.1415, Loss: 0.1051\n",
      "Val Acc: 0.8738\n"
     ]
    },
    {
     "name": "stderr",
     "output_type": "stream",
     "text": [
      "[Epoch 47]: 100%|██████████| 234/234 [00:08<00:00, 28.41it/s]\n"
     ]
    },
    {
     "name": "stdout",
     "output_type": "stream",
     "text": [
      "Train Acc: 96.5970, Loss: 0.1026\n",
      "Val Acc: 0.8700\n"
     ]
    },
    {
     "name": "stderr",
     "output_type": "stream",
     "text": [
      "[Epoch 48]: 100%|██████████| 234/234 [00:09<00:00, 25.43it/s]\n"
     ]
    },
    {
     "name": "stdout",
     "output_type": "stream",
     "text": [
      "Train Acc: 96.8114, Loss: 0.0932\n",
      "Val Acc: 0.8600\n"
     ]
    },
    {
     "name": "stderr",
     "output_type": "stream",
     "text": [
      "[Epoch 49]: 100%|██████████| 234/234 [00:10<00:00, 22.51it/s]\n"
     ]
    },
    {
     "name": "stdout",
     "output_type": "stream",
     "text": [
      "Train Acc: 96.1147, Loss: 0.1027\n",
      "Val Acc: 0.8825\n",
      "✅ Saved best model!\n"
     ]
    },
    {
     "name": "stderr",
     "output_type": "stream",
     "text": [
      "[Epoch 50]: 100%|██████████| 234/234 [00:08<00:00, 26.94it/s]\n"
     ]
    },
    {
     "name": "stdout",
     "output_type": "stream",
     "text": [
      "Train Acc: 97.2133, Loss: 0.0775\n",
      "Val Acc: 0.8788\n"
     ]
    },
    {
     "name": "stderr",
     "output_type": "stream",
     "text": [
      "[Epoch 51]: 100%|██████████| 234/234 [00:09<00:00, 25.46it/s]\n"
     ]
    },
    {
     "name": "stdout",
     "output_type": "stream",
     "text": [
      "Train Acc: 96.0611, Loss: 0.1044\n",
      "Val Acc: 0.8988\n",
      "✅ Saved best model!\n"
     ]
    },
    {
     "name": "stderr",
     "output_type": "stream",
     "text": [
      "[Epoch 52]: 100%|██████████| 234/234 [00:09<00:00, 23.42it/s]\n"
     ]
    },
    {
     "name": "stdout",
     "output_type": "stream",
     "text": [
      "Train Acc: 96.8917, Loss: 0.0929\n",
      "Val Acc: 0.8712\n"
     ]
    },
    {
     "name": "stderr",
     "output_type": "stream",
     "text": [
      "[Epoch 53]: 100%|██████████| 234/234 [00:10<00:00, 23.09it/s]\n"
     ]
    },
    {
     "name": "stdout",
     "output_type": "stream",
     "text": [
      "Train Acc: 95.6860, Loss: 0.1168\n",
      "Val Acc: 0.8738\n"
     ]
    },
    {
     "name": "stderr",
     "output_type": "stream",
     "text": [
      "[Epoch 54]: 100%|██████████| 234/234 [00:11<00:00, 21.05it/s]\n"
     ]
    },
    {
     "name": "stdout",
     "output_type": "stream",
     "text": [
      "Train Acc: 96.9721, Loss: 0.0867\n",
      "Val Acc: 0.8788\n"
     ]
    },
    {
     "name": "stderr",
     "output_type": "stream",
     "text": [
      "[Epoch 55]: 100%|██████████| 234/234 [00:08<00:00, 27.56it/s]\n"
     ]
    },
    {
     "name": "stdout",
     "output_type": "stream",
     "text": [
      "Train Acc: 96.8114, Loss: 0.0835\n",
      "Val Acc: 0.8762\n"
     ]
    },
    {
     "name": "stderr",
     "output_type": "stream",
     "text": [
      "[Epoch 56]: 100%|██████████| 234/234 [00:08<00:00, 28.09it/s]\n"
     ]
    },
    {
     "name": "stdout",
     "output_type": "stream",
     "text": [
      "Train Acc: 96.4094, Loss: 0.0874\n",
      "Val Acc: 0.8725\n"
     ]
    },
    {
     "name": "stderr",
     "output_type": "stream",
     "text": [
      "[Epoch 57]: 100%|██████████| 234/234 [00:07<00:00, 30.40it/s]\n"
     ]
    },
    {
     "name": "stdout",
     "output_type": "stream",
     "text": [
      "Train Acc: 96.9453, Loss: 0.0786\n",
      "Val Acc: 0.8838\n"
     ]
    },
    {
     "name": "stderr",
     "output_type": "stream",
     "text": [
      "[Epoch 58]: 100%|██████████| 234/234 [00:06<00:00, 34.60it/s]\n"
     ]
    },
    {
     "name": "stdout",
     "output_type": "stream",
     "text": [
      "Train Acc: 96.8382, Loss: 0.0955\n",
      "Val Acc: 0.8700\n"
     ]
    },
    {
     "name": "stderr",
     "output_type": "stream",
     "text": [
      "[Epoch 59]: 100%|██████████| 234/234 [00:07<00:00, 31.88it/s]\n"
     ]
    },
    {
     "name": "stdout",
     "output_type": "stream",
     "text": [
      "Train Acc: 96.8382, Loss: 0.0920\n",
      "Val Acc: 0.8762\n"
     ]
    },
    {
     "name": "stderr",
     "output_type": "stream",
     "text": [
      "[Epoch 60]: 100%|██████████| 234/234 [00:06<00:00, 34.39it/s]\n"
     ]
    },
    {
     "name": "stdout",
     "output_type": "stream",
     "text": [
      "Train Acc: 97.2401, Loss: 0.0751\n",
      "Val Acc: 0.8825\n"
     ]
    },
    {
     "name": "stderr",
     "output_type": "stream",
     "text": [
      "[Epoch 61]: 100%|██████████| 234/234 [00:10<00:00, 23.25it/s]\n"
     ]
    },
    {
     "name": "stdout",
     "output_type": "stream",
     "text": [
      "Train Acc: 96.6506, Loss: 0.0923\n",
      "Val Acc: 0.8688\n"
     ]
    },
    {
     "name": "stderr",
     "output_type": "stream",
     "text": [
      "[Epoch 62]: 100%|██████████| 234/234 [00:10<00:00, 21.60it/s]\n"
     ]
    },
    {
     "name": "stdout",
     "output_type": "stream",
     "text": [
      "Train Acc: 97.2937, Loss: 0.0745\n",
      "Val Acc: 0.8825\n"
     ]
    },
    {
     "name": "stderr",
     "output_type": "stream",
     "text": [
      "[Epoch 63]: 100%|██████████| 234/234 [00:10<00:00, 22.40it/s]\n"
     ]
    },
    {
     "name": "stdout",
     "output_type": "stream",
     "text": [
      "Train Acc: 97.1329, Loss: 0.0789\n",
      "Val Acc: 0.8862\n"
     ]
    },
    {
     "name": "stderr",
     "output_type": "stream",
     "text": [
      "[Epoch 64]: 100%|██████████| 234/234 [00:09<00:00, 24.16it/s]\n"
     ]
    },
    {
     "name": "stdout",
     "output_type": "stream",
     "text": [
      "Train Acc: 97.5616, Loss: 0.0695\n",
      "Val Acc: 0.8950\n"
     ]
    },
    {
     "name": "stderr",
     "output_type": "stream",
     "text": [
      "[Epoch 65]: 100%|██████████| 234/234 [00:10<00:00, 22.32it/s]\n"
     ]
    },
    {
     "name": "stdout",
     "output_type": "stream",
     "text": [
      "Train Acc: 96.1147, Loss: 0.0981\n",
      "Val Acc: 0.8775\n"
     ]
    },
    {
     "name": "stderr",
     "output_type": "stream",
     "text": [
      "[Epoch 66]: 100%|██████████| 234/234 [00:08<00:00, 27.25it/s]\n"
     ]
    },
    {
     "name": "stdout",
     "output_type": "stream",
     "text": [
      "Train Acc: 97.1865, Loss: 0.0822\n",
      "Val Acc: 0.8838\n"
     ]
    },
    {
     "name": "stderr",
     "output_type": "stream",
     "text": [
      "[Epoch 67]: 100%|██████████| 234/234 [00:09<00:00, 24.26it/s]\n"
     ]
    },
    {
     "name": "stdout",
     "output_type": "stream",
     "text": [
      "Train Acc: 97.6688, Loss: 0.0748\n",
      "Val Acc: 0.8788\n"
     ]
    },
    {
     "name": "stderr",
     "output_type": "stream",
     "text": [
      "[Epoch 68]: 100%|██████████| 234/234 [00:09<00:00, 23.54it/s]\n"
     ]
    },
    {
     "name": "stdout",
     "output_type": "stream",
     "text": [
      "Train Acc: 97.7760, Loss: 0.0685\n",
      "Val Acc: 0.8988\n"
     ]
    },
    {
     "name": "stderr",
     "output_type": "stream",
     "text": [
      "[Epoch 69]: 100%|██████████| 234/234 [00:08<00:00, 27.21it/s]\n"
     ]
    },
    {
     "name": "stdout",
     "output_type": "stream",
     "text": [
      "Train Acc: 97.3741, Loss: 0.0728\n",
      "Val Acc: 0.8862\n"
     ]
    },
    {
     "name": "stderr",
     "output_type": "stream",
     "text": [
      "[Epoch 70]: 100%|██████████| 234/234 [00:08<00:00, 28.74it/s]\n"
     ]
    },
    {
     "name": "stdout",
     "output_type": "stream",
     "text": [
      "Train Acc: 96.7578, Loss: 0.0801\n",
      "Val Acc: 0.8888\n"
     ]
    },
    {
     "name": "stderr",
     "output_type": "stream",
     "text": [
      "[Epoch 71]: 100%|██████████| 234/234 [00:06<00:00, 35.45it/s]\n"
     ]
    },
    {
     "name": "stdout",
     "output_type": "stream",
     "text": [
      "Train Acc: 97.7224, Loss: 0.0677\n",
      "Val Acc: 0.8838\n"
     ]
    },
    {
     "name": "stderr",
     "output_type": "stream",
     "text": [
      "[Epoch 72]: 100%|██████████| 234/234 [00:06<00:00, 34.50it/s]\n"
     ]
    },
    {
     "name": "stdout",
     "output_type": "stream",
     "text": [
      "Train Acc: 97.4544, Loss: 0.0705\n",
      "Val Acc: 0.8825\n"
     ]
    },
    {
     "name": "stderr",
     "output_type": "stream",
     "text": [
      "[Epoch 73]: 100%|██████████| 234/234 [00:07<00:00, 33.26it/s]\n"
     ]
    },
    {
     "name": "stdout",
     "output_type": "stream",
     "text": [
      "Train Acc: 96.9453, Loss: 0.0774\n",
      "Val Acc: 0.8775\n"
     ]
    },
    {
     "name": "stderr",
     "output_type": "stream",
     "text": [
      "[Epoch 74]: 100%|██████████| 234/234 [00:07<00:00, 30.38it/s]\n"
     ]
    },
    {
     "name": "stdout",
     "output_type": "stream",
     "text": [
      "Train Acc: 97.3205, Loss: 0.0727\n",
      "Val Acc: 0.8562\n"
     ]
    },
    {
     "name": "stderr",
     "output_type": "stream",
     "text": [
      "[Epoch 75]: 100%|██████████| 234/234 [00:09<00:00, 24.43it/s]\n"
     ]
    },
    {
     "name": "stdout",
     "output_type": "stream",
     "text": [
      "Train Acc: 96.9721, Loss: 0.0802\n",
      "Val Acc: 0.8888\n"
     ]
    },
    {
     "name": "stderr",
     "output_type": "stream",
     "text": [
      "[Epoch 76]: 100%|██████████| 234/234 [00:09<00:00, 25.69it/s]\n"
     ]
    },
    {
     "name": "stdout",
     "output_type": "stream",
     "text": [
      "Train Acc: 97.3741, Loss: 0.0723\n",
      "Val Acc: 0.8950\n"
     ]
    },
    {
     "name": "stderr",
     "output_type": "stream",
     "text": [
      "[Epoch 77]: 100%|██████████| 234/234 [00:08<00:00, 27.14it/s]\n"
     ]
    },
    {
     "name": "stdout",
     "output_type": "stream",
     "text": [
      "Train Acc: 97.3205, Loss: 0.0669\n",
      "Val Acc: 0.8888\n"
     ]
    },
    {
     "name": "stderr",
     "output_type": "stream",
     "text": [
      "[Epoch 78]: 100%|██████████| 234/234 [00:10<00:00, 22.53it/s]\n"
     ]
    },
    {
     "name": "stdout",
     "output_type": "stream",
     "text": [
      "Train Acc: 97.9636, Loss: 0.0533\n",
      "Val Acc: 0.8888\n"
     ]
    },
    {
     "name": "stderr",
     "output_type": "stream",
     "text": [
      "[Epoch 79]: 100%|██████████| 234/234 [00:10<00:00, 22.82it/s]\n"
     ]
    },
    {
     "name": "stdout",
     "output_type": "stream",
     "text": [
      "Train Acc: 97.5884, Loss: 0.0591\n",
      "Val Acc: 0.8788\n"
     ]
    },
    {
     "name": "stderr",
     "output_type": "stream",
     "text": [
      "[Epoch 80]: 100%|██████████| 234/234 [00:11<00:00, 21.12it/s]\n"
     ]
    },
    {
     "name": "stdout",
     "output_type": "stream",
     "text": [
      "Train Acc: 97.6688, Loss: 0.0600\n",
      "Val Acc: 0.8762\n"
     ]
    },
    {
     "name": "stderr",
     "output_type": "stream",
     "text": [
      "[Epoch 81]: 100%|██████████| 234/234 [00:10<00:00, 22.11it/s]\n"
     ]
    },
    {
     "name": "stdout",
     "output_type": "stream",
     "text": [
      "Train Acc: 97.3205, Loss: 0.0684\n",
      "Val Acc: 0.8850\n"
     ]
    },
    {
     "name": "stderr",
     "output_type": "stream",
     "text": [
      "[Epoch 82]: 100%|██████████| 234/234 [00:08<00:00, 28.62it/s]\n"
     ]
    },
    {
     "name": "stdout",
     "output_type": "stream",
     "text": [
      "Train Acc: 97.6956, Loss: 0.0593\n",
      "Val Acc: 0.8800\n"
     ]
    },
    {
     "name": "stderr",
     "output_type": "stream",
     "text": [
      "[Epoch 83]: 100%|██████████| 234/234 [00:09<00:00, 25.46it/s]\n"
     ]
    },
    {
     "name": "stdout",
     "output_type": "stream",
     "text": [
      "Train Acc: 97.3741, Loss: 0.0677\n",
      "Val Acc: 0.8688\n"
     ]
    },
    {
     "name": "stderr",
     "output_type": "stream",
     "text": [
      "[Epoch 84]: 100%|██████████| 234/234 [00:08<00:00, 26.55it/s]\n"
     ]
    },
    {
     "name": "stdout",
     "output_type": "stream",
     "text": [
      "Train Acc: 97.9636, Loss: 0.0601\n",
      "Val Acc: 0.8900\n"
     ]
    },
    {
     "name": "stderr",
     "output_type": "stream",
     "text": [
      "[Epoch 85]: 100%|██████████| 234/234 [00:06<00:00, 34.13it/s]\n"
     ]
    },
    {
     "name": "stdout",
     "output_type": "stream",
     "text": [
      "Train Acc: 97.7760, Loss: 0.0681\n",
      "Val Acc: 0.8900\n"
     ]
    },
    {
     "name": "stderr",
     "output_type": "stream",
     "text": [
      "[Epoch 86]: 100%|██████████| 234/234 [00:07<00:00, 31.83it/s]\n"
     ]
    },
    {
     "name": "stdout",
     "output_type": "stream",
     "text": [
      "Train Acc: 97.7760, Loss: 0.0582\n",
      "Val Acc: 0.8875\n"
     ]
    },
    {
     "name": "stderr",
     "output_type": "stream",
     "text": [
      "[Epoch 87]: 100%|██████████| 234/234 [00:07<00:00, 32.56it/s]\n"
     ]
    },
    {
     "name": "stdout",
     "output_type": "stream",
     "text": [
      "Train Acc: 98.2315, Loss: 0.0503\n",
      "Val Acc: 0.8975\n"
     ]
    },
    {
     "name": "stderr",
     "output_type": "stream",
     "text": [
      "[Epoch 88]: 100%|██████████| 234/234 [00:07<00:00, 29.59it/s]\n"
     ]
    },
    {
     "name": "stdout",
     "output_type": "stream",
     "text": [
      "Train Acc: 97.8564, Loss: 0.0594\n",
      "Val Acc: 0.8888\n"
     ]
    },
    {
     "name": "stderr",
     "output_type": "stream",
     "text": [
      "[Epoch 89]: 100%|██████████| 234/234 [00:09<00:00, 23.94it/s]\n"
     ]
    },
    {
     "name": "stdout",
     "output_type": "stream",
     "text": [
      "Train Acc: 97.5080, Loss: 0.0644\n",
      "Val Acc: 0.8850\n"
     ]
    },
    {
     "name": "stderr",
     "output_type": "stream",
     "text": [
      "[Epoch 90]: 100%|██████████| 234/234 [00:09<00:00, 23.87it/s]\n"
     ]
    },
    {
     "name": "stdout",
     "output_type": "stream",
     "text": [
      "Train Acc: 97.8028, Loss: 0.0598\n",
      "Val Acc: 0.8900\n"
     ]
    },
    {
     "name": "stderr",
     "output_type": "stream",
     "text": [
      "[Epoch 91]: 100%|██████████| 234/234 [00:09<00:00, 24.33it/s]\n"
     ]
    },
    {
     "name": "stdout",
     "output_type": "stream",
     "text": [
      "Train Acc: 98.2047, Loss: 0.0456\n",
      "Val Acc: 0.9000\n",
      "✅ Saved best model!\n"
     ]
    },
    {
     "name": "stderr",
     "output_type": "stream",
     "text": [
      "[Epoch 92]: 100%|██████████| 234/234 [00:10<00:00, 22.56it/s]\n"
     ]
    },
    {
     "name": "stdout",
     "output_type": "stream",
     "text": [
      "Train Acc: 97.8564, Loss: 0.0606\n",
      "Val Acc: 0.8838\n"
     ]
    },
    {
     "name": "stderr",
     "output_type": "stream",
     "text": [
      "[Epoch 93]: 100%|██████████| 234/234 [00:09<00:00, 24.82it/s]\n"
     ]
    },
    {
     "name": "stdout",
     "output_type": "stream",
     "text": [
      "Train Acc: 98.3119, Loss: 0.0506\n",
      "Val Acc: 0.8825\n"
     ]
    },
    {
     "name": "stderr",
     "output_type": "stream",
     "text": [
      "[Epoch 94]: 100%|██████████| 234/234 [00:09<00:00, 24.31it/s]\n"
     ]
    },
    {
     "name": "stdout",
     "output_type": "stream",
     "text": [
      "Train Acc: 98.0707, Loss: 0.0552\n",
      "Val Acc: 0.8900\n"
     ]
    },
    {
     "name": "stderr",
     "output_type": "stream",
     "text": [
      "[Epoch 95]: 100%|██████████| 234/234 [00:08<00:00, 28.79it/s]\n"
     ]
    },
    {
     "name": "stdout",
     "output_type": "stream",
     "text": [
      "Train Acc: 98.0171, Loss: 0.0563\n",
      "Val Acc: 0.8838\n"
     ]
    },
    {
     "name": "stderr",
     "output_type": "stream",
     "text": [
      "[Epoch 96]: 100%|██████████| 234/234 [00:09<00:00, 25.82it/s]\n"
     ]
    },
    {
     "name": "stdout",
     "output_type": "stream",
     "text": [
      "Train Acc: 97.9368, Loss: 0.0590\n",
      "Val Acc: 0.8988\n"
     ]
    },
    {
     "name": "stderr",
     "output_type": "stream",
     "text": [
      "[Epoch 97]: 100%|██████████| 234/234 [00:09<00:00, 24.99it/s]\n"
     ]
    },
    {
     "name": "stdout",
     "output_type": "stream",
     "text": [
      "Train Acc: 97.7760, Loss: 0.0539\n",
      "Val Acc: 0.8812\n"
     ]
    },
    {
     "name": "stderr",
     "output_type": "stream",
     "text": [
      "[Epoch 98]: 100%|██████████| 234/234 [00:07<00:00, 32.82it/s]\n"
     ]
    },
    {
     "name": "stdout",
     "output_type": "stream",
     "text": [
      "Train Acc: 97.9904, Loss: 0.0535\n",
      "Val Acc: 0.8825\n"
     ]
    },
    {
     "name": "stderr",
     "output_type": "stream",
     "text": [
      "[Epoch 99]: 100%|██████████| 234/234 [00:07<00:00, 32.01it/s]\n"
     ]
    },
    {
     "name": "stdout",
     "output_type": "stream",
     "text": [
      "Train Acc: 97.6420, Loss: 0.0602\n",
      "Val Acc: 0.8912\n"
     ]
    },
    {
     "name": "stderr",
     "output_type": "stream",
     "text": [
      "[Epoch 100]: 100%|██████████| 234/234 [00:07<00:00, 32.67it/s]\n"
     ]
    },
    {
     "name": "stdout",
     "output_type": "stream",
     "text": [
      "Train Acc: 98.0975, Loss: 0.0559\n",
      "Val Acc: 0.8850\n",
      "\n",
      "📊 Test Evaluation:\n",
      "✅ Test Accuracy: 88.00%\n",
      "AUC: 0.9331\n",
      "Precision: 0.9055, Recall: 0.9124, Specificity: 0.8182, F1: 0.9089\n",
      "Confusion Matrix:\n",
      "[[225  50]\n",
      " [ 46 479]]\n"
     ]
    }
   ],
   "source": [
    "# ResNet18 + 데이터 증강 (Resize((224, 224) / RandomHorizontalFlip / RandomRotation / RandomErasing)\n",
    "\n",
    "import os, numpy as np, torch, gc, csv\n",
    "import torch.nn as nn\n",
    "import torch.nn.functional as F\n",
    "from torch.utils.data import Dataset, DataLoader\n",
    "from sklearn.model_selection import train_test_split\n",
    "from sklearn.metrics import classification_report, roc_auc_score, confusion_matrix\n",
    "from glob import glob\n",
    "from tqdm import tqdm\n",
    "import torchvision.transforms as transforms\n",
    "from torchvision.models import resnet18\n",
    "from datetime import datetime\n",
    "from PIL import Image\n",
    "\n",
    "# 디바이스 설정\n",
    "device = torch.device(\"cuda:1\" if torch.cuda.is_available() else \"cpu\")\n",
    "print(f\"Using device: {device}\")\n",
    "\n",
    "# 경로 및 하이퍼파라미터 설정\n",
    "slice_root = \"/data1/lidc-idri/slices\"\n",
    "batch_size = 16\n",
    "num_epochs = 100\n",
    "learning_rate = 1e-4\n",
    "save_path = os.path.join(\"pth\", \"resnet18_best_aug1.pth\")\n",
    "os.makedirs(\"logs\", exist_ok=True)\n",
    "log_path = os.path.join(\"logs\", \"best_model_log1.csv\")\n",
    "\n",
    "# Transform 설정\n",
    "train_transform = transforms.Compose([\n",
    "    transforms.ToPILImage(),\n",
    "    transforms.Resize((224, 224)),\n",
    "    transforms.RandomHorizontalFlip(),\n",
    "    transforms.RandomRotation(10),\n",
    "    transforms.ToTensor(),\n",
    "    transforms.Normalize([0.5], [0.5]),\n",
    "    transforms.RandomErasing(p=0.5, scale=(0.02, 0.1), ratio=(0.3, 3.3), value=0)\n",
    "])\n",
    "\n",
    "val_transform = transforms.Compose([\n",
    "    transforms.ToPILImage(),\n",
    "    transforms.Resize((224, 224)),\n",
    "    transforms.ToTensor(),\n",
    "    transforms.Normalize([0.5], [0.5])\n",
    "])\n",
    "\n",
    "# 라벨 추출 함수\n",
    "def extract_label_from_filename(fname):\n",
    "    try:\n",
    "        score = int(fname.split(\"_\")[-1].replace(\".npy\", \"\"))\n",
    "        return None if score == 3 else int(score >= 4)\n",
    "    except:\n",
    "        return None\n",
    "\n",
    "# 데이터셋 정의\n",
    "class CTDataset(Dataset):\n",
    "    def __init__(self, paths, labels, transform=None):\n",
    "        self.paths = paths\n",
    "        self.labels = labels\n",
    "        self.transform = transform\n",
    "\n",
    "    def __getitem__(self, idx):\n",
    "        file_path = self.paths[idx]\n",
    "        label = self.labels[idx]\n",
    "        img = np.load(file_path)\n",
    "        img = np.clip(img, -1000, 400)\n",
    "        img = (img + 1000) / 1400.\n",
    "        img = np.expand_dims(img, axis=-1)\n",
    "        if self.transform:\n",
    "            img = self.transform(img)\n",
    "        else:\n",
    "            img = torch.tensor(img.transpose(2, 0, 1), dtype=torch.float32)\n",
    "        return img, torch.tensor(label).long()\n",
    "\n",
    "    def __len__(self):\n",
    "        return len(self.paths)\n",
    "\n",
    "# CSV 기록 함수\n",
    "def log_best_experiment_result(log_path, model_name, exp_tag, epoch, val_acc, test_acc, auc, precision, recall, specificity, f1, notes=\"\"):\n",
    "    log_exists = os.path.exists(log_path)\n",
    "    with open(log_path, 'a', newline='') as csvfile:\n",
    "        writer = csv.writer(csvfile)\n",
    "        if not log_exists:\n",
    "            writer.writerow([\"timestamp\", \"model\", \"exp_tag\", \"epoch\", \"val_acc\", \"test_acc\", \"auc\", \"precision\", \"recall\", \"specificity\", \"f1\", \"notes\"])\n",
    "        writer.writerow([\n",
    "            datetime.now().strftime(\"%Y-%m-%d %H:%M:%S\"),\n",
    "            model_name,\n",
    "            exp_tag,\n",
    "            epoch,\n",
    "            f\"{val_acc:.4f}\",\n",
    "            f\"{test_acc:.4f}\",\n",
    "            f\"{auc:.4f}\",\n",
    "            f\"{precision:.4f}\",\n",
    "            f\"{recall:.4f}\",\n",
    "            f\"{specificity:.4f}\",\n",
    "            f\"{f1:.4f}\",\n",
    "            notes\n",
    "        ])\n",
    "\n",
    "# 학습 루프\n",
    "def run():\n",
    "    all_files = glob(os.path.join(slice_root, \"LIDC-IDRI-*\", \"*.npy\"))\n",
    "    file_label_pairs = [(f, extract_label_from_filename(f)) for f in all_files]\n",
    "    file_label_pairs = [(f, l) for f, l in file_label_pairs if l is not None]\n",
    "    files, labels = zip(*file_label_pairs)\n",
    "    train_files, temp_files, train_labels, temp_labels = train_test_split(files, labels, test_size=0.3, random_state=42)\n",
    "    val_files, test_files, val_labels, test_labels = train_test_split(temp_files, temp_labels, test_size=0.5, random_state=42)\n",
    "\n",
    "    train_loader = DataLoader(CTDataset(train_files, train_labels, transform=train_transform), batch_size=batch_size, num_workers=4, pin_memory=True)\n",
    "    val_loader = DataLoader(CTDataset(val_files, val_labels, transform=val_transform), batch_size=batch_size)\n",
    "    test_loader = DataLoader(CTDataset(test_files, test_labels, transform=val_transform), batch_size=batch_size)\n",
    "\n",
    "    model = resnet18(weights=None)\n",
    "    model.conv1 = nn.Conv2d(1, 64, kernel_size=7, stride=2, padding=3, bias=False)\n",
    "    model.fc = nn.Linear(model.fc.in_features, 2)\n",
    "    model = model.to(device)\n",
    "\n",
    "    criterion = nn.CrossEntropyLoss()\n",
    "    optimizer = torch.optim.Adam(model.parameters(), lr=learning_rate)\n",
    "    best_acc = 0.0\n",
    "    best_epoch = 0\n",
    "\n",
    "    for epoch in range(num_epochs):\n",
    "        model.train()\n",
    "        epoch_loss, correct, total = 0, 0, 0\n",
    "        for images, labels in tqdm(train_loader, desc=f\"[Epoch {epoch+1}]\"):\n",
    "            images, labels = images.to(device), labels.to(device)\n",
    "            outputs = model(images)\n",
    "            loss = criterion(outputs, labels)\n",
    "            optimizer.zero_grad()\n",
    "            loss.backward()\n",
    "            optimizer.step()\n",
    "            _, preds = outputs.max(1)\n",
    "            correct += (preds == labels).sum().item()\n",
    "            total += labels.size(0)\n",
    "            epoch_loss += loss.item()\n",
    "        print(f\"Train Acc: {(correct/total)*100:.4f}, Loss: {epoch_loss/len(train_loader):.4f}\")\n",
    "\n",
    "        model.eval()\n",
    "        correct, total = 0, 0\n",
    "        with torch.no_grad():\n",
    "            for imgs, labels in val_loader:\n",
    "                imgs, labels = imgs.to(device), labels.to(device)\n",
    "                outputs = model(imgs)\n",
    "                _, preds = outputs.max(1)\n",
    "                correct += (preds == labels).sum().item()\n",
    "                total += labels.size(0)\n",
    "        val_acc = correct / total\n",
    "        print(f\"Val Acc: {val_acc:.4f}\")\n",
    "\n",
    "        if val_acc > best_acc:\n",
    "            best_acc = val_acc\n",
    "            best_epoch = epoch + 1\n",
    "            torch.save(model.state_dict(), save_path)\n",
    "            print(\"✅ Saved best model!\")\n",
    "\n",
    "    # 테스트\n",
    "    print(\"\\n📊 Test Evaluation:\")\n",
    "    model.load_state_dict(torch.load(save_path))\n",
    "    model.eval()\n",
    "    y_true, y_pred, y_probs = [], [], []\n",
    "    with torch.no_grad():\n",
    "        for imgs, labels in test_loader:\n",
    "            imgs, labels = imgs.to(device), labels.to(device)\n",
    "            outputs = model(imgs)\n",
    "            probs = F.softmax(outputs, dim=1)[:, 1]\n",
    "            preds = outputs.argmax(1)\n",
    "            y_probs.extend(probs.cpu().numpy())\n",
    "            y_pred.extend(preds.cpu().numpy())\n",
    "            y_true.extend(labels.cpu().numpy())\n",
    "\n",
    "    y_true, y_pred = np.array(y_true), np.array(y_pred)\n",
    "    test_acc = (y_true == y_pred).mean()\n",
    "    auc = roc_auc_score(y_true, y_probs)\n",
    "    cm = confusion_matrix(y_true, y_pred)\n",
    "    tn, fp, fn, tp = cm.ravel()\n",
    "    precision = tp / (tp + fp + 1e-8)\n",
    "    recall = tp / (tp + fn + 1e-8)\n",
    "    specificity = tn / (tn + fp + 1e-8)\n",
    "    f1 = 2 * precision * recall / (precision + recall + 1e-8)\n",
    "\n",
    "    print(f\"✅ Test Accuracy: {test_acc * 100:.2f}%\")\n",
    "    print(f\"AUC: {auc:.4f}\")\n",
    "    print(f\"Precision: {precision:.4f}, Recall: {recall:.4f}, Specificity: {specificity:.4f}, F1: {f1:.4f}\")\n",
    "    print(\"Confusion Matrix:\")\n",
    "    print(cm)\n",
    "\n",
    "    log_best_experiment_result(\n",
    "        log_path=log_path,\n",
    "        model_name=\"ResNet18\",\n",
    "        exp_tag=\"aug1_flip_rot_erase\",\n",
    "        epoch=best_epoch,\n",
    "        val_acc=best_acc,\n",
    "        test_acc=test_acc,\n",
    "        auc=auc,\n",
    "        precision=precision,\n",
    "        recall=recall,\n",
    "        specificity=specificity,\n",
    "        f1=f1,\n",
    "        notes=\"CenResizeterCrop / RandomHorizontalFlip / RandomRotation / RandomErasing\"\n",
    "    )\n",
    "\n",
    "if __name__ == \"__main__\":\n",
    "    run()"
   ]
  },
  {
   "cell_type": "code",
   "execution_count": null,
   "metadata": {},
   "outputs": [
    {
     "name": "stdout",
     "output_type": "stream",
     "text": [
      "Using device: cuda:1\n"
     ]
    },
    {
     "name": "stderr",
     "output_type": "stream",
     "text": [
      "[Epoch 1]: 100%|██████████| 234/234 [00:26<00:00,  8.77it/s]\n"
     ]
    },
    {
     "name": "stdout",
     "output_type": "stream",
     "text": [
      "Train Acc: 69.6141, Loss: 0.5848\n",
      "Val Acc: 0.7412\n",
      "✅ Saved best model!\n"
     ]
    },
    {
     "name": "stderr",
     "output_type": "stream",
     "text": [
      "[Epoch 2]: 100%|██████████| 234/234 [00:24<00:00,  9.36it/s]\n"
     ]
    },
    {
     "name": "stdout",
     "output_type": "stream",
     "text": [
      "Train Acc: 84.4855, Loss: 0.3648\n",
      "Val Acc: 0.7925\n",
      "✅ Saved best model!\n"
     ]
    },
    {
     "name": "stderr",
     "output_type": "stream",
     "text": [
      "[Epoch 3]: 100%|██████████| 234/234 [00:25<00:00,  9.06it/s]\n"
     ]
    },
    {
     "name": "stdout",
     "output_type": "stream",
     "text": [
      "Train Acc: 92.2830, Loss: 0.2024\n",
      "Val Acc: 0.8512\n",
      "✅ Saved best model!\n"
     ]
    },
    {
     "name": "stderr",
     "output_type": "stream",
     "text": [
      "[Epoch 4]: 100%|██████████| 234/234 [00:25<00:00,  9.15it/s]\n"
     ]
    },
    {
     "name": "stdout",
     "output_type": "stream",
     "text": [
      "Train Acc: 95.8467, Loss: 0.1231\n",
      "Val Acc: 0.8413\n"
     ]
    },
    {
     "name": "stderr",
     "output_type": "stream",
     "text": [
      "[Epoch 5]: 100%|██████████| 234/234 [00:28<00:00,  8.09it/s]\n"
     ]
    },
    {
     "name": "stdout",
     "output_type": "stream",
     "text": [
      "Train Acc: 96.7042, Loss: 0.0995\n",
      "Val Acc: 0.7650\n"
     ]
    },
    {
     "name": "stderr",
     "output_type": "stream",
     "text": [
      "[Epoch 6]: 100%|██████████| 234/234 [00:27<00:00,  8.56it/s]\n"
     ]
    },
    {
     "name": "stdout",
     "output_type": "stream",
     "text": [
      "Train Acc: 96.9989, Loss: 0.0880\n",
      "Val Acc: 0.8400\n"
     ]
    },
    {
     "name": "stderr",
     "output_type": "stream",
     "text": [
      "[Epoch 7]: 100%|██████████| 234/234 [00:31<00:00,  7.40it/s]\n"
     ]
    },
    {
     "name": "stdout",
     "output_type": "stream",
     "text": [
      "Train Acc: 96.7310, Loss: 0.0879\n",
      "Val Acc: 0.8588\n",
      "✅ Saved best model!\n"
     ]
    },
    {
     "name": "stderr",
     "output_type": "stream",
     "text": [
      "[Epoch 8]: 100%|██████████| 234/234 [00:25<00:00,  9.02it/s]\n"
     ]
    },
    {
     "name": "stdout",
     "output_type": "stream",
     "text": [
      "Train Acc: 97.6152, Loss: 0.0751\n",
      "Val Acc: 0.8650\n",
      "✅ Saved best model!\n"
     ]
    },
    {
     "name": "stderr",
     "output_type": "stream",
     "text": [
      "[Epoch 9]: 100%|██████████| 234/234 [00:29<00:00,  7.99it/s]\n"
     ]
    },
    {
     "name": "stdout",
     "output_type": "stream",
     "text": [
      "Train Acc: 98.3923, Loss: 0.0468\n",
      "Val Acc: 0.8588\n"
     ]
    },
    {
     "name": "stderr",
     "output_type": "stream",
     "text": [
      "[Epoch 10]: 100%|██████████| 234/234 [00:33<00:00,  7.01it/s]\n"
     ]
    },
    {
     "name": "stdout",
     "output_type": "stream",
     "text": [
      "Train Acc: 98.6066, Loss: 0.0410\n",
      "Val Acc: 0.7825\n"
     ]
    },
    {
     "name": "stderr",
     "output_type": "stream",
     "text": [
      "[Epoch 11]: 100%|██████████| 234/234 [00:31<00:00,  7.41it/s]\n"
     ]
    },
    {
     "name": "stdout",
     "output_type": "stream",
     "text": [
      "Train Acc: 98.4727, Loss: 0.0467\n",
      "Val Acc: 0.8275\n"
     ]
    },
    {
     "name": "stderr",
     "output_type": "stream",
     "text": [
      "[Epoch 12]: 100%|██████████| 234/234 [00:27<00:00,  8.43it/s]\n"
     ]
    },
    {
     "name": "stdout",
     "output_type": "stream",
     "text": [
      "Train Acc: 97.6420, Loss: 0.0695\n",
      "Val Acc: 0.8762\n",
      "✅ Saved best model!\n"
     ]
    },
    {
     "name": "stderr",
     "output_type": "stream",
     "text": [
      "[Epoch 13]: 100%|██████████| 234/234 [00:28<00:00,  8.27it/s]\n"
     ]
    },
    {
     "name": "stdout",
     "output_type": "stream",
     "text": [
      "Train Acc: 98.5798, Loss: 0.0407\n",
      "Val Acc: 0.8712\n"
     ]
    },
    {
     "name": "stderr",
     "output_type": "stream",
     "text": [
      "[Epoch 14]: 100%|██████████| 234/234 [00:27<00:00,  8.38it/s]\n"
     ]
    },
    {
     "name": "stdout",
     "output_type": "stream",
     "text": [
      "Train Acc: 97.4277, Loss: 0.0721\n",
      "Val Acc: 0.8600\n"
     ]
    },
    {
     "name": "stderr",
     "output_type": "stream",
     "text": [
      "[Epoch 15]: 100%|██████████| 234/234 [00:31<00:00,  7.52it/s]\n"
     ]
    },
    {
     "name": "stdout",
     "output_type": "stream",
     "text": [
      "Train Acc: 98.3923, Loss: 0.0454\n",
      "Val Acc: 0.8900\n",
      "✅ Saved best model!\n"
     ]
    },
    {
     "name": "stderr",
     "output_type": "stream",
     "text": [
      "[Epoch 16]: 100%|██████████| 234/234 [00:29<00:00,  7.93it/s]\n"
     ]
    },
    {
     "name": "stdout",
     "output_type": "stream",
     "text": [
      "Train Acc: 99.4105, Loss: 0.0164\n",
      "Val Acc: 0.8812\n"
     ]
    },
    {
     "name": "stderr",
     "output_type": "stream",
     "text": [
      "[Epoch 17]: 100%|██████████| 234/234 [00:34<00:00,  6.87it/s]\n"
     ]
    },
    {
     "name": "stdout",
     "output_type": "stream",
     "text": [
      "Train Acc: 98.5531, Loss: 0.0396\n",
      "Val Acc: 0.8413\n"
     ]
    },
    {
     "name": "stderr",
     "output_type": "stream",
     "text": [
      "[Epoch 18]: 100%|██████████| 234/234 [00:28<00:00,  8.31it/s]\n"
     ]
    },
    {
     "name": "stdout",
     "output_type": "stream",
     "text": [
      "Train Acc: 98.2851, Loss: 0.0487\n",
      "Val Acc: 0.8363\n"
     ]
    },
    {
     "name": "stderr",
     "output_type": "stream",
     "text": [
      "[Epoch 19]: 100%|██████████| 234/234 [00:31<00:00,  7.31it/s]\n"
     ]
    },
    {
     "name": "stdout",
     "output_type": "stream",
     "text": [
      "Train Acc: 98.6066, Loss: 0.0419\n",
      "Val Acc: 0.8825\n"
     ]
    },
    {
     "name": "stderr",
     "output_type": "stream",
     "text": [
      "[Epoch 20]: 100%|██████████| 234/234 [00:30<00:00,  7.68it/s]\n"
     ]
    },
    {
     "name": "stdout",
     "output_type": "stream",
     "text": [
      "Train Acc: 98.9550, Loss: 0.0269\n",
      "Val Acc: 0.8538\n"
     ]
    },
    {
     "name": "stderr",
     "output_type": "stream",
     "text": [
      "[Epoch 21]: 100%|██████████| 234/234 [00:27<00:00,  8.60it/s]\n"
     ]
    },
    {
     "name": "stdout",
     "output_type": "stream",
     "text": [
      "Train Acc: 98.9818, Loss: 0.0365\n",
      "Val Acc: 0.8625\n"
     ]
    },
    {
     "name": "stderr",
     "output_type": "stream",
     "text": [
      "[Epoch 22]: 100%|██████████| 234/234 [00:30<00:00,  7.69it/s]\n"
     ]
    },
    {
     "name": "stdout",
     "output_type": "stream",
     "text": [
      "Train Acc: 98.7942, Loss: 0.0504\n",
      "Val Acc: 0.8650\n"
     ]
    },
    {
     "name": "stderr",
     "output_type": "stream",
     "text": [
      "[Epoch 23]: 100%|██████████| 234/234 [00:34<00:00,  6.81it/s]\n"
     ]
    },
    {
     "name": "stdout",
     "output_type": "stream",
     "text": [
      "Train Acc: 98.2851, Loss: 0.0458\n",
      "Val Acc: 0.8650\n"
     ]
    },
    {
     "name": "stderr",
     "output_type": "stream",
     "text": [
      "[Epoch 24]: 100%|██████████| 234/234 [00:30<00:00,  7.64it/s]\n"
     ]
    },
    {
     "name": "stdout",
     "output_type": "stream",
     "text": [
      "Train Acc: 98.6066, Loss: 0.0397\n",
      "Val Acc: 0.8725\n"
     ]
    },
    {
     "name": "stderr",
     "output_type": "stream",
     "text": [
      "[Epoch 25]: 100%|██████████| 234/234 [00:27<00:00,  8.38it/s]\n"
     ]
    },
    {
     "name": "stdout",
     "output_type": "stream",
     "text": [
      "Train Acc: 99.3837, Loss: 0.0198\n",
      "Val Acc: 0.8650\n"
     ]
    },
    {
     "name": "stderr",
     "output_type": "stream",
     "text": [
      "[Epoch 26]: 100%|██████████| 234/234 [03:22<00:00,  1.15it/s]\n"
     ]
    },
    {
     "name": "stdout",
     "output_type": "stream",
     "text": [
      "Train Acc: 99.4641, Loss: 0.0145\n",
      "Val Acc: 0.8538\n"
     ]
    },
    {
     "name": "stderr",
     "output_type": "stream",
     "text": [
      "[Epoch 27]: 100%|██████████| 234/234 [06:41<00:00,  1.71s/it]\n"
     ]
    },
    {
     "name": "stdout",
     "output_type": "stream",
     "text": [
      "Train Acc: 99.5981, Loss: 0.0120\n",
      "Val Acc: 0.8588\n"
     ]
    },
    {
     "name": "stderr",
     "output_type": "stream",
     "text": [
      "[Epoch 28]: 100%|██████████| 234/234 [06:42<00:00,  1.72s/it]\n"
     ]
    },
    {
     "name": "stdout",
     "output_type": "stream",
     "text": [
      "Train Acc: 99.4641, Loss: 0.0149\n",
      "Val Acc: 0.8575\n"
     ]
    },
    {
     "name": "stderr",
     "output_type": "stream",
     "text": [
      "[Epoch 29]: 100%|██████████| 234/234 [07:04<00:00,  1.82s/it]\n"
     ]
    },
    {
     "name": "stdout",
     "output_type": "stream",
     "text": [
      "Train Acc: 98.4727, Loss: 0.0495\n",
      "Val Acc: 0.8575\n"
     ]
    },
    {
     "name": "stderr",
     "output_type": "stream",
     "text": [
      "[Epoch 30]: 100%|██████████| 234/234 [04:40<00:00,  1.20s/it]\n"
     ]
    },
    {
     "name": "stdout",
     "output_type": "stream",
     "text": [
      "Train Acc: 99.0086, Loss: 0.0357\n",
      "Val Acc: 0.8650\n"
     ]
    },
    {
     "name": "stderr",
     "output_type": "stream",
     "text": [
      "[Epoch 31]: 100%|██████████| 234/234 [06:58<00:00,  1.79s/it]\n"
     ]
    },
    {
     "name": "stdout",
     "output_type": "stream",
     "text": [
      "Train Acc: 99.3033, Loss: 0.0197\n",
      "Val Acc: 0.8600\n"
     ]
    },
    {
     "name": "stderr",
     "output_type": "stream",
     "text": [
      "[Epoch 32]: 100%|██████████| 234/234 [06:27<00:00,  1.65s/it]\n"
     ]
    },
    {
     "name": "stdout",
     "output_type": "stream",
     "text": [
      "Train Acc: 99.0622, Loss: 0.0305\n",
      "Val Acc: 0.8550\n"
     ]
    },
    {
     "name": "stderr",
     "output_type": "stream",
     "text": [
      "[Epoch 33]: 100%|██████████| 234/234 [08:37<00:00,  2.21s/it]\n"
     ]
    },
    {
     "name": "stdout",
     "output_type": "stream",
     "text": [
      "Train Acc: 98.4995, Loss: 0.0424\n",
      "Val Acc: 0.8638\n"
     ]
    },
    {
     "name": "stderr",
     "output_type": "stream",
     "text": [
      "[Epoch 34]: 100%|██████████| 234/234 [06:11<00:00,  1.59s/it]\n"
     ]
    },
    {
     "name": "stdout",
     "output_type": "stream",
     "text": [
      "Train Acc: 99.5445, Loss: 0.0130\n",
      "Val Acc: 0.8812\n"
     ]
    },
    {
     "name": "stderr",
     "output_type": "stream",
     "text": [
      "[Epoch 35]: 100%|██████████| 234/234 [00:46<00:00,  5.04it/s]\n"
     ]
    },
    {
     "name": "stdout",
     "output_type": "stream",
     "text": [
      "Train Acc: 99.7856, Loss: 0.0113\n",
      "Val Acc: 0.8800\n"
     ]
    },
    {
     "name": "stderr",
     "output_type": "stream",
     "text": [
      "[Epoch 36]: 100%|██████████| 234/234 [01:15<00:00,  3.08it/s]\n"
     ]
    },
    {
     "name": "stdout",
     "output_type": "stream",
     "text": [
      "Train Acc: 99.7856, Loss: 0.0049\n",
      "Val Acc: 0.8925\n",
      "✅ Saved best model!\n"
     ]
    },
    {
     "name": "stderr",
     "output_type": "stream",
     "text": [
      "[Epoch 37]: 100%|██████████| 234/234 [01:14<00:00,  3.15it/s]\n"
     ]
    },
    {
     "name": "stdout",
     "output_type": "stream",
     "text": [
      "Train Acc: 98.2047, Loss: 0.0523\n",
      "Val Acc: 0.8525\n"
     ]
    },
    {
     "name": "stderr",
     "output_type": "stream",
     "text": [
      "[Epoch 38]: 100%|██████████| 234/234 [00:58<00:00,  3.98it/s]\n"
     ]
    },
    {
     "name": "stdout",
     "output_type": "stream",
     "text": [
      "Train Acc: 99.2497, Loss: 0.0252\n",
      "Val Acc: 0.8438\n"
     ]
    },
    {
     "name": "stderr",
     "output_type": "stream",
     "text": [
      "[Epoch 39]: 100%|██████████| 234/234 [00:46<00:00,  5.02it/s]\n"
     ]
    },
    {
     "name": "stdout",
     "output_type": "stream",
     "text": [
      "Train Acc: 99.1426, Loss: 0.0250\n",
      "Val Acc: 0.8800\n"
     ]
    },
    {
     "name": "stderr",
     "output_type": "stream",
     "text": [
      "[Epoch 40]: 100%|██████████| 234/234 [00:49<00:00,  4.77it/s]\n"
     ]
    },
    {
     "name": "stdout",
     "output_type": "stream",
     "text": [
      "Train Acc: 99.1961, Loss: 0.0278\n",
      "Val Acc: 0.8800\n"
     ]
    },
    {
     "name": "stderr",
     "output_type": "stream",
     "text": [
      "[Epoch 41]: 100%|██████████| 234/234 [00:51<00:00,  4.56it/s]\n"
     ]
    },
    {
     "name": "stdout",
     "output_type": "stream",
     "text": [
      "Train Acc: 99.3301, Loss: 0.0168\n",
      "Val Acc: 0.8750\n"
     ]
    },
    {
     "name": "stderr",
     "output_type": "stream",
     "text": [
      "[Epoch 42]: 100%|██████████| 234/234 [00:55<00:00,  4.19it/s]\n"
     ]
    },
    {
     "name": "stdout",
     "output_type": "stream",
     "text": [
      "Train Acc: 99.5981, Loss: 0.0121\n",
      "Val Acc: 0.8688\n"
     ]
    },
    {
     "name": "stderr",
     "output_type": "stream",
     "text": [
      "[Epoch 43]: 100%|██████████| 234/234 [00:44<00:00,  5.21it/s]\n"
     ]
    },
    {
     "name": "stdout",
     "output_type": "stream",
     "text": [
      "Train Acc: 99.3569, Loss: 0.0256\n",
      "Val Acc: 0.8750\n"
     ]
    },
    {
     "name": "stderr",
     "output_type": "stream",
     "text": [
      "[Epoch 44]: 100%|██████████| 234/234 [00:40<00:00,  5.78it/s]\n"
     ]
    },
    {
     "name": "stdout",
     "output_type": "stream",
     "text": [
      "Train Acc: 98.5798, Loss: 0.0433\n",
      "Val Acc: 0.8875\n"
     ]
    },
    {
     "name": "stderr",
     "output_type": "stream",
     "text": [
      "[Epoch 45]: 100%|██████████| 234/234 [00:44<00:00,  5.21it/s]\n"
     ]
    },
    {
     "name": "stdout",
     "output_type": "stream",
     "text": [
      "Train Acc: 99.6249, Loss: 0.0116\n",
      "Val Acc: 0.8812\n"
     ]
    },
    {
     "name": "stderr",
     "output_type": "stream",
     "text": [
      "[Epoch 46]: 100%|██████████| 234/234 [00:42<00:00,  5.54it/s]\n"
     ]
    },
    {
     "name": "stdout",
     "output_type": "stream",
     "text": [
      "Train Acc: 99.7856, Loss: 0.0060\n",
      "Val Acc: 0.8888\n"
     ]
    },
    {
     "name": "stderr",
     "output_type": "stream",
     "text": [
      "[Epoch 47]: 100%|██████████| 234/234 [00:47<00:00,  4.94it/s]\n"
     ]
    },
    {
     "name": "stdout",
     "output_type": "stream",
     "text": [
      "Train Acc: 99.8124, Loss: 0.0032\n",
      "Val Acc: 0.8862\n"
     ]
    },
    {
     "name": "stderr",
     "output_type": "stream",
     "text": [
      "[Epoch 48]: 100%|██████████| 234/234 [00:47<00:00,  4.88it/s]\n"
     ]
    },
    {
     "name": "stdout",
     "output_type": "stream",
     "text": [
      "Train Acc: 99.7856, Loss: 0.0030\n",
      "Val Acc: 0.8825\n"
     ]
    },
    {
     "name": "stderr",
     "output_type": "stream",
     "text": [
      "[Epoch 49]: 100%|██████████| 234/234 [00:50<00:00,  4.63it/s]\n"
     ]
    },
    {
     "name": "stdout",
     "output_type": "stream",
     "text": [
      "Train Acc: 99.7856, Loss: 0.0025\n",
      "Val Acc: 0.8938\n",
      "✅ Saved best model!\n"
     ]
    },
    {
     "name": "stderr",
     "output_type": "stream",
     "text": [
      "[Epoch 50]: 100%|██████████| 234/234 [00:50<00:00,  4.60it/s]\n"
     ]
    },
    {
     "name": "stdout",
     "output_type": "stream",
     "text": [
      "Train Acc: 97.6956, Loss: 0.0660\n",
      "Val Acc: 0.8600\n"
     ]
    },
    {
     "name": "stderr",
     "output_type": "stream",
     "text": [
      "[Epoch 51]: 100%|██████████| 234/234 [00:52<00:00,  4.47it/s]\n"
     ]
    },
    {
     "name": "stdout",
     "output_type": "stream",
     "text": [
      "Train Acc: 99.1158, Loss: 0.0231\n",
      "Val Acc: 0.8600\n"
     ]
    },
    {
     "name": "stderr",
     "output_type": "stream",
     "text": [
      "[Epoch 52]: 100%|██████████| 234/234 [00:54<00:00,  4.33it/s]\n"
     ]
    },
    {
     "name": "stdout",
     "output_type": "stream",
     "text": [
      "Train Acc: 99.5445, Loss: 0.0177\n",
      "Val Acc: 0.8675\n"
     ]
    },
    {
     "name": "stderr",
     "output_type": "stream",
     "text": [
      "[Epoch 53]: 100%|██████████| 234/234 [00:48<00:00,  4.87it/s]\n"
     ]
    },
    {
     "name": "stdout",
     "output_type": "stream",
     "text": [
      "Train Acc: 99.5981, Loss: 0.0176\n",
      "Val Acc: 0.8725\n"
     ]
    },
    {
     "name": "stderr",
     "output_type": "stream",
     "text": [
      "[Epoch 54]: 100%|██████████| 234/234 [00:53<00:00,  4.34it/s]\n"
     ]
    },
    {
     "name": "stdout",
     "output_type": "stream",
     "text": [
      "Train Acc: 99.7053, Loss: 0.0132\n",
      "Val Acc: 0.8800\n"
     ]
    },
    {
     "name": "stderr",
     "output_type": "stream",
     "text": [
      "[Epoch 55]: 100%|██████████| 234/234 [00:55<00:00,  4.23it/s]\n"
     ]
    },
    {
     "name": "stdout",
     "output_type": "stream",
     "text": [
      "Train Acc: 99.8124, Loss: 0.0050\n",
      "Val Acc: 0.8762\n"
     ]
    },
    {
     "name": "stderr",
     "output_type": "stream",
     "text": [
      "[Epoch 56]: 100%|██████████| 234/234 [00:53<00:00,  4.38it/s]\n"
     ]
    },
    {
     "name": "stdout",
     "output_type": "stream",
     "text": [
      "Train Acc: 99.7320, Loss: 0.0052\n",
      "Val Acc: 0.8788\n"
     ]
    },
    {
     "name": "stderr",
     "output_type": "stream",
     "text": [
      "[Epoch 57]: 100%|██████████| 234/234 [00:55<00:00,  4.19it/s]\n"
     ]
    },
    {
     "name": "stdout",
     "output_type": "stream",
     "text": [
      "Train Acc: 99.8928, Loss: 0.0028\n",
      "Val Acc: 0.8838\n"
     ]
    },
    {
     "name": "stderr",
     "output_type": "stream",
     "text": [
      "[Epoch 58]: 100%|██████████| 234/234 [00:53<00:00,  4.40it/s]\n"
     ]
    },
    {
     "name": "stdout",
     "output_type": "stream",
     "text": [
      "Train Acc: 98.4995, Loss: 0.0491\n",
      "Val Acc: 0.8400\n"
     ]
    },
    {
     "name": "stderr",
     "output_type": "stream",
     "text": [
      "[Epoch 59]: 100%|██████████| 234/234 [00:54<00:00,  4.32it/s]\n"
     ]
    },
    {
     "name": "stdout",
     "output_type": "stream",
     "text": [
      "Train Acc: 99.2497, Loss: 0.0211\n",
      "Val Acc: 0.8250\n"
     ]
    },
    {
     "name": "stderr",
     "output_type": "stream",
     "text": [
      "[Epoch 60]: 100%|██████████| 234/234 [00:52<00:00,  4.44it/s]\n"
     ]
    },
    {
     "name": "stdout",
     "output_type": "stream",
     "text": [
      "Train Acc: 99.0890, Loss: 0.0244\n",
      "Val Acc: 0.8550\n"
     ]
    },
    {
     "name": "stderr",
     "output_type": "stream",
     "text": [
      "[Epoch 61]: 100%|██████████| 234/234 [00:29<00:00,  7.81it/s]\n"
     ]
    },
    {
     "name": "stdout",
     "output_type": "stream",
     "text": [
      "Train Acc: 99.4105, Loss: 0.0267\n",
      "Val Acc: 0.8688\n"
     ]
    },
    {
     "name": "stderr",
     "output_type": "stream",
     "text": [
      "[Epoch 62]: 100%|██████████| 234/234 [00:27<00:00,  8.60it/s]\n"
     ]
    },
    {
     "name": "stdout",
     "output_type": "stream",
     "text": [
      "Train Acc: 98.5531, Loss: 0.0402\n",
      "Val Acc: 0.8750\n"
     ]
    },
    {
     "name": "stderr",
     "output_type": "stream",
     "text": [
      "[Epoch 63]: 100%|██████████| 234/234 [00:27<00:00,  8.58it/s]\n"
     ]
    },
    {
     "name": "stdout",
     "output_type": "stream",
     "text": [
      "Train Acc: 99.6517, Loss: 0.0117\n",
      "Val Acc: 0.8838\n"
     ]
    },
    {
     "name": "stderr",
     "output_type": "stream",
     "text": [
      "[Epoch 64]: 100%|██████████| 234/234 [00:27<00:00,  8.52it/s]\n"
     ]
    },
    {
     "name": "stdout",
     "output_type": "stream",
     "text": [
      "Train Acc: 99.8124, Loss: 0.0029\n",
      "Val Acc: 0.8825\n"
     ]
    },
    {
     "name": "stderr",
     "output_type": "stream",
     "text": [
      "[Epoch 65]: 100%|██████████| 234/234 [00:31<00:00,  7.34it/s]\n"
     ]
    },
    {
     "name": "stdout",
     "output_type": "stream",
     "text": [
      "Train Acc: 99.8928, Loss: 0.0024\n",
      "Val Acc: 0.8862\n"
     ]
    },
    {
     "name": "stderr",
     "output_type": "stream",
     "text": [
      "[Epoch 66]: 100%|██████████| 234/234 [00:32<00:00,  7.30it/s]\n"
     ]
    },
    {
     "name": "stdout",
     "output_type": "stream",
     "text": [
      "Train Acc: 99.7856, Loss: 0.0024\n",
      "Val Acc: 0.8838\n"
     ]
    },
    {
     "name": "stderr",
     "output_type": "stream",
     "text": [
      "[Epoch 67]: 100%|██████████| 234/234 [00:32<00:00,  7.16it/s]\n"
     ]
    },
    {
     "name": "stdout",
     "output_type": "stream",
     "text": [
      "Train Acc: 99.8124, Loss: 0.0022\n",
      "Val Acc: 0.8862\n"
     ]
    },
    {
     "name": "stderr",
     "output_type": "stream",
     "text": [
      "[Epoch 68]: 100%|██████████| 234/234 [00:27<00:00,  8.64it/s]\n"
     ]
    },
    {
     "name": "stdout",
     "output_type": "stream",
     "text": [
      "Train Acc: 99.8124, Loss: 0.0022\n",
      "Val Acc: 0.8862\n"
     ]
    },
    {
     "name": "stderr",
     "output_type": "stream",
     "text": [
      "[Epoch 69]: 100%|██████████| 234/234 [00:30<00:00,  7.69it/s]\n"
     ]
    },
    {
     "name": "stdout",
     "output_type": "stream",
     "text": [
      "Train Acc: 99.8392, Loss: 0.0021\n",
      "Val Acc: 0.8862\n"
     ]
    },
    {
     "name": "stderr",
     "output_type": "stream",
     "text": [
      "[Epoch 70]: 100%|██████████| 234/234 [00:30<00:00,  7.70it/s]\n"
     ]
    },
    {
     "name": "stdout",
     "output_type": "stream",
     "text": [
      "Train Acc: 99.8660, Loss: 0.0020\n",
      "Val Acc: 0.8825\n"
     ]
    },
    {
     "name": "stderr",
     "output_type": "stream",
     "text": [
      "[Epoch 71]: 100%|██████████| 234/234 [00:30<00:00,  7.62it/s]\n"
     ]
    },
    {
     "name": "stdout",
     "output_type": "stream",
     "text": [
      "Train Acc: 99.8392, Loss: 0.0022\n",
      "Val Acc: 0.8862\n"
     ]
    },
    {
     "name": "stderr",
     "output_type": "stream",
     "text": [
      "[Epoch 72]: 100%|██████████| 234/234 [00:27<00:00,  8.61it/s]\n"
     ]
    },
    {
     "name": "stdout",
     "output_type": "stream",
     "text": [
      "Train Acc: 99.8124, Loss: 0.0020\n",
      "Val Acc: 0.8888\n"
     ]
    },
    {
     "name": "stderr",
     "output_type": "stream",
     "text": [
      "[Epoch 73]: 100%|██████████| 234/234 [00:32<00:00,  7.30it/s]\n"
     ]
    },
    {
     "name": "stdout",
     "output_type": "stream",
     "text": [
      "Train Acc: 99.8124, Loss: 0.0087\n",
      "Val Acc: 0.8688\n"
     ]
    },
    {
     "name": "stderr",
     "output_type": "stream",
     "text": [
      "[Epoch 74]: 100%|██████████| 234/234 [00:42<00:00,  5.47it/s]\n"
     ]
    },
    {
     "name": "stdout",
     "output_type": "stream",
     "text": [
      "Train Acc: 96.4362, Loss: 0.0988\n",
      "Val Acc: 0.8512\n"
     ]
    },
    {
     "name": "stderr",
     "output_type": "stream",
     "text": [
      "[Epoch 75]: 100%|██████████| 234/234 [00:29<00:00,  7.92it/s]\n"
     ]
    },
    {
     "name": "stdout",
     "output_type": "stream",
     "text": [
      "Train Acc: 99.0354, Loss: 0.0309\n",
      "Val Acc: 0.8788\n"
     ]
    },
    {
     "name": "stderr",
     "output_type": "stream",
     "text": [
      "[Epoch 76]: 100%|██████████| 234/234 [00:34<00:00,  6.86it/s]\n"
     ]
    },
    {
     "name": "stdout",
     "output_type": "stream",
     "text": [
      "Train Acc: 99.8124, Loss: 0.0074\n",
      "Val Acc: 0.8850\n"
     ]
    },
    {
     "name": "stderr",
     "output_type": "stream",
     "text": [
      "[Epoch 77]: 100%|██████████| 234/234 [00:29<00:00,  7.99it/s]\n"
     ]
    },
    {
     "name": "stdout",
     "output_type": "stream",
     "text": [
      "Train Acc: 99.7588, Loss: 0.0154\n",
      "Val Acc: 0.8875\n"
     ]
    },
    {
     "name": "stderr",
     "output_type": "stream",
     "text": [
      "[Epoch 78]: 100%|██████████| 234/234 [00:32<00:00,  7.10it/s]\n"
     ]
    },
    {
     "name": "stdout",
     "output_type": "stream",
     "text": [
      "Train Acc: 99.8660, Loss: 0.0051\n",
      "Val Acc: 0.8900\n"
     ]
    },
    {
     "name": "stderr",
     "output_type": "stream",
     "text": [
      "[Epoch 79]: 100%|██████████| 234/234 [00:31<00:00,  7.53it/s]\n"
     ]
    },
    {
     "name": "stdout",
     "output_type": "stream",
     "text": [
      "Train Acc: 99.4641, Loss: 0.0145\n",
      "Val Acc: 0.8825\n"
     ]
    },
    {
     "name": "stderr",
     "output_type": "stream",
     "text": [
      "[Epoch 80]: 100%|██████████| 234/234 [00:30<00:00,  7.63it/s]\n"
     ]
    },
    {
     "name": "stdout",
     "output_type": "stream",
     "text": [
      "Train Acc: 98.9550, Loss: 0.0303\n",
      "Val Acc: 0.8550\n"
     ]
    },
    {
     "name": "stderr",
     "output_type": "stream",
     "text": [
      "[Epoch 81]: 100%|██████████| 234/234 [00:30<00:00,  7.62it/s]\n"
     ]
    },
    {
     "name": "stdout",
     "output_type": "stream",
     "text": [
      "Train Acc: 99.5445, Loss: 0.0104\n",
      "Val Acc: 0.8700\n"
     ]
    },
    {
     "name": "stderr",
     "output_type": "stream",
     "text": [
      "[Epoch 82]: 100%|██████████| 234/234 [00:31<00:00,  7.33it/s]\n"
     ]
    },
    {
     "name": "stdout",
     "output_type": "stream",
     "text": [
      "Train Acc: 99.6785, Loss: 0.0122\n",
      "Val Acc: 0.8762\n"
     ]
    },
    {
     "name": "stderr",
     "output_type": "stream",
     "text": [
      "[Epoch 83]: 100%|██████████| 234/234 [00:29<00:00,  8.00it/s]\n"
     ]
    },
    {
     "name": "stdout",
     "output_type": "stream",
     "text": [
      "Train Acc: 99.7320, Loss: 0.0036\n",
      "Val Acc: 0.8750\n"
     ]
    },
    {
     "name": "stderr",
     "output_type": "stream",
     "text": [
      "[Epoch 84]: 100%|██████████| 234/234 [00:29<00:00,  8.00it/s]\n"
     ]
    },
    {
     "name": "stdout",
     "output_type": "stream",
     "text": [
      "Train Acc: 99.7320, Loss: 0.0075\n",
      "Val Acc: 0.8738\n"
     ]
    },
    {
     "name": "stderr",
     "output_type": "stream",
     "text": [
      "[Epoch 85]: 100%|██████████| 234/234 [00:28<00:00,  8.12it/s]\n"
     ]
    },
    {
     "name": "stdout",
     "output_type": "stream",
     "text": [
      "Train Acc: 99.9196, Loss: 0.0021\n",
      "Val Acc: 0.8725\n"
     ]
    },
    {
     "name": "stderr",
     "output_type": "stream",
     "text": [
      "[Epoch 86]: 100%|██████████| 234/234 [00:28<00:00,  8.20it/s]\n"
     ]
    },
    {
     "name": "stdout",
     "output_type": "stream",
     "text": [
      "Train Acc: 99.8392, Loss: 0.0028\n",
      "Val Acc: 0.8738\n"
     ]
    },
    {
     "name": "stderr",
     "output_type": "stream",
     "text": [
      "[Epoch 87]: 100%|██████████| 234/234 [00:29<00:00,  7.96it/s]\n"
     ]
    },
    {
     "name": "stdout",
     "output_type": "stream",
     "text": [
      "Train Acc: 99.8124, Loss: 0.0040\n",
      "Val Acc: 0.8775\n"
     ]
    },
    {
     "name": "stderr",
     "output_type": "stream",
     "text": [
      "[Epoch 88]: 100%|██████████| 234/234 [00:29<00:00,  7.94it/s]\n"
     ]
    },
    {
     "name": "stdout",
     "output_type": "stream",
     "text": [
      "Train Acc: 99.8392, Loss: 0.0024\n",
      "Val Acc: 0.8812\n"
     ]
    },
    {
     "name": "stderr",
     "output_type": "stream",
     "text": [
      "[Epoch 89]: 100%|██████████| 234/234 [00:29<00:00,  8.04it/s]\n"
     ]
    },
    {
     "name": "stdout",
     "output_type": "stream",
     "text": [
      "Train Acc: 99.8124, Loss: 0.0023\n",
      "Val Acc: 0.8788\n"
     ]
    },
    {
     "name": "stderr",
     "output_type": "stream",
     "text": [
      "[Epoch 90]: 100%|██████████| 234/234 [00:30<00:00,  7.77it/s]\n"
     ]
    },
    {
     "name": "stdout",
     "output_type": "stream",
     "text": [
      "Train Acc: 99.8928, Loss: 0.0021\n",
      "Val Acc: 0.8812\n"
     ]
    },
    {
     "name": "stderr",
     "output_type": "stream",
     "text": [
      "[Epoch 91]: 100%|██████████| 234/234 [00:27<00:00,  8.60it/s]\n"
     ]
    },
    {
     "name": "stdout",
     "output_type": "stream",
     "text": [
      "Train Acc: 99.8660, Loss: 0.0022\n",
      "Val Acc: 0.8812\n"
     ]
    },
    {
     "name": "stderr",
     "output_type": "stream",
     "text": [
      "[Epoch 92]: 100%|██████████| 234/234 [00:28<00:00,  8.35it/s]\n"
     ]
    },
    {
     "name": "stdout",
     "output_type": "stream",
     "text": [
      "Train Acc: 99.7856, Loss: 0.0021\n",
      "Val Acc: 0.8812\n"
     ]
    },
    {
     "name": "stderr",
     "output_type": "stream",
     "text": [
      "[Epoch 93]: 100%|██████████| 234/234 [00:30<00:00,  7.55it/s]\n"
     ]
    },
    {
     "name": "stdout",
     "output_type": "stream",
     "text": [
      "Train Acc: 99.8392, Loss: 0.0021\n",
      "Val Acc: 0.8800\n"
     ]
    },
    {
     "name": "stderr",
     "output_type": "stream",
     "text": [
      "[Epoch 94]: 100%|██████████| 234/234 [00:31<00:00,  7.51it/s]\n"
     ]
    },
    {
     "name": "stdout",
     "output_type": "stream",
     "text": [
      "Train Acc: 99.8392, Loss: 0.0020\n",
      "Val Acc: 0.8838\n"
     ]
    },
    {
     "name": "stderr",
     "output_type": "stream",
     "text": [
      "[Epoch 95]: 100%|██████████| 234/234 [00:26<00:00,  8.67it/s]\n"
     ]
    },
    {
     "name": "stdout",
     "output_type": "stream",
     "text": [
      "Train Acc: 99.8124, Loss: 0.0021\n",
      "Val Acc: 0.8800\n"
     ]
    },
    {
     "name": "stderr",
     "output_type": "stream",
     "text": [
      "[Epoch 96]: 100%|██████████| 234/234 [00:29<00:00,  7.98it/s]\n"
     ]
    },
    {
     "name": "stdout",
     "output_type": "stream",
     "text": [
      "Train Acc: 96.2219, Loss: 0.0957\n",
      "Val Acc: 0.8562\n"
     ]
    },
    {
     "name": "stderr",
     "output_type": "stream",
     "text": [
      "[Epoch 97]: 100%|██████████| 234/234 [00:31<00:00,  7.50it/s]\n"
     ]
    },
    {
     "name": "stdout",
     "output_type": "stream",
     "text": [
      "Train Acc: 98.5263, Loss: 0.0365\n",
      "Val Acc: 0.8762\n"
     ]
    },
    {
     "name": "stderr",
     "output_type": "stream",
     "text": [
      "[Epoch 98]: 100%|██████████| 234/234 [00:31<00:00,  7.54it/s]\n"
     ]
    },
    {
     "name": "stdout",
     "output_type": "stream",
     "text": [
      "Train Acc: 99.5713, Loss: 0.0128\n",
      "Val Acc: 0.8812\n"
     ]
    },
    {
     "name": "stderr",
     "output_type": "stream",
     "text": [
      "[Epoch 99]: 100%|██████████| 234/234 [00:28<00:00,  8.10it/s]\n"
     ]
    },
    {
     "name": "stdout",
     "output_type": "stream",
     "text": [
      "Train Acc: 99.6785, Loss: 0.0073\n",
      "Val Acc: 0.8838\n"
     ]
    },
    {
     "name": "stderr",
     "output_type": "stream",
     "text": [
      "[Epoch 100]: 100%|██████████| 234/234 [00:30<00:00,  7.79it/s]\n"
     ]
    },
    {
     "name": "stdout",
     "output_type": "stream",
     "text": [
      "Train Acc: 99.7856, Loss: 0.0031\n",
      "Val Acc: 0.8838\n",
      "\n",
      "📊 Test Evaluation:\n",
      "✅ Test Accuracy: 88.75%\n",
      "              precision    recall  f1-score   support\n",
      "\n",
      "           0     0.8491    0.8182    0.8333       275\n",
      "           1     0.9065    0.9238    0.9151       525\n",
      "\n",
      "    accuracy                         0.8875       800\n",
      "   macro avg     0.8778    0.8710    0.8742       800\n",
      "weighted avg     0.8868    0.8875    0.8870       800\n",
      "\n",
      "AUC: 0.9332\n",
      "Confusion Matrix:\n",
      "[[225  50]\n",
      " [ 40 485]]\n"
     ]
    }
   ],
   "source": [
    "# ResNet18 + Resize 224\n",
    "\n",
    "import os, numpy as np, torch, gc\n",
    "import torch.nn as nn\n",
    "import torch.nn.functional as F\n",
    "from torch.utils.data import Dataset, DataLoader\n",
    "from sklearn.model_selection import train_test_split\n",
    "from sklearn.metrics import classification_report, roc_auc_score, confusion_matrix\n",
    "from glob import glob\n",
    "from tqdm import tqdm\n",
    "import torchvision.transforms as transforms\n",
    "from torchvision.models import resnet18\n",
    "from PIL import Image\n",
    "\n",
    "# 디바이스 설정\n",
    "device = torch.device(\"cuda:1\" if torch.cuda.is_available() else \"cpu\")\n",
    "print(f\"Using device: {device}\")\n",
    "\n",
    "# 경로 및 하이퍼파라미터 설정\n",
    "slice_root = \"/data1/lidc-idri/slices\"\n",
    "bbox_csv_path = \"/home/iujeong/lung_cancer/csv/allbb_noPoly.csv\"\n",
    "batch_size = 16\n",
    "num_epochs = 100\n",
    "learning_rate = 1e-4\n",
    "\n",
    "# 최소한의 전처리 Transform\n",
    "tf = transforms.Compose([\n",
    "    transforms.ToPILImage(),\n",
    "    transforms.Resize((224, 224)),\n",
    "    transforms.ToTensor(),\n",
    "    transforms.Normalize([0.5], [0.5])\n",
    "])\n",
    "\n",
    "# 라벨 추출 함수\n",
    "def extract_label_from_filename(fname):\n",
    "    try:\n",
    "        score = int(fname.split(\"_\")[-1].replace(\".npy\", \"\"))\n",
    "        return None if score == 3 else int(score >= 4)\n",
    "    except:\n",
    "        return None\n",
    "\n",
    "# 데이터셋 정의\n",
    "class CTDataset(Dataset):\n",
    "    def __init__(self, paths, labels, transform=None):\n",
    "        self.paths = paths\n",
    "        self.labels = labels\n",
    "        self.transform = transform\n",
    "\n",
    "    def __getitem__(self, idx):\n",
    "        file_path = self.paths[idx]\n",
    "        label = self.labels[idx]\n",
    "        img = np.load(file_path)\n",
    "        img = np.clip(img, -1000, 400)\n",
    "        img = (img + 1000) / 1400.\n",
    "        img = np.expand_dims(img, axis=-1)\n",
    "        img = self.transform(img) if self.transform else torch.tensor(img.transpose(2, 0, 1), dtype=torch.float32)\n",
    "        return img, torch.tensor(label).long()\n",
    "\n",
    "    def __len__(self):\n",
    "        return len(self.paths)\n",
    "\n",
    "# 학습 루프\n",
    "def run():\n",
    "    all_files = glob(os.path.join(slice_root, \"LIDC-IDRI-*\", \"*.npy\"))\n",
    "    file_label_pairs = [(f, extract_label_from_filename(f)) for f in all_files]\n",
    "    file_label_pairs = [(f, l) for f, l in file_label_pairs if l is not None]\n",
    "    files, labels = zip(*file_label_pairs)\n",
    "    train_files, temp_files, train_labels, temp_labels = train_test_split(files, labels, test_size=0.3, random_state=42)\n",
    "    val_files, test_files, val_labels, test_labels = train_test_split(temp_files, temp_labels, test_size=0.5, random_state=42)\n",
    "\n",
    "    train_loader = DataLoader(CTDataset(train_files, train_labels, transform=tf), batch_size=batch_size, shuffle=True)\n",
    "    val_loader = DataLoader(CTDataset(val_files, val_labels, transform=tf), batch_size=batch_size)\n",
    "    test_loader = DataLoader(CTDataset(test_files, test_labels, transform=tf), batch_size=batch_size)\n",
    "\n",
    "    model = resnet18(weights=None)\n",
    "    model.conv1 = nn.Conv2d(1, 64, kernel_size=7, stride=2, padding=3, bias=False)\n",
    "    model.fc = nn.Linear(model.fc.in_features, 2)\n",
    "    model = model.to(device)\n",
    "\n",
    "    criterion = nn.CrossEntropyLoss()\n",
    "    optimizer = torch.optim.Adam(model.parameters(), lr=learning_rate)\n",
    "    best_acc = 0.0\n",
    "    save_path = os.path.join(os.path.dirname(os.getcwd()), \"pth\", \"resnet18_baseline.pth\")\n",
    "\n",
    "    for epoch in range(num_epochs):\n",
    "        model.train()\n",
    "        epoch_loss, correct, total = 0, 0, 0\n",
    "        for images, labels in tqdm(train_loader, desc=f\"[Epoch {epoch+1}]\"):\n",
    "            images, labels = images.to(device), labels.to(device)\n",
    "            outputs = model(images)\n",
    "            loss = criterion(outputs, labels)\n",
    "            optimizer.zero_grad()\n",
    "            loss.backward()\n",
    "            optimizer.step()\n",
    "            _, preds = outputs.max(1)\n",
    "            correct += (preds == labels).sum().item()\n",
    "            total += labels.size(0)\n",
    "            epoch_loss += loss.item()\n",
    "        print(f\"Train Acc: {(correct/total)*100:.4f}, Loss: {epoch_loss/len(train_loader):.4f}\")\n",
    "\n",
    "        model.eval()\n",
    "        correct, total = 0, 0\n",
    "        with torch.no_grad():\n",
    "            for imgs, labels in val_loader:\n",
    "                imgs, labels = imgs.to(device), labels.to(device)\n",
    "                outputs = model(imgs)\n",
    "                _, preds = outputs.max(1)\n",
    "                correct += (preds == labels).sum().item()\n",
    "                total += labels.size(0)\n",
    "        val_acc = correct / total\n",
    "        print(f\"Val Acc: {val_acc:.4f}\")\n",
    "\n",
    "        if val_acc > best_acc:\n",
    "            best_acc = val_acc\n",
    "            torch.save(model.state_dict(), save_path)\n",
    "            print(\"✅ Saved best model!\")\n",
    "\n",
    "    print(\"\\n📊 Test Evaluation:\")\n",
    "    model.load_state_dict(torch.load(save_path))\n",
    "    model.eval()\n",
    "    y_true, y_pred, y_probs = [], [], []\n",
    "    with torch.no_grad():\n",
    "        for imgs, labels in test_loader:\n",
    "            imgs, labels = imgs.to(device), labels.to(device)\n",
    "            outputs = model(imgs)\n",
    "            probs = F.softmax(outputs, dim=1)[:, 1]\n",
    "            preds = outputs.argmax(1)\n",
    "            y_probs.extend(probs.cpu().numpy())\n",
    "            y_pred.extend(preds.cpu().numpy())\n",
    "            y_true.extend(labels.cpu().numpy())\n",
    "    print(f\"✅ Test Accuracy: {(np.array(y_pred) == np.array(y_true)).mean() * 100:.2f}%\")\n",
    "    print(classification_report(y_true, y_pred, digits=4))\n",
    "    print(f\"AUC: {roc_auc_score(y_true, y_probs):.4f}\")\n",
    "    print(\"Confusion Matrix:\")\n",
    "    print(confusion_matrix(y_true, y_pred))\n",
    "\n",
    "if __name__ == \"__main__\":\n",
    "    run()\n"
   ]
  },
  {
   "cell_type": "code",
   "execution_count": null,
   "metadata": {},
   "outputs": [],
   "source": [
    "import os\n",
    "import numpy as np\n",
    "from glob import glob\n",
    "from sklearn.model_selection import train_test_split\n",
    "from sklearn.metrics import classification_report\n",
    "from sklearn.metrics import roc_auc_score, confusion_matrix, ConfusionMatrixDisplay\n",
    "import torch\n",
    "import torch.nn as nn\n",
    "from torch.utils.data import Dataset, DataLoader\n",
    "from torchvision import models, transforms\n",
    "import torch.nn.functional as F\n",
    "from tqdm import tqdm\n",
    "from collections import defaultdict\n",
    "import gc\n",
    "\n",
    "# 하이퍼파라미터 설정\n",
    "device = torch.device(\"cuda:1\" if torch.cuda.is_available() else \"cpu\")\n",
    "print(device)\n",
    "\n",
    "slice_root = \"/data1/lidc-idri/slices\"\n",
    "batch_size = 16\n",
    "num_epoch = 1\n",
    "learning_rate = 1e-4\n",
    "\n",
    "# 레이블 추출\n",
    "def labels_filename(fname):\n",
    "    try:\n",
    "        score = int(fname.split(\"_\")[-1].replace(\".npy\", \"\"))\n",
    "        return None  if score == 3 else int(score >= 4)\n",
    "    \n",
    "    except:\n",
    "        return None\n",
    "    \n",
    "# 데이터셋 전처리\n",
    "class LIDCDataset(Dataset):\n",
    "    def __init__(self, file_paths, labels, transform=None):\n",
    "        self.file_paths = file_paths\n",
    "        self.labels = labels\n",
    "        self.transform = transform\n",
    "\n",
    "    def __len__(self):\n",
    "        return len(self.file_paths)\n",
    "    \n",
    "    def __getitem__(self, index):\n",
    "        file_path = self.file_paths[index]\n",
    "        label = self.labels[index]\n",
    "\n",
    "        img = np.load(file_path).astype(np.float32)\n",
    "        img = np.clip(img, -1000, 400)\n",
    "        img = (img + 1000) / 1400.0\n",
    "        img = np.expand_dims(img, axis=0)\n",
    "        img_tensor = torch.tensor(img)\n",
    "\n",
    "        if self.transform:\n",
    "            img_tensor = self.transform(img_tensor)\n",
    "\n",
    "        return img_tensor, torch.tensor(label).float()\n",
    "\n",
    "\n",
    "# 데이터 증강\n",
    "augmentation_configs = {\n",
    "    'baseline': transforms.Compose([\n",
    "        transforms.ToPILImage(),\n",
    "        transforms.CenterCrop(180),\n",
    "        transforms.ToTensor()\n",
    "    ]),\n",
    "\n",
    "    'flip_rotate': transforms.Compose([\n",
    "        transforms.ToPILImage(),\n",
    "        transforms.CenterCrop(180),\n",
    "        transforms.RandomHorizontalFlip(),\n",
    "        transforms.RandomRotation(15),\n",
    "        transforms.ToTensor()\n",
    "    ]),\n",
    "\n",
    "    'blur': transforms.Compose([\n",
    "        transforms.ToPILImage(),\n",
    "        transforms.CenterCrop(180),\n",
    "        transforms.GaussianBlur(kernel_size=3, sigma=(0.1, 2.0)),\n",
    "        transforms.ToTensor()\n",
    "    ]),\n",
    "\n",
    "    'total': transforms.Compose([\n",
    "        transforms.ToPILImage(),\n",
    "        transforms.CenterCrop(180),\n",
    "        transforms.RandomHorizontalFlip(),\n",
    "        transforms.RandomRotation(15),\n",
    "        transforms.GaussianBlur(kernel_size=3, sigma=(0.1, 2.0)),\n",
    "        transforms.ToTensor()\n",
    "    ])\n",
    "}\n",
    "\n",
    "# 데이터 불러오기\n",
    "def get_model(name):\n",
    "    if name == \"resnet18\":\n",
    "        model = models.resnet18(pretrained=True)\n",
    "        model.conv1 = nn.Conv2d(1, 64, kernel_size=7, stride=2, padding=3, bias=False)\n",
    "        model.fc = nn.Linear(model.fc.in_features, 1)\n",
    "\n",
    "    elif name == \"resnet34\":\n",
    "        model = models.resnet34(pretrained=True)\n",
    "        model.conv1 = nn.Conv2d(1, 64, kernel_size=7, stride=2, padding=3, bias=False)\n",
    "        model.fc = nn.Linear(model.fc.in_features, 1)\n",
    "\n",
    "    elif name == \"densenet121\":\n",
    "        model = models.densenet121(pretrained=True)\n",
    "        model.features.conv0 = nn.Conv2d(1, 64, kernel_size=7, stride=2, padding=3, bias=False)\n",
    "        model.classifier = nn.Linear(model.classifier.in_features, 1)\n",
    "\n",
    "    elif name == \"efficientnet_b0\":\n",
    "        model = models.efficientnet_b0(pretrained=True)\n",
    "        model.features[0][0] = nn.Conv2d(1, 32, kernel_size=3, stride=2, padding=1, bias=False)\n",
    "        model.classifier[1] = nn.Linear(model.classifier[1].in_features, 1)\n",
    "    else:\n",
    "        raise ValueError(\"Unknown model name\")\n",
    "    return model.to(device)\n",
    "\n",
    "\n",
    "# 데이터 로더\n",
    "all_files = glob(os.path.join(slice_root, \"LIDC-IDRI-*\", \"*.npy\"))\n",
    "\n",
    "file_label_pairs = [(f, labels_filename(f)) for f in all_files]\n",
    "file_label_pairs = [(f, l) for f, l in file_label_pairs if l is not None]\n",
    "files, labels = zip(*file_label_pairs)\n",
    "\n",
    "train_files, temp_files, train_labels, temp_labels = train_test_split(files, labels, test_size=0.3, random_state=42)\n",
    "val_files, test_files, val_labels, test_labels = train_test_split(temp_files, temp_labels, test_size=0.5, random_state=42)\n",
    "\n",
    "\n",
    "# 모델 정의\n",
    "results = defaultdict(dict)\n",
    "model_names = [\"resnet18\", \"resnet34\", \"densenet121\", \"efficientnet_b0\"]\n",
    "\n",
    "for model_name in model_names:\n",
    "    for aug_name, transform in augmentation_configs.items():\n",
    "        print(f\"\\n Running: {model_name} + {aug_name}\")\n",
    "\n",
    "        train_dataset = LIDCDataset(train_files, train_labels, transform)\n",
    "        val_dataset = LIDCDataset(val_files, val_labels, transform)\n",
    "        test_dataset = LIDCDataset(test_files, test_labels, transform)\n",
    "\n",
    "        train_loader = DataLoader(train_dataset, batch_size=batch_size, shuffle=True)\n",
    "        val_loader = DataLoader(val_dataset, batch_size=batch_size)\n",
    "        test_loader = DataLoader(test_dataset, batch_size=batch_size)\n",
    "\n",
    "        model = get_model(model_name)\n",
    "\n",
    "# loss, optimizer 설정\n",
    "        criterion = nn.BCEWithLogitsLoss()\n",
    "        optimizer = torch.optim.Adam(model.parameters(), lr=learning_rate)\n",
    "\n",
    "\n",
    "# 반복문\n",
    "        best_val_acc = 0.0\n",
    "\n",
    "        # --- 저장 경로 및 변수 초기화 ---\n",
    "        save_dir = os.path.join(os.path.dirname(os.getcwd()), \"pth\")\n",
    "        os.makedirs(save_dir, exist_ok=True)\n",
    "        best_val_acc = 0.0\n",
    "\n",
    "        for epoch in range(num_epoch):\n",
    "            model.train()\n",
    "\n",
    "            correct = 0\n",
    "            total = 0\n",
    "            epoch_loss = 0\n",
    "\n",
    "            for images, labels in train_loader:\n",
    "                images = images.to(device)\n",
    "                labels = labels.unsqueeze(1).to(device)\n",
    "\n",
    "                outputs = model(images)\n",
    "                loss = criterion(outputs, labels)\n",
    "\n",
    "                optimizer.zero_grad()\n",
    "                loss.backward()\n",
    "                optimizer.step()\n",
    "\n",
    "                predicted = (torch.sigmoid(outputs) > 0.5).long()\n",
    "                correct += (predicted == labels.long()).sum().item()\n",
    "                total += labels.size(0)\n",
    "\n",
    "            train_acc = correct / total\n",
    "            print(f\"[{model_name} + {aug_name}] Epoch: {epoch+1}/{num_epoch} Train Acc: {train_acc * 100:.4f}%\")\n",
    "\n",
    "            model.eval()\n",
    "\n",
    "            val_correct = 0\n",
    "            val_total = 0\n",
    "\n",
    "            with torch.no_grad():\n",
    "                for images, labels in val_loader:\n",
    "                    images = images.to(device)\n",
    "                    labels = labels.to(device)\n",
    "\n",
    "                    outputs = model(images)\n",
    "\n",
    "                    predicted = (torch.sigmoid(outputs) > 0.5).squeeze().long()\n",
    "                    val_correct += (predicted == labels.long()).sum().item()\n",
    "                    val_total += labels.size(0)\n",
    "\n",
    "            val_acc = val_correct / val_total\n",
    "            print(f\"[{model_name} + {aug_name}] Epoch {epoch+1}/{num_epoch} Val Acc {val_acc * 100:.4f}%\")\n",
    "\n",
    "            if val_acc > best_val_acc:\n",
    "                best_val_acc = val_acc\n",
    "                torch.save(model.state_dict(), os.path.join(save_dir, f\"best_aug_{model_name}_{aug_name}.pth\"))\n",
    "\n",
    "\n",
    "        model.load_state_dict(torch.load(os.path.join(save_dir, f\"best_aug_{model_name}_{aug_name}.pth\")))\n",
    "        model.eval()\n",
    "\n",
    "        y_true, y_pred, y_probs = [], [], []\n",
    "\n",
    "        with torch.no_grad():\n",
    "            for images, labels in test_loader:\n",
    "                images, labels = images.to(device), labels.to(device)\n",
    "\n",
    "                outputs = model(images)\n",
    "\n",
    "                probs = torch.sigmoid(outputs).squeeze()\n",
    "                preds = (probs > 0.5).long()\n",
    "\n",
    "                y_true.extend(labels.cpu().numpy())\n",
    "                y_pred.extend(preds.cpu().numpy())\n",
    "                y_probs.extend(probs.cpu().numpy())\n",
    "\n",
    "        acc = (np.array(y_true) == np.array(y_pred)).mean()\n",
    "        auc = roc_auc_score(y_true, y_probs)\n",
    "        cm = confusion_matrix(y_true, y_pred)\n",
    "        results[model_name][aug_name] = {\"acc\": acc, \"auc\": auc, \"cm\": cm}\n",
    "        print(f\"✅ Test Acc: {acc:.4f}, AUC: {auc:.4f}\")\n"
   ]
  },
  {
   "cell_type": "code",
   "execution_count": null,
   "metadata": {},
   "outputs": [
    {
     "name": "stderr",
     "output_type": "stream",
     "text": [
      "Epoch 1/100: 100%|██████████| 234/234 [00:28<00:00,  8.13it/s]\n"
     ]
    },
    {
     "name": "stdout",
     "output_type": "stream",
     "text": [
      "[Epoch 1] Train Loss: 0.6589 Accuracy : 62.67%\n",
      "Validation Accuracy: 67.12%\n",
      "✅ Best model saved!\n"
     ]
    },
    {
     "name": "stderr",
     "output_type": "stream",
     "text": [
      "Epoch 2/100: 100%|██████████| 234/234 [00:29<00:00,  7.81it/s]\n"
     ]
    },
    {
     "name": "stdout",
     "output_type": "stream",
     "text": [
      "[Epoch 2] Train Loss: 0.6071 Accuracy : 67.87%\n",
      "Validation Accuracy: 66.00%\n"
     ]
    },
    {
     "name": "stderr",
     "output_type": "stream",
     "text": [
      "Epoch 3/100: 100%|██████████| 234/234 [00:25<00:00,  9.03it/s]\n"
     ]
    },
    {
     "name": "stdout",
     "output_type": "stream",
     "text": [
      "[Epoch 3] Train Loss: 0.5733 Accuracy : 69.53%\n",
      "Validation Accuracy: 68.00%\n",
      "✅ Best model saved!\n"
     ]
    },
    {
     "name": "stderr",
     "output_type": "stream",
     "text": [
      "Epoch 4/100: 100%|██████████| 234/234 [00:23<00:00, 10.03it/s]\n"
     ]
    },
    {
     "name": "stdout",
     "output_type": "stream",
     "text": [
      "[Epoch 4] Train Loss: 0.5222 Accuracy : 73.85%\n",
      "Validation Accuracy: 70.25%\n",
      "✅ Best model saved!\n"
     ]
    },
    {
     "name": "stderr",
     "output_type": "stream",
     "text": [
      "Epoch 5/100: 100%|██████████| 234/234 [00:29<00:00,  8.00it/s]\n"
     ]
    },
    {
     "name": "stdout",
     "output_type": "stream",
     "text": [
      "[Epoch 5] Train Loss: 0.4889 Accuracy : 75.32%\n",
      "Validation Accuracy: 72.75%\n",
      "✅ Best model saved!\n"
     ]
    },
    {
     "name": "stderr",
     "output_type": "stream",
     "text": [
      "Epoch 6/100: 100%|██████████| 234/234 [00:22<00:00, 10.47it/s]\n"
     ]
    },
    {
     "name": "stdout",
     "output_type": "stream",
     "text": [
      "[Epoch 6] Train Loss: 0.4446 Accuracy : 79.13%\n",
      "Validation Accuracy: 71.88%\n"
     ]
    },
    {
     "name": "stderr",
     "output_type": "stream",
     "text": [
      "Epoch 7/100: 100%|██████████| 234/234 [00:28<00:00,  8.11it/s]\n"
     ]
    },
    {
     "name": "stdout",
     "output_type": "stream",
     "text": [
      "[Epoch 7] Train Loss: 0.4120 Accuracy : 80.44%\n",
      "Validation Accuracy: 78.12%\n",
      "✅ Best model saved!\n"
     ]
    },
    {
     "name": "stderr",
     "output_type": "stream",
     "text": [
      "Epoch 8/100: 100%|██████████| 234/234 [00:26<00:00,  8.79it/s]\n"
     ]
    },
    {
     "name": "stdout",
     "output_type": "stream",
     "text": [
      "[Epoch 8] Train Loss: 0.3731 Accuracy : 83.52%\n",
      "Validation Accuracy: 76.50%\n"
     ]
    },
    {
     "name": "stderr",
     "output_type": "stream",
     "text": [
      "Epoch 9/100: 100%|██████████| 234/234 [00:24<00:00,  9.49it/s]\n"
     ]
    },
    {
     "name": "stdout",
     "output_type": "stream",
     "text": [
      "[Epoch 9] Train Loss: 0.3327 Accuracy : 85.40%\n",
      "Validation Accuracy: 79.75%\n",
      "✅ Best model saved!\n"
     ]
    },
    {
     "name": "stderr",
     "output_type": "stream",
     "text": [
      "Epoch 10/100: 100%|██████████| 234/234 [00:27<00:00,  8.44it/s]\n"
     ]
    },
    {
     "name": "stdout",
     "output_type": "stream",
     "text": [
      "[Epoch 10] Train Loss: 0.2981 Accuracy : 87.92%\n",
      "Validation Accuracy: 78.25%\n"
     ]
    },
    {
     "name": "stderr",
     "output_type": "stream",
     "text": [
      "Epoch 11/100: 100%|██████████| 234/234 [00:26<00:00,  8.67it/s]\n"
     ]
    },
    {
     "name": "stdout",
     "output_type": "stream",
     "text": [
      "[Epoch 11] Train Loss: 0.2715 Accuracy : 88.80%\n",
      "Validation Accuracy: 79.50%\n"
     ]
    },
    {
     "name": "stderr",
     "output_type": "stream",
     "text": [
      "Epoch 12/100: 100%|██████████| 234/234 [00:28<00:00,  8.17it/s]\n"
     ]
    },
    {
     "name": "stdout",
     "output_type": "stream",
     "text": [
      "[Epoch 12] Train Loss: 0.2412 Accuracy : 90.09%\n",
      "Validation Accuracy: 83.50%\n",
      "✅ Best model saved!\n"
     ]
    },
    {
     "name": "stderr",
     "output_type": "stream",
     "text": [
      "Epoch 13/100: 100%|██████████| 234/234 [00:23<00:00,  9.78it/s]\n"
     ]
    },
    {
     "name": "stdout",
     "output_type": "stream",
     "text": [
      "[Epoch 13] Train Loss: 0.2415 Accuracy : 89.90%\n",
      "Validation Accuracy: 80.75%\n"
     ]
    },
    {
     "name": "stderr",
     "output_type": "stream",
     "text": [
      "Epoch 14/100: 100%|██████████| 234/234 [00:34<00:00,  6.84it/s]\n"
     ]
    },
    {
     "name": "stdout",
     "output_type": "stream",
     "text": [
      "[Epoch 14] Train Loss: 0.2148 Accuracy : 91.45%\n",
      "Validation Accuracy: 83.25%\n"
     ]
    },
    {
     "name": "stderr",
     "output_type": "stream",
     "text": [
      "Epoch 15/100: 100%|██████████| 234/234 [00:30<00:00,  7.78it/s]\n"
     ]
    },
    {
     "name": "stdout",
     "output_type": "stream",
     "text": [
      "[Epoch 15] Train Loss: 0.1942 Accuracy : 91.99%\n",
      "Validation Accuracy: 83.75%\n",
      "✅ Best model saved!\n"
     ]
    },
    {
     "name": "stderr",
     "output_type": "stream",
     "text": [
      "Epoch 16/100: 100%|██████████| 234/234 [00:28<00:00,  8.10it/s]\n"
     ]
    },
    {
     "name": "stdout",
     "output_type": "stream",
     "text": [
      "[Epoch 16] Train Loss: 0.1962 Accuracy : 92.26%\n",
      "Validation Accuracy: 81.50%\n"
     ]
    },
    {
     "name": "stderr",
     "output_type": "stream",
     "text": [
      "Epoch 17/100: 100%|██████████| 234/234 [00:27<00:00,  8.62it/s]\n"
     ]
    },
    {
     "name": "stdout",
     "output_type": "stream",
     "text": [
      "[Epoch 17] Train Loss: 0.1528 Accuracy : 94.00%\n",
      "Validation Accuracy: 82.00%\n"
     ]
    },
    {
     "name": "stderr",
     "output_type": "stream",
     "text": [
      "Epoch 18/100: 100%|██████████| 234/234 [00:26<00:00,  8.68it/s]\n"
     ]
    },
    {
     "name": "stdout",
     "output_type": "stream",
     "text": [
      "[Epoch 18] Train Loss: 0.1568 Accuracy : 93.54%\n",
      "Validation Accuracy: 82.12%\n"
     ]
    },
    {
     "name": "stderr",
     "output_type": "stream",
     "text": [
      "Epoch 19/100: 100%|██████████| 234/234 [00:30<00:00,  7.62it/s]\n"
     ]
    },
    {
     "name": "stdout",
     "output_type": "stream",
     "text": [
      "[Epoch 19] Train Loss: 0.1591 Accuracy : 93.54%\n",
      "Validation Accuracy: 84.25%\n",
      "✅ Best model saved!\n"
     ]
    },
    {
     "name": "stderr",
     "output_type": "stream",
     "text": [
      "Epoch 20/100: 100%|██████████| 234/234 [00:25<00:00,  9.05it/s]\n"
     ]
    },
    {
     "name": "stdout",
     "output_type": "stream",
     "text": [
      "[Epoch 20] Train Loss: 0.1494 Accuracy : 95.02%\n",
      "Validation Accuracy: 83.12%\n"
     ]
    },
    {
     "name": "stderr",
     "output_type": "stream",
     "text": [
      "Epoch 21/100: 100%|██████████| 234/234 [00:27<00:00,  8.65it/s]\n"
     ]
    },
    {
     "name": "stdout",
     "output_type": "stream",
     "text": [
      "[Epoch 21] Train Loss: 0.1296 Accuracy : 95.18%\n",
      "Validation Accuracy: 83.38%\n"
     ]
    },
    {
     "name": "stderr",
     "output_type": "stream",
     "text": [
      "Epoch 22/100: 100%|██████████| 234/234 [00:27<00:00,  8.66it/s]\n"
     ]
    },
    {
     "name": "stdout",
     "output_type": "stream",
     "text": [
      "[Epoch 22] Train Loss: 0.1404 Accuracy : 94.56%\n",
      "Validation Accuracy: 81.88%\n"
     ]
    },
    {
     "name": "stderr",
     "output_type": "stream",
     "text": [
      "Epoch 23/100: 100%|██████████| 234/234 [00:26<00:00,  8.93it/s]\n"
     ]
    },
    {
     "name": "stdout",
     "output_type": "stream",
     "text": [
      "[Epoch 23] Train Loss: 0.1091 Accuracy : 95.90%\n",
      "Validation Accuracy: 83.62%\n"
     ]
    },
    {
     "name": "stderr",
     "output_type": "stream",
     "text": [
      "Epoch 24/100: 100%|██████████| 234/234 [00:27<00:00,  8.44it/s]\n"
     ]
    },
    {
     "name": "stdout",
     "output_type": "stream",
     "text": [
      "[Epoch 24] Train Loss: 0.1203 Accuracy : 95.36%\n",
      "Validation Accuracy: 84.62%\n",
      "✅ Best model saved!\n"
     ]
    },
    {
     "name": "stderr",
     "output_type": "stream",
     "text": [
      "Epoch 25/100: 100%|██████████| 234/234 [00:23<00:00, 10.07it/s]\n"
     ]
    },
    {
     "name": "stdout",
     "output_type": "stream",
     "text": [
      "[Epoch 25] Train Loss: 0.1293 Accuracy : 95.15%\n",
      "Validation Accuracy: 83.25%\n"
     ]
    },
    {
     "name": "stderr",
     "output_type": "stream",
     "text": [
      "Epoch 26/100: 100%|██████████| 234/234 [00:26<00:00,  8.84it/s]\n"
     ]
    },
    {
     "name": "stdout",
     "output_type": "stream",
     "text": [
      "[Epoch 26] Train Loss: 0.1109 Accuracy : 96.11%\n",
      "Validation Accuracy: 83.88%\n"
     ]
    },
    {
     "name": "stderr",
     "output_type": "stream",
     "text": [
      "Epoch 27/100: 100%|██████████| 234/234 [00:24<00:00,  9.39it/s]\n"
     ]
    },
    {
     "name": "stdout",
     "output_type": "stream",
     "text": [
      "[Epoch 27] Train Loss: 0.1018 Accuracy : 95.95%\n",
      "Validation Accuracy: 85.50%\n",
      "✅ Best model saved!\n"
     ]
    },
    {
     "name": "stderr",
     "output_type": "stream",
     "text": [
      "Epoch 28/100: 100%|██████████| 234/234 [00:32<00:00,  7.31it/s]\n"
     ]
    },
    {
     "name": "stdout",
     "output_type": "stream",
     "text": [
      "[Epoch 28] Train Loss: 0.1040 Accuracy : 95.95%\n",
      "Validation Accuracy: 85.00%\n"
     ]
    },
    {
     "name": "stderr",
     "output_type": "stream",
     "text": [
      "Epoch 29/100: 100%|██████████| 234/234 [00:28<00:00,  8.09it/s]\n"
     ]
    },
    {
     "name": "stdout",
     "output_type": "stream",
     "text": [
      "[Epoch 29] Train Loss: 0.0895 Accuracy : 96.92%\n",
      "Validation Accuracy: 86.25%\n",
      "✅ Best model saved!\n"
     ]
    },
    {
     "name": "stderr",
     "output_type": "stream",
     "text": [
      "Epoch 30/100: 100%|██████████| 234/234 [00:28<00:00,  8.25it/s]\n"
     ]
    },
    {
     "name": "stdout",
     "output_type": "stream",
     "text": [
      "[Epoch 30] Train Loss: 0.0925 Accuracy : 96.46%\n",
      "Validation Accuracy: 85.38%\n"
     ]
    },
    {
     "name": "stderr",
     "output_type": "stream",
     "text": [
      "Epoch 31/100: 100%|██████████| 234/234 [00:25<00:00,  9.27it/s]\n"
     ]
    },
    {
     "name": "stdout",
     "output_type": "stream",
     "text": [
      "[Epoch 31] Train Loss: 0.1033 Accuracy : 96.20%\n",
      "Validation Accuracy: 86.50%\n",
      "✅ Best model saved!\n"
     ]
    },
    {
     "name": "stderr",
     "output_type": "stream",
     "text": [
      "Epoch 32/100: 100%|██████████| 234/234 [00:26<00:00,  8.96it/s]\n"
     ]
    },
    {
     "name": "stdout",
     "output_type": "stream",
     "text": [
      "[Epoch 32] Train Loss: 0.0939 Accuracy : 96.60%\n",
      "Validation Accuracy: 87.38%\n",
      "✅ Best model saved!\n"
     ]
    },
    {
     "name": "stderr",
     "output_type": "stream",
     "text": [
      "Epoch 33/100: 100%|██████████| 234/234 [00:27<00:00,  8.61it/s]\n"
     ]
    },
    {
     "name": "stdout",
     "output_type": "stream",
     "text": [
      "[Epoch 33] Train Loss: 0.0725 Accuracy : 97.43%\n",
      "Validation Accuracy: 83.62%\n"
     ]
    },
    {
     "name": "stderr",
     "output_type": "stream",
     "text": [
      "Epoch 34/100: 100%|██████████| 234/234 [00:25<00:00,  9.10it/s]\n"
     ]
    },
    {
     "name": "stdout",
     "output_type": "stream",
     "text": [
      "[Epoch 34] Train Loss: 0.0953 Accuracy : 96.49%\n",
      "Validation Accuracy: 86.88%\n"
     ]
    },
    {
     "name": "stderr",
     "output_type": "stream",
     "text": [
      "Epoch 35/100: 100%|██████████| 234/234 [00:25<00:00,  9.06it/s]\n"
     ]
    },
    {
     "name": "stdout",
     "output_type": "stream",
     "text": [
      "[Epoch 35] Train Loss: 0.0795 Accuracy : 97.16%\n",
      "Validation Accuracy: 85.00%\n"
     ]
    },
    {
     "name": "stderr",
     "output_type": "stream",
     "text": [
      "Epoch 36/100: 100%|██████████| 234/234 [00:42<00:00,  5.56it/s]\n"
     ]
    },
    {
     "name": "stdout",
     "output_type": "stream",
     "text": [
      "[Epoch 36] Train Loss: 0.0720 Accuracy : 97.32%\n",
      "Validation Accuracy: 87.62%\n",
      "✅ Best model saved!\n"
     ]
    },
    {
     "name": "stderr",
     "output_type": "stream",
     "text": [
      "Epoch 37/100: 100%|██████████| 234/234 [00:46<00:00,  5.04it/s]\n"
     ]
    },
    {
     "name": "stdout",
     "output_type": "stream",
     "text": [
      "[Epoch 37] Train Loss: 0.0639 Accuracy : 97.72%\n",
      "Validation Accuracy: 87.88%\n",
      "✅ Best model saved!\n"
     ]
    },
    {
     "name": "stderr",
     "output_type": "stream",
     "text": [
      "Epoch 38/100: 100%|██████████| 234/234 [00:34<00:00,  6.79it/s]\n"
     ]
    },
    {
     "name": "stdout",
     "output_type": "stream",
     "text": [
      "[Epoch 38] Train Loss: 0.0612 Accuracy : 97.56%\n",
      "Validation Accuracy: 86.75%\n"
     ]
    },
    {
     "name": "stderr",
     "output_type": "stream",
     "text": [
      "Epoch 39/100: 100%|██████████| 234/234 [00:41<00:00,  5.69it/s]\n"
     ]
    },
    {
     "name": "stdout",
     "output_type": "stream",
     "text": [
      "[Epoch 39] Train Loss: 0.0783 Accuracy : 97.27%\n",
      "Validation Accuracy: 83.62%\n"
     ]
    },
    {
     "name": "stderr",
     "output_type": "stream",
     "text": [
      "Epoch 40/100: 100%|██████████| 234/234 [00:39<00:00,  5.96it/s]\n"
     ]
    },
    {
     "name": "stdout",
     "output_type": "stream",
     "text": [
      "[Epoch 40] Train Loss: 0.0889 Accuracy : 96.54%\n",
      "Validation Accuracy: 86.25%\n"
     ]
    },
    {
     "name": "stderr",
     "output_type": "stream",
     "text": [
      "Epoch 41/100: 100%|██████████| 234/234 [00:32<00:00,  7.13it/s]\n"
     ]
    },
    {
     "name": "stdout",
     "output_type": "stream",
     "text": [
      "[Epoch 41] Train Loss: 0.0562 Accuracy : 98.07%\n",
      "Validation Accuracy: 84.00%\n"
     ]
    },
    {
     "name": "stderr",
     "output_type": "stream",
     "text": [
      "Epoch 42/100: 100%|██████████| 234/234 [00:34<00:00,  6.86it/s]\n"
     ]
    },
    {
     "name": "stdout",
     "output_type": "stream",
     "text": [
      "[Epoch 42] Train Loss: 0.0738 Accuracy : 97.19%\n",
      "Validation Accuracy: 85.75%\n"
     ]
    },
    {
     "name": "stderr",
     "output_type": "stream",
     "text": [
      "Epoch 43/100: 100%|██████████| 234/234 [00:25<00:00,  9.03it/s]\n"
     ]
    },
    {
     "name": "stdout",
     "output_type": "stream",
     "text": [
      "[Epoch 43] Train Loss: 0.0679 Accuracy : 97.56%\n",
      "Validation Accuracy: 85.25%\n"
     ]
    },
    {
     "name": "stderr",
     "output_type": "stream",
     "text": [
      "Epoch 44/100: 100%|██████████| 234/234 [00:27<00:00,  8.39it/s]\n"
     ]
    },
    {
     "name": "stdout",
     "output_type": "stream",
     "text": [
      "[Epoch 44] Train Loss: 0.0732 Accuracy : 97.51%\n",
      "Validation Accuracy: 86.88%\n"
     ]
    },
    {
     "name": "stderr",
     "output_type": "stream",
     "text": [
      "Epoch 45/100: 100%|██████████| 234/234 [00:26<00:00,  8.86it/s]\n"
     ]
    },
    {
     "name": "stdout",
     "output_type": "stream",
     "text": [
      "[Epoch 45] Train Loss: 0.0739 Accuracy : 97.59%\n",
      "Validation Accuracy: 85.62%\n"
     ]
    },
    {
     "name": "stderr",
     "output_type": "stream",
     "text": [
      "Epoch 46/100: 100%|██████████| 234/234 [00:27<00:00,  8.37it/s]\n"
     ]
    },
    {
     "name": "stdout",
     "output_type": "stream",
     "text": [
      "[Epoch 46] Train Loss: 0.0615 Accuracy : 97.99%\n",
      "Validation Accuracy: 85.75%\n"
     ]
    },
    {
     "name": "stderr",
     "output_type": "stream",
     "text": [
      "Epoch 47/100: 100%|██████████| 234/234 [00:27<00:00,  8.63it/s]\n"
     ]
    },
    {
     "name": "stdout",
     "output_type": "stream",
     "text": [
      "[Epoch 47] Train Loss: 0.0639 Accuracy : 97.43%\n",
      "Validation Accuracy: 87.88%\n"
     ]
    },
    {
     "name": "stderr",
     "output_type": "stream",
     "text": [
      "Epoch 48/100: 100%|██████████| 234/234 [00:26<00:00,  8.67it/s]\n"
     ]
    },
    {
     "name": "stdout",
     "output_type": "stream",
     "text": [
      "[Epoch 48] Train Loss: 0.0570 Accuracy : 97.94%\n",
      "Validation Accuracy: 86.00%\n"
     ]
    },
    {
     "name": "stderr",
     "output_type": "stream",
     "text": [
      "Epoch 49/100: 100%|██████████| 234/234 [00:24<00:00,  9.44it/s]\n"
     ]
    },
    {
     "name": "stdout",
     "output_type": "stream",
     "text": [
      "[Epoch 49] Train Loss: 0.0701 Accuracy : 97.56%\n",
      "Validation Accuracy: 86.12%\n"
     ]
    },
    {
     "name": "stderr",
     "output_type": "stream",
     "text": [
      "Epoch 50/100: 100%|██████████| 234/234 [00:26<00:00,  8.69it/s]\n"
     ]
    },
    {
     "name": "stdout",
     "output_type": "stream",
     "text": [
      "[Epoch 50] Train Loss: 0.0604 Accuracy : 98.10%\n",
      "Validation Accuracy: 79.00%\n"
     ]
    },
    {
     "name": "stderr",
     "output_type": "stream",
     "text": [
      "Epoch 51/100: 100%|██████████| 234/234 [00:27<00:00,  8.47it/s]\n"
     ]
    },
    {
     "name": "stdout",
     "output_type": "stream",
     "text": [
      "[Epoch 51] Train Loss: 0.0517 Accuracy : 98.23%\n",
      "Validation Accuracy: 85.88%\n"
     ]
    },
    {
     "name": "stderr",
     "output_type": "stream",
     "text": [
      "Epoch 52/100: 100%|██████████| 234/234 [00:30<00:00,  7.69it/s]\n"
     ]
    },
    {
     "name": "stdout",
     "output_type": "stream",
     "text": [
      "[Epoch 52] Train Loss: 0.0412 Accuracy : 98.61%\n",
      "Validation Accuracy: 87.62%\n"
     ]
    },
    {
     "name": "stderr",
     "output_type": "stream",
     "text": [
      "Epoch 53/100: 100%|██████████| 234/234 [00:27<00:00,  8.58it/s]\n"
     ]
    },
    {
     "name": "stdout",
     "output_type": "stream",
     "text": [
      "[Epoch 53] Train Loss: 0.0519 Accuracy : 97.99%\n",
      "Validation Accuracy: 87.50%\n"
     ]
    },
    {
     "name": "stderr",
     "output_type": "stream",
     "text": [
      "Epoch 54/100: 100%|██████████| 234/234 [00:30<00:00,  7.72it/s]\n"
     ]
    },
    {
     "name": "stdout",
     "output_type": "stream",
     "text": [
      "[Epoch 54] Train Loss: 0.0708 Accuracy : 97.53%\n",
      "Validation Accuracy: 83.62%\n"
     ]
    },
    {
     "name": "stderr",
     "output_type": "stream",
     "text": [
      "Epoch 55/100: 100%|██████████| 234/234 [00:26<00:00,  8.96it/s]\n"
     ]
    },
    {
     "name": "stdout",
     "output_type": "stream",
     "text": [
      "[Epoch 55] Train Loss: 0.0564 Accuracy : 97.70%\n",
      "Validation Accuracy: 84.50%\n"
     ]
    },
    {
     "name": "stderr",
     "output_type": "stream",
     "text": [
      "Epoch 56/100: 100%|██████████| 234/234 [00:25<00:00,  9.05it/s]\n"
     ]
    },
    {
     "name": "stdout",
     "output_type": "stream",
     "text": [
      "[Epoch 56] Train Loss: 0.0534 Accuracy : 98.12%\n",
      "Validation Accuracy: 86.25%\n"
     ]
    },
    {
     "name": "stderr",
     "output_type": "stream",
     "text": [
      "Epoch 57/100: 100%|██████████| 234/234 [00:28<00:00,  8.22it/s]\n"
     ]
    },
    {
     "name": "stdout",
     "output_type": "stream",
     "text": [
      "[Epoch 57] Train Loss: 0.0426 Accuracy : 98.58%\n",
      "Validation Accuracy: 88.00%\n",
      "✅ Best model saved!\n"
     ]
    },
    {
     "name": "stderr",
     "output_type": "stream",
     "text": [
      "Epoch 58/100: 100%|██████████| 234/234 [00:28<00:00,  8.15it/s]\n"
     ]
    },
    {
     "name": "stdout",
     "output_type": "stream",
     "text": [
      "[Epoch 58] Train Loss: 0.0463 Accuracy : 98.37%\n",
      "Validation Accuracy: 86.25%\n"
     ]
    },
    {
     "name": "stderr",
     "output_type": "stream",
     "text": [
      "Epoch 59/100: 100%|██████████| 234/234 [00:28<00:00,  8.22it/s]\n"
     ]
    },
    {
     "name": "stdout",
     "output_type": "stream",
     "text": [
      "[Epoch 59] Train Loss: 0.0575 Accuracy : 97.99%\n",
      "Validation Accuracy: 87.12%\n"
     ]
    },
    {
     "name": "stderr",
     "output_type": "stream",
     "text": [
      "Epoch 60/100: 100%|██████████| 234/234 [00:27<00:00,  8.39it/s]\n"
     ]
    },
    {
     "name": "stdout",
     "output_type": "stream",
     "text": [
      "[Epoch 60] Train Loss: 0.0597 Accuracy : 97.96%\n",
      "Validation Accuracy: 87.00%\n"
     ]
    },
    {
     "name": "stderr",
     "output_type": "stream",
     "text": [
      "Epoch 61/100: 100%|██████████| 234/234 [00:27<00:00,  8.44it/s]\n"
     ]
    },
    {
     "name": "stdout",
     "output_type": "stream",
     "text": [
      "[Epoch 61] Train Loss: 0.0468 Accuracy : 98.31%\n",
      "Validation Accuracy: 87.62%\n"
     ]
    },
    {
     "name": "stderr",
     "output_type": "stream",
     "text": [
      "Epoch 62/100: 100%|██████████| 234/234 [00:26<00:00,  8.77it/s]\n"
     ]
    },
    {
     "name": "stdout",
     "output_type": "stream",
     "text": [
      "[Epoch 62] Train Loss: 0.0512 Accuracy : 98.04%\n",
      "Validation Accuracy: 87.00%\n"
     ]
    },
    {
     "name": "stderr",
     "output_type": "stream",
     "text": [
      "Epoch 63/100: 100%|██████████| 234/234 [00:27<00:00,  8.38it/s]\n"
     ]
    },
    {
     "name": "stdout",
     "output_type": "stream",
     "text": [
      "[Epoch 63] Train Loss: 0.0423 Accuracy : 98.58%\n",
      "Validation Accuracy: 88.12%\n",
      "✅ Best model saved!\n"
     ]
    },
    {
     "name": "stderr",
     "output_type": "stream",
     "text": [
      "Epoch 64/100: 100%|██████████| 234/234 [00:26<00:00,  8.89it/s]\n"
     ]
    },
    {
     "name": "stdout",
     "output_type": "stream",
     "text": [
      "[Epoch 64] Train Loss: 0.0578 Accuracy : 98.10%\n",
      "Validation Accuracy: 87.75%\n"
     ]
    },
    {
     "name": "stderr",
     "output_type": "stream",
     "text": [
      "Epoch 65/100: 100%|██████████| 234/234 [00:29<00:00,  8.06it/s]\n"
     ]
    },
    {
     "name": "stdout",
     "output_type": "stream",
     "text": [
      "[Epoch 65] Train Loss: 0.0657 Accuracy : 97.35%\n",
      "Validation Accuracy: 87.75%\n"
     ]
    },
    {
     "name": "stderr",
     "output_type": "stream",
     "text": [
      "Epoch 66/100: 100%|██████████| 234/234 [00:28<00:00,  8.35it/s]\n"
     ]
    },
    {
     "name": "stdout",
     "output_type": "stream",
     "text": [
      "[Epoch 66] Train Loss: 0.0457 Accuracy : 98.47%\n",
      "Validation Accuracy: 85.38%\n"
     ]
    },
    {
     "name": "stderr",
     "output_type": "stream",
     "text": [
      "Epoch 67/100: 100%|██████████| 234/234 [00:26<00:00,  8.67it/s]\n"
     ]
    },
    {
     "name": "stdout",
     "output_type": "stream",
     "text": [
      "[Epoch 67] Train Loss: 0.0365 Accuracy : 98.69%\n",
      "Validation Accuracy: 87.38%\n"
     ]
    },
    {
     "name": "stderr",
     "output_type": "stream",
     "text": [
      "Epoch 68/100: 100%|██████████| 234/234 [00:27<00:00,  8.44it/s]\n"
     ]
    },
    {
     "name": "stdout",
     "output_type": "stream",
     "text": [
      "[Epoch 68] Train Loss: 0.0357 Accuracy : 98.63%\n",
      "Validation Accuracy: 86.88%\n"
     ]
    },
    {
     "name": "stderr",
     "output_type": "stream",
     "text": [
      "Epoch 69/100: 100%|██████████| 234/234 [00:25<00:00,  9.27it/s]\n"
     ]
    },
    {
     "name": "stdout",
     "output_type": "stream",
     "text": [
      "[Epoch 69] Train Loss: 0.0558 Accuracy : 98.18%\n",
      "Validation Accuracy: 87.25%\n"
     ]
    },
    {
     "name": "stderr",
     "output_type": "stream",
     "text": [
      "Epoch 70/100: 100%|██████████| 234/234 [00:29<00:00,  7.90it/s]\n"
     ]
    },
    {
     "name": "stdout",
     "output_type": "stream",
     "text": [
      "[Epoch 70] Train Loss: 0.0493 Accuracy : 98.12%\n",
      "Validation Accuracy: 86.75%\n"
     ]
    },
    {
     "name": "stderr",
     "output_type": "stream",
     "text": [
      "Epoch 71/100: 100%|██████████| 234/234 [00:26<00:00,  8.93it/s]\n"
     ]
    },
    {
     "name": "stdout",
     "output_type": "stream",
     "text": [
      "[Epoch 71] Train Loss: 0.0406 Accuracy : 98.45%\n",
      "Validation Accuracy: 86.88%\n"
     ]
    },
    {
     "name": "stderr",
     "output_type": "stream",
     "text": [
      "Epoch 72/100: 100%|██████████| 234/234 [00:23<00:00, 10.01it/s]\n"
     ]
    },
    {
     "name": "stdout",
     "output_type": "stream",
     "text": [
      "[Epoch 72] Train Loss: 0.0547 Accuracy : 98.10%\n",
      "Validation Accuracy: 86.62%\n"
     ]
    },
    {
     "name": "stderr",
     "output_type": "stream",
     "text": [
      "Epoch 73/100: 100%|██████████| 234/234 [00:29<00:00,  7.97it/s]\n"
     ]
    },
    {
     "name": "stdout",
     "output_type": "stream",
     "text": [
      "[Epoch 73] Train Loss: 0.0451 Accuracy : 98.58%\n",
      "Validation Accuracy: 87.75%\n"
     ]
    },
    {
     "name": "stderr",
     "output_type": "stream",
     "text": [
      "Epoch 74/100: 100%|██████████| 234/234 [00:27<00:00,  8.39it/s]\n"
     ]
    },
    {
     "name": "stdout",
     "output_type": "stream",
     "text": [
      "[Epoch 74] Train Loss: 0.0291 Accuracy : 98.77%\n",
      "Validation Accuracy: 87.62%\n"
     ]
    },
    {
     "name": "stderr",
     "output_type": "stream",
     "text": [
      "Epoch 75/100: 100%|██████████| 234/234 [00:27<00:00,  8.41it/s]\n"
     ]
    },
    {
     "name": "stdout",
     "output_type": "stream",
     "text": [
      "[Epoch 75] Train Loss: 0.0227 Accuracy : 99.22%\n",
      "Validation Accuracy: 88.00%\n"
     ]
    },
    {
     "name": "stderr",
     "output_type": "stream",
     "text": [
      "Epoch 76/100: 100%|██████████| 234/234 [00:21<00:00, 10.85it/s]\n"
     ]
    },
    {
     "name": "stdout",
     "output_type": "stream",
     "text": [
      "[Epoch 76] Train Loss: 0.0393 Accuracy : 98.61%\n",
      "Validation Accuracy: 86.62%\n"
     ]
    },
    {
     "name": "stderr",
     "output_type": "stream",
     "text": [
      "Epoch 77/100: 100%|██████████| 234/234 [00:25<00:00,  9.23it/s]\n"
     ]
    },
    {
     "name": "stdout",
     "output_type": "stream",
     "text": [
      "[Epoch 77] Train Loss: 0.0437 Accuracy : 98.26%\n",
      "Validation Accuracy: 87.75%\n"
     ]
    },
    {
     "name": "stderr",
     "output_type": "stream",
     "text": [
      "Epoch 78/100: 100%|██████████| 234/234 [00:25<00:00,  9.12it/s]\n"
     ]
    },
    {
     "name": "stdout",
     "output_type": "stream",
     "text": [
      "[Epoch 78] Train Loss: 0.0343 Accuracy : 98.74%\n",
      "Validation Accuracy: 86.88%\n"
     ]
    },
    {
     "name": "stderr",
     "output_type": "stream",
     "text": [
      "Epoch 79/100: 100%|██████████| 234/234 [00:24<00:00,  9.45it/s]\n"
     ]
    },
    {
     "name": "stdout",
     "output_type": "stream",
     "text": [
      "[Epoch 79] Train Loss: 0.0391 Accuracy : 98.85%\n",
      "Validation Accuracy: 85.00%\n"
     ]
    },
    {
     "name": "stderr",
     "output_type": "stream",
     "text": [
      "Epoch 80/100: 100%|██████████| 234/234 [00:32<00:00,  7.19it/s]\n"
     ]
    },
    {
     "name": "stdout",
     "output_type": "stream",
     "text": [
      "[Epoch 80] Train Loss: 0.0683 Accuracy : 97.56%\n",
      "Validation Accuracy: 87.88%\n"
     ]
    },
    {
     "name": "stderr",
     "output_type": "stream",
     "text": [
      "Epoch 81/100: 100%|██████████| 234/234 [00:31<00:00,  7.32it/s]\n"
     ]
    },
    {
     "name": "stdout",
     "output_type": "stream",
     "text": [
      "[Epoch 81] Train Loss: 0.0448 Accuracy : 98.71%\n",
      "Validation Accuracy: 86.38%\n"
     ]
    },
    {
     "name": "stderr",
     "output_type": "stream",
     "text": [
      "Epoch 82/100: 100%|██████████| 234/234 [00:39<00:00,  5.99it/s]\n"
     ]
    },
    {
     "name": "stdout",
     "output_type": "stream",
     "text": [
      "[Epoch 82] Train Loss: 0.0324 Accuracy : 98.90%\n",
      "Validation Accuracy: 87.25%\n"
     ]
    },
    {
     "name": "stderr",
     "output_type": "stream",
     "text": [
      "Epoch 83/100: 100%|██████████| 234/234 [00:37<00:00,  6.24it/s]\n"
     ]
    },
    {
     "name": "stdout",
     "output_type": "stream",
     "text": [
      "[Epoch 83] Train Loss: 0.0240 Accuracy : 99.04%\n",
      "Validation Accuracy: 86.88%\n"
     ]
    },
    {
     "name": "stderr",
     "output_type": "stream",
     "text": [
      "Epoch 84/100: 100%|██████████| 234/234 [00:40<00:00,  5.76it/s]\n"
     ]
    },
    {
     "name": "stdout",
     "output_type": "stream",
     "text": [
      "[Epoch 84] Train Loss: 0.0237 Accuracy : 99.17%\n",
      "Validation Accuracy: 87.50%\n"
     ]
    },
    {
     "name": "stderr",
     "output_type": "stream",
     "text": [
      "Epoch 85/100: 100%|██████████| 234/234 [00:41<00:00,  5.68it/s]\n"
     ]
    },
    {
     "name": "stdout",
     "output_type": "stream",
     "text": [
      "[Epoch 85] Train Loss: 0.0323 Accuracy : 98.82%\n",
      "Validation Accuracy: 86.50%\n"
     ]
    },
    {
     "name": "stderr",
     "output_type": "stream",
     "text": [
      "Epoch 86/100: 100%|██████████| 234/234 [00:32<00:00,  7.15it/s]\n"
     ]
    },
    {
     "name": "stdout",
     "output_type": "stream",
     "text": [
      "[Epoch 86] Train Loss: 0.0238 Accuracy : 99.25%\n",
      "Validation Accuracy: 87.00%\n"
     ]
    },
    {
     "name": "stderr",
     "output_type": "stream",
     "text": [
      "Epoch 87/100: 100%|██████████| 234/234 [00:24<00:00,  9.36it/s]\n"
     ]
    },
    {
     "name": "stdout",
     "output_type": "stream",
     "text": [
      "[Epoch 87] Train Loss: 0.0392 Accuracy : 98.63%\n",
      "Validation Accuracy: 86.62%\n"
     ]
    },
    {
     "name": "stderr",
     "output_type": "stream",
     "text": [
      "Epoch 88/100: 100%|██████████| 234/234 [00:25<00:00,  9.18it/s]\n"
     ]
    },
    {
     "name": "stdout",
     "output_type": "stream",
     "text": [
      "[Epoch 88] Train Loss: 0.0414 Accuracy : 98.71%\n",
      "Validation Accuracy: 86.00%\n"
     ]
    },
    {
     "name": "stderr",
     "output_type": "stream",
     "text": [
      "Epoch 89/100: 100%|██████████| 234/234 [00:24<00:00,  9.44it/s]\n"
     ]
    },
    {
     "name": "stdout",
     "output_type": "stream",
     "text": [
      "[Epoch 89] Train Loss: 0.0353 Accuracy : 98.63%\n",
      "Validation Accuracy: 86.38%\n"
     ]
    },
    {
     "name": "stderr",
     "output_type": "stream",
     "text": [
      "Epoch 90/100: 100%|██████████| 234/234 [00:29<00:00,  7.99it/s]\n"
     ]
    },
    {
     "name": "stdout",
     "output_type": "stream",
     "text": [
      "[Epoch 90] Train Loss: 0.0361 Accuracy : 98.85%\n",
      "Validation Accuracy: 88.38%\n",
      "✅ Best model saved!\n"
     ]
    },
    {
     "name": "stderr",
     "output_type": "stream",
     "text": [
      "Epoch 91/100: 100%|██████████| 234/234 [00:24<00:00,  9.42it/s]\n"
     ]
    },
    {
     "name": "stdout",
     "output_type": "stream",
     "text": [
      "[Epoch 91] Train Loss: 0.0158 Accuracy : 99.38%\n",
      "Validation Accuracy: 87.38%\n"
     ]
    },
    {
     "name": "stderr",
     "output_type": "stream",
     "text": [
      "Epoch 92/100: 100%|██████████| 234/234 [00:28<00:00,  8.21it/s]\n"
     ]
    },
    {
     "name": "stdout",
     "output_type": "stream",
     "text": [
      "[Epoch 92] Train Loss: 0.0340 Accuracy : 98.87%\n",
      "Validation Accuracy: 85.50%\n"
     ]
    },
    {
     "name": "stderr",
     "output_type": "stream",
     "text": [
      "Epoch 93/100: 100%|██████████| 234/234 [00:27<00:00,  8.41it/s]\n"
     ]
    },
    {
     "name": "stdout",
     "output_type": "stream",
     "text": [
      "[Epoch 93] Train Loss: 0.0374 Accuracy : 98.87%\n",
      "Validation Accuracy: 87.75%\n"
     ]
    },
    {
     "name": "stderr",
     "output_type": "stream",
     "text": [
      "Epoch 94/100: 100%|██████████| 234/234 [00:29<00:00,  8.01it/s]\n"
     ]
    },
    {
     "name": "stdout",
     "output_type": "stream",
     "text": [
      "[Epoch 94] Train Loss: 0.0207 Accuracy : 99.33%\n",
      "Validation Accuracy: 86.00%\n"
     ]
    },
    {
     "name": "stderr",
     "output_type": "stream",
     "text": [
      "Epoch 95/100: 100%|██████████| 234/234 [00:27<00:00,  8.49it/s]\n"
     ]
    },
    {
     "name": "stdout",
     "output_type": "stream",
     "text": [
      "[Epoch 95] Train Loss: 0.0390 Accuracy : 98.58%\n",
      "Validation Accuracy: 87.75%\n"
     ]
    },
    {
     "name": "stderr",
     "output_type": "stream",
     "text": [
      "Epoch 96/100: 100%|██████████| 234/234 [00:25<00:00,  9.22it/s]\n"
     ]
    },
    {
     "name": "stdout",
     "output_type": "stream",
     "text": [
      "[Epoch 96] Train Loss: 0.0232 Accuracy : 99.09%\n",
      "Validation Accuracy: 86.12%\n"
     ]
    },
    {
     "name": "stderr",
     "output_type": "stream",
     "text": [
      "Epoch 97/100: 100%|██████████| 234/234 [00:24<00:00,  9.44it/s]\n"
     ]
    },
    {
     "name": "stdout",
     "output_type": "stream",
     "text": [
      "[Epoch 97] Train Loss: 0.0448 Accuracy : 98.37%\n",
      "Validation Accuracy: 86.00%\n"
     ]
    },
    {
     "name": "stderr",
     "output_type": "stream",
     "text": [
      "Epoch 98/100: 100%|██████████| 234/234 [00:24<00:00,  9.64it/s]\n"
     ]
    },
    {
     "name": "stdout",
     "output_type": "stream",
     "text": [
      "[Epoch 98] Train Loss: 0.0227 Accuracy : 99.28%\n",
      "Validation Accuracy: 86.50%\n"
     ]
    },
    {
     "name": "stderr",
     "output_type": "stream",
     "text": [
      "Epoch 99/100: 100%|██████████| 234/234 [00:28<00:00,  8.22it/s]\n"
     ]
    },
    {
     "name": "stdout",
     "output_type": "stream",
     "text": [
      "[Epoch 99] Train Loss: 0.0280 Accuracy : 99.04%\n",
      "Validation Accuracy: 86.62%\n"
     ]
    },
    {
     "name": "stderr",
     "output_type": "stream",
     "text": [
      "Epoch 100/100: 100%|██████████| 234/234 [00:28<00:00,  8.11it/s]\n"
     ]
    },
    {
     "name": "stdout",
     "output_type": "stream",
     "text": [
      "[Epoch 100] Train Loss: 0.0320 Accuracy : 99.01%\n",
      "Validation Accuracy: 86.75%\n",
      "\n",
      "📊 Test Set Evaluation (Best Model 기준):\n",
      "✅ Test Accuracy: 9.27%\n",
      "              precision    recall  f1-score   support\n",
      "\n",
      "         0.0     0.8172    0.7964    0.8066       275\n",
      "         1.0     0.8947    0.9067    0.9007       525\n",
      "\n",
      "    accuracy                         0.8688       800\n",
      "   macro avg     0.8560    0.8515    0.8536       800\n",
      "weighted avg     0.8681    0.8688    0.8683       800\n",
      "\n",
      "AUC: 0.9176\n",
      "Confusion Matrix:\n",
      "[[219  56]\n",
      " [ 49 476]]\n"
     ]
    }
   ],
   "source": [
    "import os\n",
    "import numpy as np\n",
    "from glob import glob\n",
    "from sklearn.model_selection import train_test_split\n",
    "from sklearn.metrics import classification_report\n",
    "from sklearn.metrics import roc_auc_score, confusion_matrix, ConfusionMatrixDisplay\n",
    "import torch\n",
    "import torch.nn as nn\n",
    "from torch.utils.data import Dataset, DataLoader\n",
    "from torchvision import models, transforms\n",
    "import torch.nn.functional as F\n",
    "from tqdm import tqdm\n",
    "import gc\n",
    "\n",
    "\n",
    "# --- 설정 ---\n",
    "SLICE_ROOT = \"/data1/lidc-idri/slices\"\n",
    "BATCH_SIZE = 16\n",
    "NUM_EPOCHS = 100\n",
    "LR = 1e-4\n",
    "DEVICE = torch.device(\"cuda\" if torch.cuda.is_available() else \"cpu\")\n",
    "\n",
    "# --- 라벨 추출 함수 ---\n",
    "def extract_label_from_filename(filename):\n",
    "    try:\n",
    "        score = int(filename.split(\"_\")[-1].replace(\".npy\", \"\"))\n",
    "        if score == 3:\n",
    "            return None\n",
    "        return 1 if score >= 4 else 0\n",
    "    except:\n",
    "        return None\n",
    "\n",
    "# --- 파일 리스트 구성 ---\n",
    "all_files = glob(os.path.join(SLICE_ROOT, \"LIDC-IDRI-*\", \"*.npy\"))\n",
    "file_label_pairs = [(f, extract_label_from_filename(f)) for f in all_files]\n",
    "file_label_pairs = [(f, l) for f, l in file_label_pairs if l is not None]\n",
    "files, labels = zip(*file_label_pairs)\n",
    "\n",
    "# --- 3-way split (70% train / 15% val / 15% test) ---\n",
    "train_files, temp_files, train_labels, temp_labels = train_test_split(\n",
    "    files, labels, test_size=0.3, random_state=42\n",
    ")\n",
    "val_files, test_files, val_labels, test_labels = train_test_split(\n",
    "    temp_files, temp_labels, test_size=0.5, random_state=42\n",
    ")\n",
    "\n",
    "# --- Transform 정의 ---\n",
    "train_transform = transforms.Compose([\n",
    "    transforms.ToPILImage(),\n",
    "    transforms.CenterCrop(180),\n",
    "    transforms.RandomHorizontalFlip(),\n",
    "    transforms.RandomRotation(15),\n",
    "    transforms.GaussianBlur(kernel_size=3, sigma=(0.1, 2.0)),\n",
    "    transforms.ToTensor()\n",
    "])\n",
    "\n",
    "val_transform = transforms.Compose([\n",
    "    transforms.ToPILImage(),\n",
    "    transforms.CenterCrop(180),\n",
    "    transforms.ToTensor()\n",
    "])\n",
    "\n",
    "# --- Dataset 정의 ---\n",
    "class LIDCDataset(Dataset):\n",
    "    def __init__(self, file_paths, labels, transform=None):\n",
    "        self.file_paths = file_paths\n",
    "        self.labels = labels\n",
    "        self.transform = transform\n",
    "\n",
    "    def __len__(self):\n",
    "        return len(self.file_paths)\n",
    "\n",
    "    def __getitem__(self, index):\n",
    "        file_path = self.file_paths[index]\n",
    "        label = self.labels[index]\n",
    "\n",
    "        img = np.load(file_path)\n",
    "        img = np.clip(img, -1000, 400)\n",
    "        img = ((img + 1000) / 1400.0 * 255).astype(np.uint8)  # uint8로 변환\n",
    "        img = img.squeeze()  # shape: (H, W)\n",
    "\n",
    "        if self.transform:\n",
    "            img = self.transform(img)  # img: np.uint8 (H, W) → PIL → tensor(C, H, W)\n",
    "        else:\n",
    "            img = torch.tensor(img / 255.0).unsqueeze(0).float()\n",
    "\n",
    "        return img, torch.tensor(label).float()\n",
    "\n",
    "# --- DataLoader 정의 ---\n",
    "train_dataset = LIDCDataset(train_files, train_labels, transform=train_transform)\n",
    "val_dataset = LIDCDataset(val_files, val_labels, transform=val_transform)\n",
    "test_dataset = LIDCDataset(test_files, test_labels, transform=val_transform)\n",
    "\n",
    "train_loader = DataLoader(train_dataset, batch_size=BATCH_SIZE, shuffle=True)\n",
    "val_loader = DataLoader(val_dataset, batch_size=BATCH_SIZE)\n",
    "test_loader = DataLoader(test_dataset, batch_size=BATCH_SIZE)\n",
    "\n",
    "# --- 모델 정의 ---\n",
    "model = models.resnet18(pretrained=True)\n",
    "model.conv1 = nn.Conv2d(1, 64, kernel_size=7, stride=2, padding=3, bias=False)\n",
    "model.fc = nn.Linear(model.fc.in_features, 1)\n",
    "model = model.to(DEVICE)\n",
    "\n",
    "criterion = nn.BCEWithLogitsLoss()\n",
    "optimizer = torch.optim.Adam(model.parameters(), lr=LR)\n",
    "\n",
    "# --- 저장 경로 및 변수 초기화 ---\n",
    "save_dir = os.path.join(os.path.dirname(os.getcwd()), \"pth\")\n",
    "os.makedirs(save_dir, exist_ok=True)\n",
    "best_val_acc = 0.0\n",
    "\n",
    "# --- 학습 루프 ---\n",
    "for epoch in range(NUM_EPOCHS):\n",
    "    model.train()\n",
    "\n",
    "    epoch_loss = 0\n",
    "    correct = 0\n",
    "    total = 0\n",
    "\n",
    "    for images, labels in tqdm(train_loader, desc=f\"Epoch {epoch+1}/{NUM_EPOCHS}\"):\n",
    "        images = images.to(DEVICE)\n",
    "        labels = labels.unsqueeze(1).to(DEVICE)\n",
    "\n",
    "        outputs = model(images)\n",
    "        loss = criterion(outputs, labels)\n",
    "\n",
    "        optimizer.zero_grad()\n",
    "        loss.backward()\n",
    "        optimizer.step()\n",
    "\n",
    "        predicted = torch.sigmoid(outputs) >= 0.5\n",
    "        total += labels.size(0)\n",
    "        correct += (predicted == labels.long()).sum().item()\n",
    "\n",
    "        epoch_loss += loss.item()\n",
    "        train_acc = correct / total\n",
    "\n",
    "    print(f\"[Epoch {epoch+1}] Train Loss: {epoch_loss/len(train_loader):.4f} Accuracy : {train_acc * 100:.2f}%\")\n",
    "\n",
    "    gc.collect()\n",
    "    torch.cuda.empty_cache()\n",
    "\n",
    "    # --- Validation ---\n",
    "    model.eval()\n",
    "    correct = total = 0\n",
    "    y_true = []\n",
    "    y_pred = []\n",
    "\n",
    "    with torch.no_grad():\n",
    "        for images, labels in val_loader:\n",
    "            images = images.to(DEVICE)\n",
    "            labels = labels.to(DEVICE)\n",
    "\n",
    "            outputs = model(images)\n",
    "            preds = (torch.sigmoid(outputs) > 0.5).squeeze().long()\n",
    "\n",
    "            y_true.extend(labels.cpu().numpy())\n",
    "            y_pred.extend(preds.cpu().numpy())\n",
    "\n",
    "            correct += (preds == labels.long()).sum().item()\n",
    "            total += labels.size(0)\n",
    "\n",
    "    val_acc = correct / total\n",
    "    print(f\"Validation Accuracy: {val_acc * 100:.2f}%\")\n",
    "\n",
    "    if val_acc > best_val_acc:\n",
    "        best_val_acc = val_acc\n",
    "        torch.save(model.state_dict(), os.path.join(save_dir, \"model_aug_resnet18.pth\"))\n",
    "        print(\"✅ Best model saved!\")\n",
    "\n",
    "\n",
    "# --- Test (최종 평가) ---\n",
    "print(\"\\n\\U0001F4CA Test Set Evaluation (Best Model \\uAE30\\uc900):\")\n",
    "model.load_state_dict(torch.load(os.path.join(save_dir, \"model_aug_resnet18.pth\")))\n",
    "model.eval()\n",
    "\n",
    "correct = total = 0\n",
    "y_true = []\n",
    "y_pred = []\n",
    "y_probs = []\n",
    "\n",
    "with torch.no_grad():\n",
    "    for images, labels in test_loader:\n",
    "        images = images.to(DEVICE)\n",
    "        labels = labels.unsqueeze(1).float().to(DEVICE)\n",
    "\n",
    "        outputs = model(images)\n",
    "        probs = torch.sigmoid(outputs).squeeze()\n",
    "        preds = (probs > 0.5).long()\n",
    "\n",
    "        y_true.extend(labels.cpu().numpy())\n",
    "        y_pred.extend(preds.cpu().numpy())\n",
    "        y_probs.extend(probs.cpu().numpy())\n",
    "\n",
    "        correct += (preds == labels.long()).sum().item()\n",
    "        total += labels.size(0)\n",
    "\n",
    "test_acc = correct / total\n",
    "print(f\"\\u2705 Test Accuracy: {test_acc * 100:.2f}%\")\n",
    "print(classification_report(y_true, y_pred, digits=4))\n",
    "\n",
    "# AUC 출력\n",
    "try:\n",
    "    auc_score = roc_auc_score(y_true, y_probs)\n",
    "    print(f\"AUC: {auc_score:.4f}\")\n",
    "except ValueError:\n",
    "    print(\"AUC \\uacc4\\uc0b0 \\uc2e4\\ud328: \\uc591/\\uc74c \\ud074\\ub798\\uc2a4\\uac00 \\ubaa8\\ub450 \\uc788\\uc5b4\\uc57c \\ud568.\")\n",
    "\n",
    "# Confusion Matrix 출력\n",
    "cm = confusion_matrix(y_true, y_pred)\n",
    "print(\"Confusion Matrix:\")\n",
    "print(cm)\n"
   ]
  },
  {
   "cell_type": "code",
   "execution_count": null,
   "metadata": {},
   "outputs": [],
   "source": [
    "import os\n",
    "import numpy as np\n",
    "from glob import glob\n",
    "from sklearn.model_selection import train_test_split\n",
    "from sklearn.metrics import classification_report\n",
    "from sklearn.metrics import roc_auc_score, confusion_matrix, ConfusionMatrixDisplay\n",
    "import torch\n",
    "import torch.nn as nn\n",
    "from torch.utils.data import Dataset, DataLoader\n",
    "from torchvision import models, transforms\n",
    "import torch.nn.functional as F\n",
    "from tqdm import tqdm\n",
    "import gc\n",
    "\n",
    "\n",
    "# --- 설정 ---\n",
    "SLICE_ROOT = \"/data1/lidc-idri/slices\"\n",
    "BATCH_SIZE = 16\n",
    "NUM_EPOCHS = 100\n",
    "LR = 1e-4\n",
    "DEVICE = torch.device(\"cuda\" if torch.cuda.is_available() else \"cpu\")\n",
    "\n",
    "# --- 라벨 추출 함수 ---\n",
    "def extract_label_from_filename(filename):\n",
    "    try:\n",
    "        score = int(filename.split(\"_\")[-1].replace(\".npy\", \"\"))\n",
    "        if score == 3:\n",
    "            return None\n",
    "        return 1 if score >= 4 else 0\n",
    "    except:\n",
    "        return None\n",
    "\n",
    "# --- 파일 리스트 구성 ---\n",
    "all_files = glob(os.path.join(SLICE_ROOT, \"LIDC-IDRI-*\", \"*.npy\"))\n",
    "file_label_pairs = [(f, extract_label_from_filename(f)) for f in all_files]\n",
    "file_label_pairs = [(f, l) for f, l in file_label_pairs if l is not None]\n",
    "files, labels = zip(*file_label_pairs)\n",
    "\n",
    "# --- 3-way split (70% train / 15% val / 15% test) ---\n",
    "train_files, temp_files, train_labels, temp_labels = train_test_split(\n",
    "    files, labels, test_size=0.3, random_state=42\n",
    ")\n",
    "val_files, test_files, val_labels, test_labels = train_test_split(\n",
    "    temp_files, temp_labels, test_size=0.5, random_state=42\n",
    ")\n",
    "\n",
    "# --- Transform 정의 ---\n",
    "common_transform = transforms.Compose([\n",
    "    transforms.ToPILImage(),\n",
    "    transforms.Resize((224, 224)),  # 모든 입력을 동일 크기로 맞춤\n",
    "    transforms.ToTensor()\n",
    "])\n",
    "\n",
    "train_transform = common_transform\n",
    "val_transform = common_transform\n",
    "\n",
    "# --- Dataset 정의 ---\n",
    "class LIDCDataset(Dataset):\n",
    "    def __init__(self, file_paths, labels, transform=None):\n",
    "        self.file_paths = file_paths\n",
    "        self.labels = labels\n",
    "        self.transform = transform\n",
    "\n",
    "    def __len__(self):\n",
    "        return len(self.file_paths)\n",
    "\n",
    "    def __getitem__(self, index):\n",
    "        file_path = self.file_paths[index]\n",
    "        label = self.labels[index]\n",
    "\n",
    "        img = np.load(file_path).astype(np.float32)\n",
    "        img = np.clip(img, -1000, 400)\n",
    "        img = (img + 1000) / 1400.0  # normalize to 0~1\n",
    "        img = np.stack([img] * 3, axis=-1)  # [H, W, 3] for RGB PIL input\n",
    "\n",
    "        if self.transform:\n",
    "            img_tensor = self.transform(img)  # transform includes ToTensor\n",
    "        else:\n",
    "            img_tensor = torch.tensor(img).permute(2, 0, 1).float()\n",
    "\n",
    "        return img_tensor, torch.tensor(label).float()\n",
    "\n",
    "# --- DataLoader 정의 ---\n",
    "train_dataset = LIDCDataset(train_files, train_labels, transform=train_transform)\n",
    "val_dataset = LIDCDataset(val_files, val_labels, transform=val_transform)\n",
    "test_dataset = LIDCDataset(test_files, test_labels, transform=val_transform)\n",
    "\n",
    "train_loader = DataLoader(train_dataset, batch_size=BATCH_SIZE, shuffle=True)\n",
    "val_loader = DataLoader(val_dataset, batch_size=BATCH_SIZE)\n",
    "test_loader = DataLoader(test_dataset, batch_size=BATCH_SIZE)\n",
    "\n",
    "# --- 모델 정의 ---\n",
    "model = models.resnet18(pretrained=True)\n",
    "model.conv1 = nn.Conv2d(1, 64, kernel_size=7, stride=2, padding=3, bias=False)\n",
    "model.fc = nn.Linear(model.fc.in_features, 1)\n",
    "model = model.to(DEVICE)\n",
    "\n",
    "criterion = nn.BCEWithLogitsLoss()\n",
    "optimizer = torch.optim.Adam(model.parameters(), lr=LR)\n",
    "\n",
    "# --- 저장 경로 및 변수 초기화 ---\n",
    "save_dir = os.path.join(os.path.dirname(os.getcwd()), \"pth\")\n",
    "os.makedirs(save_dir, exist_ok=True)\n",
    "best_val_acc = 0.0\n",
    "\n",
    "# --- 학습 루프 ---\n",
    "for epoch in range(NUM_EPOCHS):\n",
    "    model.train()\n",
    "\n",
    "    epoch_loss = 0\n",
    "    correct = 0\n",
    "    total = 0\n",
    "\n",
    "    for images, labels in tqdm(train_loader, desc=f\"Epoch {epoch+1}/{NUM_EPOCHS}\"):\n",
    "        images = images.to(DEVICE)\n",
    "        labels = labels.unsqueeze(1).to(DEVICE)\n",
    "\n",
    "        outputs = model(images)\n",
    "        loss = criterion(outputs, labels)\n",
    "\n",
    "        optimizer.zero_grad()\n",
    "        loss.backward()\n",
    "        optimizer.step()\n",
    "\n",
    "        predicted = torch.sigmoid(outputs) >= 0.5\n",
    "        total += labels.size(0)\n",
    "        correct += (predicted == labels.long()).sum().item()\n",
    "\n",
    "        epoch_loss += loss.item()\n",
    "        train_acc = correct / total\n",
    "\n",
    "    print(f\"[Epoch {epoch+1}] Train Loss: {epoch_loss/len(train_loader):.4f} Accuracy : {train_acc * 100:.2f}%\")\n",
    "\n",
    "    gc.collect()\n",
    "    torch.cuda.empty_cache()\n",
    "\n",
    "    # --- Validation ---\n",
    "    model.eval()\n",
    "    correct = total = 0\n",
    "    y_true = []\n",
    "    y_pred = []\n",
    "\n",
    "    with torch.no_grad():\n",
    "        for images, labels in val_loader:\n",
    "            images = images.to(DEVICE)\n",
    "            labels = labels.to(DEVICE)\n",
    "\n",
    "            outputs = model(images)\n",
    "            preds = (torch.sigmoid(outputs) > 0.5).squeeze().long()\n",
    "\n",
    "            y_true.extend(labels.cpu().numpy())\n",
    "            y_pred.extend(preds.cpu().numpy())\n",
    "\n",
    "            correct += (preds == labels.long()).sum().item()\n",
    "            total += labels.size(0)\n",
    "\n",
    "    val_acc = correct / total\n",
    "    print(f\"Validation Accuracy: {val_acc * 100:.2f}%\")\n",
    "\n",
    "    if val_acc > best_val_acc:\n",
    "        best_val_acc = val_acc\n",
    "        torch.save(model.state_dict(), os.path.join(save_dir, \"best_model_resnet18.pth\"))\n",
    "        print(\"✅ Best model saved!\")\n",
    "\n",
    "\n",
    "# --- Test (최종 평가) ---\n",
    "print(\"\\n\\U0001F4CA Test Set Evaluation (Best Model \\uAE30\\uc900):\")\n",
    "model.load_state_dict(torch.load(os.path.join(save_dir, \"best_model_resnet18.pth\")))\n",
    "model.eval()\n",
    "\n",
    "correct = total = 0\n",
    "y_true = []\n",
    "y_pred = []\n",
    "y_probs = []\n",
    "\n",
    "with torch.no_grad():\n",
    "    for images, labels in test_loader:\n",
    "        images = images.to(DEVICE)\n",
    "        labels = labels.unsqueeze(1).float().to(DEVICE)\n",
    "\n",
    "        outputs = model(images)\n",
    "        probs = torch.sigmoid(outputs).squeeze()\n",
    "        preds = (probs > 0.5).long()\n",
    "\n",
    "        y_true.extend(labels.cpu().numpy())\n",
    "        y_pred.extend(preds.cpu().numpy())\n",
    "        y_probs.extend(probs.cpu().numpy())\n",
    "\n",
    "        correct += (preds == labels.long()).sum().item()\n",
    "        total += labels.size(0)\n",
    "\n",
    "test_acc = correct / total\n",
    "print(f\"\\u2705 Test Accuracy: {test_acc:.2f}%\")\n",
    "print(classification_report(y_true, y_pred, digits=4))\n",
    "\n",
    "# AUC 출력\n",
    "try:\n",
    "    auc_score = roc_auc_score(y_true, y_probs)\n",
    "    print(f\"AUC: {auc_score:.4f}\")\n",
    "except ValueError:\n",
    "    print(\"AUC \\uacc4\\uc0b0 \\uc2e4\\ud328: \\uc591/\\uc74c \\ud074\\ub798\\uc2a4\\uac00 \\ubaa8\\ub450 \\uc788\\uc5b4\\uc57c \\ud568.\")\n",
    "\n",
    "# Confusion Matrix 출력\n",
    "cm = confusion_matrix(y_true, y_pred)\n",
    "print(\"Confusion Matrix:\")\n",
    "print(cm)\n"
   ]
  }
 ],
 "metadata": {
  "kernelspec": {
   "display_name": "lungcancer",
   "language": "python",
   "name": "python3"
  },
  "language_info": {
   "codemirror_mode": {
    "name": "ipython",
    "version": 3
   },
   "file_extension": ".py",
   "mimetype": "text/x-python",
   "name": "python",
   "nbconvert_exporter": "python",
   "pygments_lexer": "ipython3",
   "version": "3.12.9"
  }
 },
 "nbformat": 4,
 "nbformat_minor": 2
}
